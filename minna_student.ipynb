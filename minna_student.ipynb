{
 "cells": [
  {
   "cell_type": "markdown",
   "metadata": {},
   "source": [
    "## Final Project Submission\n",
    "\n",
    "Please fill out:\n",
    "* Student name: Minna Fingerhood\n",
    "* Student pace: full time\n",
    "* Scheduled project review date/time: \n",
    "* Instructor name: Fangfang\n",
    "* Blog post URL:\n"
   ]
  },
  {
   "cell_type": "code",
   "execution_count": 18,
   "metadata": {},
   "outputs": [],
   "source": [
    "# Your code here - remember to use markdown cells for comments as well!"
   ]
  },
  {
   "cell_type": "code",
   "execution_count": 19,
   "metadata": {},
   "outputs": [],
   "source": [
    "#how does date affect the price of houses?\n",
    "#heatmap of lat/long at house prices?\n",
    "#how does bathroom and square footage -- high correlation demonstrated by heatmap\n",
    "\n",
    "\n",
    "\n",
    "\n"
   ]
  },
  {
   "cell_type": "markdown",
   "metadata": {},
   "source": [
    "assingment: \n",
    "    - You'll clean, explore, and model this dataset with a multivariate linear regression to predict the sale price of houses as accurately as possible. \n",
    "\n",
    "questions to keep in mind:\n",
    "\n",
    "    -\"how did you pick the question(s) that you did?\"\n",
    "    -\"why are these questions important from a business perspective?\"\n",
    "    -\"how did you decide on the data cleaning options you performed?\"\n",
    "    -\"why did you choose a given method or library?\"\n",
    "    -\"why did you select those visualizations and what did you learn from each of them?\"\n",
    "    -\"why did you pick those features as predictors?\"\n",
    "    -\"how would you interpret the results?\"\n",
    "    -\"how confident are you in the predictive quality of the results?\"\n",
    "    -\"what are some of the things that could cause the results to be wrong?\""
   ]
  },
  {
   "cell_type": "code",
   "execution_count": 2,
   "metadata": {},
   "outputs": [],
   "source": [
    "#import data and packages\n",
    "import pandas as pd\n",
    "import seaborn as sns\n",
    "import numpy as np \n",
    "import matplotlib.pyplot as plt \n",
    "import statsmodels.formula.api as smf\n",
    "%matplotlib inline\n"
   ]
  },
  {
   "cell_type": "code",
   "execution_count": 3,
   "metadata": {},
   "outputs": [
    {
     "data": {
      "text/plain": [
       "6/23/2014     142\n",
       "6/25/2014     131\n",
       "6/26/2014     131\n",
       "7/8/2014      127\n",
       "4/27/2015     126\n",
       "3/25/2015     123\n",
       "4/28/2015     121\n",
       "4/22/2015     121\n",
       "7/9/2014      121\n",
       "4/14/2015     121\n",
       "6/24/2014     119\n",
       "4/21/2015     119\n",
       "8/26/2014     117\n",
       "10/28/2014    117\n",
       "7/14/2014     116\n",
       "5/20/2014     116\n",
       "7/1/2014      115\n",
       "8/20/2014     114\n",
       "4/29/2015     113\n",
       "6/17/2014     113\n",
       "4/8/2015      112\n",
       "7/29/2014     112\n",
       "7/16/2014     111\n",
       "5/28/2014     111\n",
       "4/23/2015     110\n",
       "8/5/2014      109\n",
       "8/25/2014     109\n",
       "3/27/2015     109\n",
       "8/11/2014     107\n",
       "7/23/2014     107\n",
       "             ... \n",
       "3/15/2015       3\n",
       "2/14/2015       3\n",
       "8/10/2014       3\n",
       "11/15/2014      2\n",
       "5/10/2015       2\n",
       "12/27/2014      2\n",
       "8/24/2014       2\n",
       "12/21/2014      2\n",
       "9/7/2014        2\n",
       "7/4/2014        2\n",
       "8/9/2014        2\n",
       "11/28/2014      2\n",
       "10/11/2014      2\n",
       "2/1/2015        2\n",
       "5/11/2014       2\n",
       "12/7/2014       2\n",
       "5/24/2015       1\n",
       "5/17/2014       1\n",
       "1/10/2015       1\n",
       "11/2/2014       1\n",
       "5/27/2015       1\n",
       "8/3/2014        1\n",
       "1/31/2015       1\n",
       "1/17/2015       1\n",
       "3/8/2015        1\n",
       "7/27/2014       1\n",
       "5/15/2015       1\n",
       "8/30/2014       1\n",
       "11/30/2014      1\n",
       "2/15/2015       1\n",
       "Name: date, Length: 372, dtype: int64"
      ]
     },
     "execution_count": 3,
     "metadata": {},
     "output_type": "execute_result"
    }
   ],
   "source": [
    "df = pd.read_csv('kc_house_data.csv')\n",
    "df.date.value_counts()"
   ]
  },
  {
   "cell_type": "code",
   "execution_count": 4,
   "metadata": {},
   "outputs": [
    {
     "name": "stdout",
     "output_type": "stream",
     "text": [
      "               id        date      price  bedrooms  bathrooms  sqft_living  \\\n",
      "0      7129300520  10/13/2014   221900.0         3       1.00         1180   \n",
      "1      6414100192   12/9/2014   538000.0         3       2.25         2570   \n",
      "2      5631500400   2/25/2015   180000.0         2       1.00          770   \n",
      "3      2487200875   12/9/2014   604000.0         4       3.00         1960   \n",
      "4      1954400510   2/18/2015   510000.0         3       2.00         1680   \n",
      "5      7237550310   5/12/2014  1230000.0         4       4.50         5420   \n",
      "6      1321400060   6/27/2014   257500.0         3       2.25         1715   \n",
      "7      2008000270   1/15/2015   291850.0         3       1.50         1060   \n",
      "8      2414600126   4/15/2015   229500.0         3       1.00         1780   \n",
      "9      3793500160   3/12/2015   323000.0         3       2.50         1890   \n",
      "10     1736800520    4/3/2015   662500.0         3       2.50         3560   \n",
      "11     9212900260   5/27/2014   468000.0         2       1.00         1160   \n",
      "12      114101516   5/28/2014   310000.0         3       1.00         1430   \n",
      "13     6054650070   10/7/2014   400000.0         3       1.75         1370   \n",
      "14     1175000570   3/12/2015   530000.0         5       2.00         1810   \n",
      "15     9297300055   1/24/2015   650000.0         4       3.00         2950   \n",
      "16     1875500060   7/31/2014   395000.0         3       2.00         1890   \n",
      "17     6865200140   5/29/2014   485000.0         4       1.00         1600   \n",
      "18       16000397   12/5/2014   189000.0         2       1.00         1200   \n",
      "19     7983200060   4/24/2015   230000.0         3       1.00         1250   \n",
      "20     6300500875   5/14/2014   385000.0         4       1.75         1620   \n",
      "21     2524049179   8/26/2014  2000000.0         3       2.75         3050   \n",
      "22     7137970340    7/3/2014   285000.0         5       2.50         2270   \n",
      "23     8091400200   5/16/2014   252700.0         2       1.50         1070   \n",
      "24     3814700200  11/20/2014   329000.0         3       2.25         2450   \n",
      "25     1202000200   11/3/2014   233000.0         3       2.00         1710   \n",
      "26     1794500383   6/26/2014   937000.0         3       1.75         2450   \n",
      "27     3303700376   12/1/2014   667000.0         3       1.00         1400   \n",
      "28     5101402488   6/24/2014   438000.0         3       1.75         1520   \n",
      "29     1873100390    3/2/2015   719000.0         4       2.50         2570   \n",
      "...           ...         ...        ...       ...        ...          ...   \n",
      "21567  2025049203   6/10/2014   399950.0         2       1.00          710   \n",
      "21568   952006823   12/2/2014   380000.0         3       2.50         1260   \n",
      "21569  3832050760   8/28/2014   270000.0         3       2.50         1870   \n",
      "21570  2767604724  10/15/2014   505000.0         2       2.50         1430   \n",
      "21571  6632300207    3/5/2015   385000.0         3       2.50         1520   \n",
      "21572  2767600688  11/13/2014   414500.0         2       1.50         1210   \n",
      "21573  7570050450   9/10/2014   347500.0         3       2.50         2540   \n",
      "21574  7430200100   5/14/2014  1220000.0         4       3.50         4910   \n",
      "21575  4140940150   10/2/2014   572000.0         4       2.75         2770   \n",
      "21576  1931300412   4/16/2015   475000.0         3       2.25         1190   \n",
      "21577  8672200110   3/17/2015  1090000.0         5       3.75         4170   \n",
      "21578  5087900040  10/17/2014   350000.0         4       2.75         2500   \n",
      "21579  1972201967  10/31/2014   520000.0         2       2.25         1530   \n",
      "21580  7502800100   8/13/2014   679950.0         5       2.75         3600   \n",
      "21581   191100405   4/21/2015  1580000.0         4       3.25         3410   \n",
      "21582  8956200760  10/13/2014   541800.0         4       2.50         3118   \n",
      "21583  7202300110   9/15/2014   810000.0         4       3.00         3990   \n",
      "21584   249000205  10/15/2014  1540000.0         5       3.75         4470   \n",
      "21585  5100403806    4/7/2015   467000.0         3       2.50         1425   \n",
      "21586   844000965   6/26/2014   224000.0         3       1.75         1500   \n",
      "21587  7852140040   8/25/2014   507250.0         3       2.50         2270   \n",
      "21588  9834201367   1/26/2015   429000.0         3       2.00         1490   \n",
      "21589  3448900210  10/14/2014   610685.0         4       2.50         2520   \n",
      "21590  7936000429   3/26/2015  1010000.0         4       3.50         3510   \n",
      "21591  2997800021   2/19/2015   475000.0         3       2.50         1310   \n",
      "21592   263000018   5/21/2014   360000.0         3       2.50         1530   \n",
      "21593  6600060120   2/23/2015   400000.0         4       2.50         2310   \n",
      "21594  1523300141   6/23/2014   402101.0         2       0.75         1020   \n",
      "21595   291310100   1/16/2015   400000.0         3       2.50         1600   \n",
      "21596  1523300157  10/15/2014   325000.0         2       0.75         1020   \n",
      "\n",
      "       sqft_lot  floors  waterfront  view  ...  grade  sqft_above  \\\n",
      "0          5650     1.0         0.0   0.0  ...      7        1180   \n",
      "1          7242     2.0         0.0   0.0  ...      7        2170   \n",
      "2         10000     1.0         0.0   0.0  ...      6         770   \n",
      "3          5000     1.0         0.0   0.0  ...      7        1050   \n",
      "4          8080     1.0         0.0   0.0  ...      8        1680   \n",
      "5        101930     1.0         0.0   0.0  ...     11        3890   \n",
      "6          6819     2.0         0.0   0.0  ...      7        1715   \n",
      "7          9711     1.0         0.0   NaN  ...      7        1060   \n",
      "8          7470     1.0         0.0   0.0  ...      7        1050   \n",
      "9          6560     2.0         0.0   0.0  ...      7        1890   \n",
      "10         9796     1.0         0.0   0.0  ...      8        1860   \n",
      "11         6000     1.0         0.0   0.0  ...      7         860   \n",
      "12        19901     1.5         0.0   0.0  ...      7        1430   \n",
      "13         9680     1.0         0.0   0.0  ...      7        1370   \n",
      "14         4850     1.5         0.0   0.0  ...      7        1810   \n",
      "15         5000     2.0         0.0   3.0  ...      9        1980   \n",
      "16        14040     2.0         0.0   0.0  ...      7        1890   \n",
      "17         4300     1.5         0.0   0.0  ...      7        1600   \n",
      "18         9850     1.0         0.0   0.0  ...      7        1200   \n",
      "19         9774     1.0         0.0   0.0  ...      7        1250   \n",
      "20         4980     1.0         0.0   0.0  ...      7         860   \n",
      "21        44867     1.0         0.0   4.0  ...      9        2330   \n",
      "22         6300     2.0         0.0   0.0  ...      8        2270   \n",
      "23         9643     1.0         0.0   0.0  ...      7        1070   \n",
      "24         6500     2.0         0.0   0.0  ...      8        2450   \n",
      "25         4697     1.5         0.0   0.0  ...      6        1710   \n",
      "26         2691     2.0         0.0   0.0  ...      8        1750   \n",
      "27         1581     1.5         0.0   0.0  ...      8        1400   \n",
      "28         6380     1.0         0.0   0.0  ...      7         790   \n",
      "29         7173     2.0         0.0   0.0  ...      8        2570   \n",
      "...         ...     ...         ...   ...  ...    ...         ...   \n",
      "21567      1157     2.0         0.0   0.0  ...      7         710   \n",
      "21568       900     2.0         0.0   0.0  ...      7         940   \n",
      "21569      5000     2.0         0.0   0.0  ...      7        1870   \n",
      "21570      1201     3.0         0.0   0.0  ...      8        1430   \n",
      "21571      1488     3.0         0.0   0.0  ...      8        1520   \n",
      "21572      1278     2.0         0.0   0.0  ...      8        1020   \n",
      "21573      4760     2.0         0.0   0.0  ...      8        2540   \n",
      "21574      9444     1.5         0.0   0.0  ...     11        3110   \n",
      "21575      3852     2.0         0.0   0.0  ...      8        2770   \n",
      "21576      1200     3.0         0.0   0.0  ...      8        1190   \n",
      "21577      8142     2.0         0.0   2.0  ...     10        4170   \n",
      "21578      5995     2.0         0.0   0.0  ...      8        2500   \n",
      "21579       981     3.0         0.0   0.0  ...      8        1480   \n",
      "21580      9437     2.0         0.0   0.0  ...      9        3600   \n",
      "21581     10125     2.0         0.0   0.0  ...     10        3410   \n",
      "21582      7866     2.0         0.0   2.0  ...      9        3118   \n",
      "21583      7838     2.0         0.0   0.0  ...      9        3990   \n",
      "21584      8088     2.0         0.0   0.0  ...     11        4470   \n",
      "21585      1179     3.0         0.0   0.0  ...      8        1425   \n",
      "21586     11968     1.0         0.0   0.0  ...      6        1500   \n",
      "21587      5536     2.0         0.0   0.0  ...      8        2270   \n",
      "21588      1126     3.0         0.0   0.0  ...      8        1490   \n",
      "21589      6023     2.0         0.0   NaN  ...      9        2520   \n",
      "21590      7200     2.0         0.0   0.0  ...      9        2600   \n",
      "21591      1294     2.0         0.0   0.0  ...      8        1180   \n",
      "21592      1131     3.0         0.0   0.0  ...      8        1530   \n",
      "21593      5813     2.0         0.0   0.0  ...      8        2310   \n",
      "21594      1350     2.0         0.0   0.0  ...      7        1020   \n",
      "21595      2388     2.0         0.0   0.0  ...      8        1600   \n",
      "21596      1076     2.0         0.0   0.0  ...      7        1020   \n",
      "\n",
      "       sqft_basement  yr_built  yr_renovated  zipcode      lat     long  \\\n",
      "0              700.0      1955           NaN    98178  47.5112 -122.257   \n",
      "1              400.0      1951        1991.0    98125  47.7210 -122.319   \n",
      "2              700.0      1933           NaN    98028  47.7379 -122.233   \n",
      "3              910.0      1965           NaN    98136  47.5208 -122.393   \n",
      "4              700.0      1987           NaN    98074  47.6168 -122.045   \n",
      "5             1530.0      2001           NaN    98053  47.6561 -122.005   \n",
      "6              700.0      1995           NaN    98003  47.3097 -122.327   \n",
      "7              700.0      1963           NaN    98198  47.4095 -122.315   \n",
      "8              730.0      1960           NaN    98146  47.5123 -122.337   \n",
      "9              700.0      2003           NaN    98038  47.3684 -122.031   \n",
      "10            1700.0      1965           NaN    98007  47.6007 -122.145   \n",
      "11             300.0      1942           NaN    98115  47.6900 -122.292   \n",
      "12             700.0      1927           NaN    98028  47.7558 -122.229   \n",
      "13             700.0      1977           NaN    98074  47.6127 -122.045   \n",
      "14             700.0      1900           NaN    98107  47.6700 -122.394   \n",
      "15             970.0      1979           NaN    98126  47.5714 -122.375   \n",
      "16             700.0      1994           NaN    98019  47.7277 -121.962   \n",
      "17             700.0      1916           NaN    98103  47.6648 -122.343   \n",
      "18             700.0      1921           NaN    98002  47.3089 -122.210   \n",
      "19             700.0      1969           NaN    98003  47.3343 -122.306   \n",
      "20             760.0      1947           NaN    98133  47.7025 -122.341   \n",
      "21             720.0      1968           NaN    98040  47.5316 -122.233   \n",
      "22             700.0      1995           NaN    98092  47.3266 -122.169   \n",
      "23             700.0      1985           NaN    98030  47.3533 -122.166   \n",
      "24             700.0      1985           NaN    98030  47.3739 -122.172   \n",
      "25             700.0      1941           NaN    98002  47.3048 -122.218   \n",
      "26             700.0      1915           NaN    98119  47.6386 -122.360   \n",
      "27             700.0      1909           NaN    98112  47.6221 -122.314   \n",
      "28             730.0      1948           NaN    98115  47.6950 -122.304   \n",
      "29             700.0      2005           NaN    98052  47.7073 -122.110   \n",
      "...              ...       ...           ...      ...      ...      ...   \n",
      "21567          700.0      1943           NaN    98102  47.6413 -122.329   \n",
      "21568          320.0      2007           NaN    98116  47.5621 -122.384   \n",
      "21569          700.0      2009           NaN    98042  47.3339 -122.055   \n",
      "21570          700.0      2009           NaN    98107  47.6707 -122.381   \n",
      "21571          700.0      2006           NaN    98125  47.7337 -122.309   \n",
      "21572          190.0      2007           NaN    98117  47.6756 -122.375   \n",
      "21573          700.0      2010           NaN    98038  47.3452 -122.022   \n",
      "21574         1800.0      2007           NaN    98074  47.6502 -122.066   \n",
      "21575          700.0      2014           NaN    98178  47.5001 -122.232   \n",
      "21576          700.0      2008           NaN    98103  47.6542 -122.346   \n",
      "21577          700.0      2006           NaN    98056  47.5354 -122.181   \n",
      "21578          700.0      2008           NaN    98042  47.3749 -122.107   \n",
      "21579           50.0      2006           NaN    98103  47.6533 -122.346   \n",
      "21580          700.0      2014           NaN    98059  47.4822 -122.131   \n",
      "21581          700.0      2007           NaN    98040  47.5653 -122.223   \n",
      "21582          700.0      2014           NaN    98001  47.2931 -122.264   \n",
      "21583          700.0      2003           NaN    98053  47.6857 -122.046   \n",
      "21584          700.0      2008           NaN    98004  47.6321 -122.200   \n",
      "21585          700.0      2008           NaN    98125  47.6963 -122.318   \n",
      "21586          700.0      2014           NaN    98010  47.3095 -122.002   \n",
      "21587          700.0      2003           NaN    98065  47.5389 -121.881   \n",
      "21588          700.0      2014           NaN    98144  47.5699 -122.288   \n",
      "21589          700.0      2014           NaN    98056  47.5137 -122.167   \n",
      "21590          910.0      2009           NaN    98136  47.5537 -122.398   \n",
      "21591          130.0      2008           NaN    98116  47.5773 -122.409   \n",
      "21592          700.0      2009           NaN    98103  47.6993 -122.346   \n",
      "21593          700.0      2014           NaN    98146  47.5107 -122.362   \n",
      "21594          700.0      2009           NaN    98144  47.5944 -122.299   \n",
      "21595          700.0      2004           NaN    98027  47.5345 -122.069   \n",
      "21596          700.0      2008           NaN    98144  47.5941 -122.299   \n",
      "\n",
      "       sqft_living15  sqft_lot15  \n",
      "0               1340        5650  \n",
      "1               1690        7639  \n",
      "2               2720        8062  \n",
      "3               1360        5000  \n",
      "4               1800        7503  \n",
      "5               4760      101930  \n",
      "6               2238        6819  \n",
      "7               1650        9711  \n",
      "8               1780        8113  \n",
      "9               2390        7570  \n",
      "10              2210        8925  \n",
      "11              1330        6000  \n",
      "12              1780       12697  \n",
      "13              1370       10208  \n",
      "14              1360        4850  \n",
      "15              2140        4000  \n",
      "16              1890       14018  \n",
      "17              1610        4300  \n",
      "18              1060        5095  \n",
      "19              1280        8850  \n",
      "20              1400        4980  \n",
      "21              4110       20336  \n",
      "22              2240        7005  \n",
      "23              1220        8386  \n",
      "24              2200        6865  \n",
      "25              1030        4705  \n",
      "26              1760        3573  \n",
      "27              1860        3861  \n",
      "28              1520        6235  \n",
      "29              2630        6026  \n",
      "...              ...         ...  \n",
      "21567           1370        1173  \n",
      "21568           1310        1415  \n",
      "21569           2170        5399  \n",
      "21570           1430        1249  \n",
      "21571           1520        1497  \n",
      "21572           1210        1118  \n",
      "21573           2540        4571  \n",
      "21574           4560       11063  \n",
      "21575           1810        5641  \n",
      "21576           1180        1224  \n",
      "21577           3030        7980  \n",
      "21578           2530        5988  \n",
      "21579           1530        1282  \n",
      "21580           3550        9421  \n",
      "21581           2290       10125  \n",
      "21582           2673        6500  \n",
      "21583           3370        6814  \n",
      "21584           2780        8964  \n",
      "21585           1285        1253  \n",
      "21586           1320       11303  \n",
      "21587           2270        5731  \n",
      "21588           1400        1230  \n",
      "21589           2520        6023  \n",
      "21590           2050        6200  \n",
      "21591           1330        1265  \n",
      "21592           1530        1509  \n",
      "21593           1830        7200  \n",
      "21594           1020        2007  \n",
      "21595           1410        1287  \n",
      "21596           1020        1357  \n",
      "\n",
      "[21597 rows x 21 columns]\n"
     ]
    },
    {
     "ename": "TypeError",
     "evalue": "can't multiply sequence by non-int of type 'float'",
     "output_type": "error",
     "traceback": [
      "\u001b[0;31m---------------------------------------------------------------------------\u001b[0m",
      "\u001b[0;31mTypeError\u001b[0m                                 Traceback (most recent call last)",
      "\u001b[0;32m<ipython-input-4-52d8fdbd084f>\u001b[0m in \u001b[0;36m<module>\u001b[0;34m\u001b[0m\n\u001b[1;32m     32\u001b[0m \u001b[0;31m#remove outliers:\u001b[0m\u001b[0;34m\u001b[0m\u001b[0;34m\u001b[0m\u001b[0;34m\u001b[0m\u001b[0m\n\u001b[1;32m     33\u001b[0m \u001b[0;32mfor\u001b[0m \u001b[0mcol\u001b[0m \u001b[0;32min\u001b[0m \u001b[0mdf\u001b[0m\u001b[0;34m.\u001b[0m\u001b[0mcolumns\u001b[0m\u001b[0;34m:\u001b[0m\u001b[0;34m\u001b[0m\u001b[0;34m\u001b[0m\u001b[0m\n\u001b[0;32m---> 34\u001b[0;31m     \u001b[0mq1\u001b[0m \u001b[0;34m=\u001b[0m \u001b[0mdf\u001b[0m\u001b[0;34m[\u001b[0m\u001b[0;34m'{}'\u001b[0m\u001b[0;34m.\u001b[0m\u001b[0mformat\u001b[0m\u001b[0;34m(\u001b[0m\u001b[0mcol\u001b[0m\u001b[0;34m)\u001b[0m\u001b[0;34m]\u001b[0m\u001b[0;34m.\u001b[0m\u001b[0mquantile\u001b[0m\u001b[0;34m(\u001b[0m\u001b[0;36m0.25\u001b[0m\u001b[0;34m)\u001b[0m\u001b[0;34m\u001b[0m\u001b[0;34m\u001b[0m\u001b[0m\n\u001b[0m\u001b[1;32m     35\u001b[0m     \u001b[0mq3\u001b[0m \u001b[0;34m=\u001b[0m \u001b[0mdf\u001b[0m\u001b[0;34m[\u001b[0m\u001b[0;34m'{}'\u001b[0m\u001b[0;34m.\u001b[0m\u001b[0mformat\u001b[0m\u001b[0;34m(\u001b[0m\u001b[0mcol\u001b[0m\u001b[0;34m)\u001b[0m\u001b[0;34m]\u001b[0m\u001b[0;34m.\u001b[0m\u001b[0mquantile\u001b[0m\u001b[0;34m(\u001b[0m\u001b[0;36m0.75\u001b[0m\u001b[0;34m)\u001b[0m\u001b[0;34m\u001b[0m\u001b[0;34m\u001b[0m\u001b[0m\n\u001b[1;32m     36\u001b[0m     \u001b[0miqr\u001b[0m \u001b[0;34m=\u001b[0m \u001b[0mq3\u001b[0m\u001b[0;34m-\u001b[0m\u001b[0mq1\u001b[0m \u001b[0;31m#Interquartile range\u001b[0m\u001b[0;34m\u001b[0m\u001b[0;34m\u001b[0m\u001b[0m\n",
      "\u001b[0;32m~/anaconda3/lib/python3.7/site-packages/pandas/core/series.py\u001b[0m in \u001b[0;36mquantile\u001b[0;34m(self, q, interpolation)\u001b[0m\n\u001b[1;32m   2053\u001b[0m \u001b[0;34m\u001b[0m\u001b[0m\n\u001b[1;32m   2054\u001b[0m         result = df.quantile(q=q, interpolation=interpolation,\n\u001b[0;32m-> 2055\u001b[0;31m                              numeric_only=False)\n\u001b[0m\u001b[1;32m   2056\u001b[0m         \u001b[0;32mif\u001b[0m \u001b[0mresult\u001b[0m\u001b[0;34m.\u001b[0m\u001b[0mndim\u001b[0m \u001b[0;34m==\u001b[0m \u001b[0;36m2\u001b[0m\u001b[0;34m:\u001b[0m\u001b[0;34m\u001b[0m\u001b[0;34m\u001b[0m\u001b[0m\n\u001b[1;32m   2057\u001b[0m             \u001b[0mresult\u001b[0m \u001b[0;34m=\u001b[0m \u001b[0mresult\u001b[0m\u001b[0;34m.\u001b[0m\u001b[0miloc\u001b[0m\u001b[0;34m[\u001b[0m\u001b[0;34m:\u001b[0m\u001b[0;34m,\u001b[0m \u001b[0;36m0\u001b[0m\u001b[0;34m]\u001b[0m\u001b[0;34m\u001b[0m\u001b[0;34m\u001b[0m\u001b[0m\n",
      "\u001b[0;32m~/anaconda3/lib/python3.7/site-packages/pandas/core/frame.py\u001b[0m in \u001b[0;36mquantile\u001b[0;34m(self, q, axis, numeric_only, interpolation)\u001b[0m\n\u001b[1;32m   7776\u001b[0m                                      \u001b[0maxis\u001b[0m\u001b[0;34m=\u001b[0m\u001b[0;36m1\u001b[0m\u001b[0;34m,\u001b[0m\u001b[0;34m\u001b[0m\u001b[0;34m\u001b[0m\u001b[0m\n\u001b[1;32m   7777\u001b[0m                                      \u001b[0minterpolation\u001b[0m\u001b[0;34m=\u001b[0m\u001b[0minterpolation\u001b[0m\u001b[0;34m,\u001b[0m\u001b[0;34m\u001b[0m\u001b[0;34m\u001b[0m\u001b[0m\n\u001b[0;32m-> 7778\u001b[0;31m                                      transposed=is_transposed)\n\u001b[0m\u001b[1;32m   7779\u001b[0m \u001b[0;34m\u001b[0m\u001b[0m\n\u001b[1;32m   7780\u001b[0m         \u001b[0;32mif\u001b[0m \u001b[0mresult\u001b[0m\u001b[0;34m.\u001b[0m\u001b[0mndim\u001b[0m \u001b[0;34m==\u001b[0m \u001b[0;36m2\u001b[0m\u001b[0;34m:\u001b[0m\u001b[0;34m\u001b[0m\u001b[0;34m\u001b[0m\u001b[0m\n",
      "\u001b[0;32m~/anaconda3/lib/python3.7/site-packages/pandas/core/internals/managers.py\u001b[0m in \u001b[0;36mquantile\u001b[0;34m(self, axis, consolidate, transposed, interpolation, qs, numeric_only)\u001b[0m\n\u001b[1;32m    445\u001b[0m         \u001b[0maxes\u001b[0m\u001b[0;34m,\u001b[0m \u001b[0mblocks\u001b[0m \u001b[0;34m=\u001b[0m \u001b[0;34m[\u001b[0m\u001b[0;34m]\u001b[0m\u001b[0;34m,\u001b[0m \u001b[0;34m[\u001b[0m\u001b[0;34m]\u001b[0m\u001b[0;34m\u001b[0m\u001b[0;34m\u001b[0m\u001b[0m\n\u001b[1;32m    446\u001b[0m         \u001b[0;32mfor\u001b[0m \u001b[0mb\u001b[0m \u001b[0;32min\u001b[0m \u001b[0mself\u001b[0m\u001b[0;34m.\u001b[0m\u001b[0mblocks\u001b[0m\u001b[0;34m:\u001b[0m\u001b[0;34m\u001b[0m\u001b[0;34m\u001b[0m\u001b[0m\n\u001b[0;32m--> 447\u001b[0;31m             \u001b[0mblock\u001b[0m \u001b[0;34m=\u001b[0m \u001b[0mb\u001b[0m\u001b[0;34m.\u001b[0m\u001b[0mquantile\u001b[0m\u001b[0;34m(\u001b[0m\u001b[0maxis\u001b[0m\u001b[0;34m=\u001b[0m\u001b[0maxis\u001b[0m\u001b[0;34m,\u001b[0m \u001b[0mqs\u001b[0m\u001b[0;34m=\u001b[0m\u001b[0mqs\u001b[0m\u001b[0;34m,\u001b[0m \u001b[0minterpolation\u001b[0m\u001b[0;34m=\u001b[0m\u001b[0minterpolation\u001b[0m\u001b[0;34m)\u001b[0m\u001b[0;34m\u001b[0m\u001b[0;34m\u001b[0m\u001b[0m\n\u001b[0m\u001b[1;32m    448\u001b[0m \u001b[0;34m\u001b[0m\u001b[0m\n\u001b[1;32m    449\u001b[0m             \u001b[0maxe\u001b[0m \u001b[0;34m=\u001b[0m \u001b[0mget_axe\u001b[0m\u001b[0;34m(\u001b[0m\u001b[0mb\u001b[0m\u001b[0;34m,\u001b[0m \u001b[0mqs\u001b[0m\u001b[0;34m,\u001b[0m \u001b[0maxes\u001b[0m\u001b[0;34m=\u001b[0m\u001b[0mself\u001b[0m\u001b[0;34m.\u001b[0m\u001b[0maxes\u001b[0m\u001b[0;34m)\u001b[0m\u001b[0;34m\u001b[0m\u001b[0;34m\u001b[0m\u001b[0m\n",
      "\u001b[0;32m~/anaconda3/lib/python3.7/site-packages/pandas/core/internals/blocks.py\u001b[0m in \u001b[0;36mquantile\u001b[0;34m(self, qs, interpolation, axis)\u001b[0m\n\u001b[1;32m   1485\u001b[0m                                    \u001b[0maxis\u001b[0m\u001b[0;34m=\u001b[0m\u001b[0maxis\u001b[0m\u001b[0;34m,\u001b[0m \u001b[0mna_value\u001b[0m\u001b[0;34m=\u001b[0m\u001b[0mself\u001b[0m\u001b[0;34m.\u001b[0m\u001b[0mfill_value\u001b[0m\u001b[0;34m,\u001b[0m\u001b[0;34m\u001b[0m\u001b[0;34m\u001b[0m\u001b[0m\n\u001b[1;32m   1486\u001b[0m                                    \u001b[0mmask\u001b[0m\u001b[0;34m=\u001b[0m\u001b[0mmask\u001b[0m\u001b[0;34m,\u001b[0m \u001b[0mndim\u001b[0m\u001b[0;34m=\u001b[0m\u001b[0mself\u001b[0m\u001b[0;34m.\u001b[0m\u001b[0mndim\u001b[0m\u001b[0;34m,\u001b[0m\u001b[0;34m\u001b[0m\u001b[0;34m\u001b[0m\u001b[0m\n\u001b[0;32m-> 1487\u001b[0;31m                                    interpolation=interpolation)\n\u001b[0m\u001b[1;32m   1488\u001b[0m \u001b[0;34m\u001b[0m\u001b[0m\n\u001b[1;32m   1489\u001b[0m             \u001b[0mresult\u001b[0m \u001b[0;34m=\u001b[0m \u001b[0mnp\u001b[0m\u001b[0;34m.\u001b[0m\u001b[0marray\u001b[0m\u001b[0;34m(\u001b[0m\u001b[0mresult\u001b[0m\u001b[0;34m,\u001b[0m \u001b[0mcopy\u001b[0m\u001b[0;34m=\u001b[0m\u001b[0;32mFalse\u001b[0m\u001b[0;34m)\u001b[0m\u001b[0;34m\u001b[0m\u001b[0;34m\u001b[0m\u001b[0m\n",
      "\u001b[0;32m~/anaconda3/lib/python3.7/site-packages/pandas/core/nanops.py\u001b[0m in \u001b[0;36mnanpercentile\u001b[0;34m(values, q, axis, na_value, mask, ndim, interpolation)\u001b[0m\n\u001b[1;32m   1270\u001b[0m             \u001b[0;32mreturn\u001b[0m \u001b[0mresult\u001b[0m\u001b[0;34m\u001b[0m\u001b[0;34m\u001b[0m\u001b[0m\n\u001b[1;32m   1271\u001b[0m     \u001b[0;32melse\u001b[0m\u001b[0;34m:\u001b[0m\u001b[0;34m\u001b[0m\u001b[0;34m\u001b[0m\u001b[0m\n\u001b[0;32m-> 1272\u001b[0;31m         \u001b[0;32mreturn\u001b[0m \u001b[0mnp\u001b[0m\u001b[0;34m.\u001b[0m\u001b[0mpercentile\u001b[0m\u001b[0;34m(\u001b[0m\u001b[0mvalues\u001b[0m\u001b[0;34m,\u001b[0m \u001b[0mq\u001b[0m\u001b[0;34m,\u001b[0m \u001b[0maxis\u001b[0m\u001b[0;34m=\u001b[0m\u001b[0maxis\u001b[0m\u001b[0;34m,\u001b[0m \u001b[0minterpolation\u001b[0m\u001b[0;34m=\u001b[0m\u001b[0minterpolation\u001b[0m\u001b[0;34m)\u001b[0m\u001b[0;34m\u001b[0m\u001b[0;34m\u001b[0m\u001b[0m\n\u001b[0m",
      "\u001b[0;32m~/anaconda3/lib/python3.7/site-packages/numpy/lib/function_base.py\u001b[0m in \u001b[0;36mpercentile\u001b[0;34m(a, q, axis, out, overwrite_input, interpolation, keepdims)\u001b[0m\n\u001b[1;32m   3705\u001b[0m         \u001b[0;32mraise\u001b[0m \u001b[0mValueError\u001b[0m\u001b[0;34m(\u001b[0m\u001b[0;34m\"Percentiles must be in the range [0, 100]\"\u001b[0m\u001b[0;34m)\u001b[0m\u001b[0;34m\u001b[0m\u001b[0;34m\u001b[0m\u001b[0m\n\u001b[1;32m   3706\u001b[0m     return _quantile_unchecked(\n\u001b[0;32m-> 3707\u001b[0;31m         a, q, axis, out, overwrite_input, interpolation, keepdims)\n\u001b[0m\u001b[1;32m   3708\u001b[0m \u001b[0;34m\u001b[0m\u001b[0m\n\u001b[1;32m   3709\u001b[0m \u001b[0;34m\u001b[0m\u001b[0m\n",
      "\u001b[0;32m~/anaconda3/lib/python3.7/site-packages/numpy/lib/function_base.py\u001b[0m in \u001b[0;36m_quantile_unchecked\u001b[0;34m(a, q, axis, out, overwrite_input, interpolation, keepdims)\u001b[0m\n\u001b[1;32m   3824\u001b[0m     r, k = _ureduce(a, func=_quantile_ureduce_func, q=q, axis=axis, out=out,\n\u001b[1;32m   3825\u001b[0m                     \u001b[0moverwrite_input\u001b[0m\u001b[0;34m=\u001b[0m\u001b[0moverwrite_input\u001b[0m\u001b[0;34m,\u001b[0m\u001b[0;34m\u001b[0m\u001b[0;34m\u001b[0m\u001b[0m\n\u001b[0;32m-> 3826\u001b[0;31m                     interpolation=interpolation)\n\u001b[0m\u001b[1;32m   3827\u001b[0m     \u001b[0;32mif\u001b[0m \u001b[0mkeepdims\u001b[0m\u001b[0;34m:\u001b[0m\u001b[0;34m\u001b[0m\u001b[0;34m\u001b[0m\u001b[0m\n\u001b[1;32m   3828\u001b[0m         \u001b[0;32mreturn\u001b[0m \u001b[0mr\u001b[0m\u001b[0;34m.\u001b[0m\u001b[0mreshape\u001b[0m\u001b[0;34m(\u001b[0m\u001b[0mq\u001b[0m\u001b[0;34m.\u001b[0m\u001b[0mshape\u001b[0m \u001b[0;34m+\u001b[0m \u001b[0mk\u001b[0m\u001b[0;34m)\u001b[0m\u001b[0;34m\u001b[0m\u001b[0;34m\u001b[0m\u001b[0m\n",
      "\u001b[0;32m~/anaconda3/lib/python3.7/site-packages/numpy/lib/function_base.py\u001b[0m in \u001b[0;36m_ureduce\u001b[0;34m(a, func, **kwargs)\u001b[0m\n\u001b[1;32m   3403\u001b[0m         \u001b[0mkeepdim\u001b[0m \u001b[0;34m=\u001b[0m \u001b[0;34m(\u001b[0m\u001b[0;36m1\u001b[0m\u001b[0;34m,\u001b[0m\u001b[0;34m)\u001b[0m \u001b[0;34m*\u001b[0m \u001b[0ma\u001b[0m\u001b[0;34m.\u001b[0m\u001b[0mndim\u001b[0m\u001b[0;34m\u001b[0m\u001b[0;34m\u001b[0m\u001b[0m\n\u001b[1;32m   3404\u001b[0m \u001b[0;34m\u001b[0m\u001b[0m\n\u001b[0;32m-> 3405\u001b[0;31m     \u001b[0mr\u001b[0m \u001b[0;34m=\u001b[0m \u001b[0mfunc\u001b[0m\u001b[0;34m(\u001b[0m\u001b[0ma\u001b[0m\u001b[0;34m,\u001b[0m \u001b[0;34m**\u001b[0m\u001b[0mkwargs\u001b[0m\u001b[0;34m)\u001b[0m\u001b[0;34m\u001b[0m\u001b[0;34m\u001b[0m\u001b[0m\n\u001b[0m\u001b[1;32m   3406\u001b[0m     \u001b[0;32mreturn\u001b[0m \u001b[0mr\u001b[0m\u001b[0;34m,\u001b[0m \u001b[0mkeepdim\u001b[0m\u001b[0;34m\u001b[0m\u001b[0;34m\u001b[0m\u001b[0m\n\u001b[1;32m   3407\u001b[0m \u001b[0;34m\u001b[0m\u001b[0m\n",
      "\u001b[0;32m~/anaconda3/lib/python3.7/site-packages/numpy/lib/function_base.py\u001b[0m in \u001b[0;36m_quantile_ureduce_func\u001b[0;34m(a, q, axis, out, overwrite_input, interpolation, keepdims)\u001b[0m\n\u001b[1;32m   3939\u001b[0m             \u001b[0mn\u001b[0m \u001b[0;34m=\u001b[0m \u001b[0mnp\u001b[0m\u001b[0;34m.\u001b[0m\u001b[0misnan\u001b[0m\u001b[0;34m(\u001b[0m\u001b[0map\u001b[0m\u001b[0;34m[\u001b[0m\u001b[0;34m-\u001b[0m\u001b[0;36m1\u001b[0m\u001b[0;34m:\u001b[0m\u001b[0;34m,\u001b[0m \u001b[0;34m...\u001b[0m\u001b[0;34m]\u001b[0m\u001b[0;34m)\u001b[0m\u001b[0;34m\u001b[0m\u001b[0;34m\u001b[0m\u001b[0m\n\u001b[1;32m   3940\u001b[0m \u001b[0;34m\u001b[0m\u001b[0m\n\u001b[0;32m-> 3941\u001b[0;31m         \u001b[0mx1\u001b[0m \u001b[0;34m=\u001b[0m \u001b[0mtake\u001b[0m\u001b[0;34m(\u001b[0m\u001b[0map\u001b[0m\u001b[0;34m,\u001b[0m \u001b[0mindices_below\u001b[0m\u001b[0;34m,\u001b[0m \u001b[0maxis\u001b[0m\u001b[0;34m=\u001b[0m\u001b[0maxis\u001b[0m\u001b[0;34m)\u001b[0m \u001b[0;34m*\u001b[0m \u001b[0mweights_below\u001b[0m\u001b[0;34m\u001b[0m\u001b[0;34m\u001b[0m\u001b[0m\n\u001b[0m\u001b[1;32m   3942\u001b[0m         \u001b[0mx2\u001b[0m \u001b[0;34m=\u001b[0m \u001b[0mtake\u001b[0m\u001b[0;34m(\u001b[0m\u001b[0map\u001b[0m\u001b[0;34m,\u001b[0m \u001b[0mindices_above\u001b[0m\u001b[0;34m,\u001b[0m \u001b[0maxis\u001b[0m\u001b[0;34m=\u001b[0m\u001b[0maxis\u001b[0m\u001b[0;34m)\u001b[0m \u001b[0;34m*\u001b[0m \u001b[0mweights_above\u001b[0m\u001b[0;34m\u001b[0m\u001b[0;34m\u001b[0m\u001b[0m\n\u001b[1;32m   3943\u001b[0m \u001b[0;34m\u001b[0m\u001b[0m\n",
      "\u001b[0;31mTypeError\u001b[0m: can't multiply sequence by non-int of type 'float'"
     ]
    }
   ],
   "source": [
    "#data cleaning code: \n",
    "\n",
    "#duplicates are a result of the same house being sold another time... Therefore do not need to delete \n",
    "df[df.id.duplicated(keep=False)].head()\n",
    "\n",
    "\n",
    "#removing outliers:\n",
    "\n",
    "\n",
    "\n",
    "#yr_renovated column has both nan and 0.0 filler values... changes all to nan so 0.0 doesn't skew the data \n",
    "df['yr_renovated'] = df['yr_renovated'].replace(0.0, np.nan)\n",
    "\n",
    "\n",
    "#Should replace null values with 0 because categorical for the column.\n",
    "#going to try with converting null values to 0.0\n",
    "df['waterfront'] = df['waterfront'].fillna(0.0)\n",
    "\n",
    "#had to apply log function to columns(price, sqft_above, sqft_living)\n",
    "\n",
    "#sqft_basement was in string format, so had to convert and then replaced 0.0 with null to find median without skewed outliers\n",
    "#used median to replace null values so that it did not alter mean too much... mean went from 740 to 716 once we replaced \n",
    "df['sqft_basement'] = pd.to_numeric(df['sqft_basement'], errors='coerce')\n",
    "df['sqft_basement'] = df['sqft_basement'].replace(0.0, np.nan)\n",
    "df['sqft_basement'] = df['sqft_basement'].fillna(df['sqft_basement'].median())\n",
    "\n",
    "## made graphs determining the frequency of each variable as well as heat map for correlation (looked specifically at price row)\n",
    "##need to figure out which ones to use in model by determining which are most evenly distributed and most correlated to price \n",
    "df.corr()[abs(df.corr() > 0.75)] #determining high correlations \n",
    "\n",
    "\n",
    "#remove outliers:\n",
    "for col in df.columns:\n",
    "    q1 = df['{}'.format(col)].quantile(0.25)\n",
    "    q3 = df['{}'.format(col)].quantile(0.75)\n",
    "    iqr = q3-q1 #Interquartile range\n",
    "    fence_low  = q1-1.5*iqr\n",
    "    fence_high = q3+1.5*iqr\n",
    "    df_out = df.loc[(df['{}'.format(col)] > fence_low) & (df['{}'.format(col)] < fence_high)]\n",
    "    print(df_out)\n",
    "\n",
    "\n",
    "#found that bathrooms, seqft_living, grade, sqft_above, sqft_living15 are most correlated to price \n",
    "\n",
    "\n",
    "\n"
   ]
  },
  {
   "cell_type": "code",
   "execution_count": null,
   "metadata": {
    "scrolled": true
   },
   "outputs": [],
   "source": [
    "df.head()"
   ]
  },
  {
   "cell_type": "code",
   "execution_count": null,
   "metadata": {},
   "outputs": [],
   "source": [
    "df.view.value_counts()"
   ]
  },
  {
   "cell_type": "code",
   "execution_count": null,
   "metadata": {
    "scrolled": true
   },
   "outputs": [],
   "source": [
    "df.view.value_counts()"
   ]
  },
  {
   "cell_type": "code",
   "execution_count": null,
   "metadata": {},
   "outputs": [],
   "source": [
    "#Inspecting Data: Waterfront and yr_renovated have a lot of null objects... \n",
    "df.info()"
   ]
  },
  {
   "cell_type": "code",
   "execution_count": null,
   "metadata": {},
   "outputs": [],
   "source": [
    "df.describe()"
   ]
  },
  {
   "cell_type": "code",
   "execution_count": null,
   "metadata": {},
   "outputs": [],
   "source": [
    "#check & inspect duplicates\n",
    "df[df.id.duplicated(keep=False)].head()\n",
    "#duplicates are a result of the same house being sold another time... Therefore do not need to delete "
   ]
  },
  {
   "cell_type": "code",
   "execution_count": null,
   "metadata": {},
   "outputs": [],
   "source": [
    "#Cleaning Data!! "
   ]
  },
  {
   "cell_type": "code",
   "execution_count": null,
   "metadata": {},
   "outputs": [],
   "source": [
    "#yr_renovated column has both nan and 0.0 filler values... changes all to nan so 0.0 doesn't skew the data \n",
    "df['yr_renovated'] = df['yr_renovated'].replace(0.0, np.nan)"
   ]
  },
  {
   "cell_type": "code",
   "execution_count": null,
   "metadata": {},
   "outputs": [],
   "source": [
    "df['yr_renovated'].describe()"
   ]
  },
  {
   "cell_type": "code",
   "execution_count": null,
   "metadata": {},
   "outputs": [],
   "source": [
    "#df.waterfront.value_counts() #for waterfronts we have 19075 entries for 0.0\n",
    "#df.waterfront.isnull().value_counts() #we also have 2376 null values... Should replace null values with 0 because categorical for the column. But are null values the same as no waterfront or was the information just unavailable?\n",
    "#df[df.waterfront.isnull()].head()\n",
    "#going to try with converting null values to 0.0\n",
    "df['waterfront'] = df['waterfront'].fillna(0.0)\n"
   ]
  },
  {
   "cell_type": "code",
   "execution_count": null,
   "metadata": {},
   "outputs": [],
   "source": [
    "df.waterfront.isnull().value_counts()"
   ]
  },
  {
   "cell_type": "code",
   "execution_count": null,
   "metadata": {},
   "outputs": [],
   "source": [
    "df.columns"
   ]
  },
  {
   "cell_type": "code",
   "execution_count": null,
   "metadata": {},
   "outputs": [],
   "source": [
    "df['sqft_basement'] = pd.to_numeric(df['sqft_basement'], errors='coerce')\n",
    "df['sqft_basement'] = df['sqft_basement'].replace(0.0, np.nan)\n",
    "df['sqft_basement'] = df['sqft_basement'].fillna(df['sqft_basement'].median())"
   ]
  },
  {
   "cell_type": "code",
   "execution_count": null,
   "metadata": {
    "scrolled": true
   },
   "outputs": [],
   "source": [
    "df['sqft_basement'].describe()"
   ]
  },
  {
   "cell_type": "code",
   "execution_count": null,
   "metadata": {},
   "outputs": [],
   "source": []
  },
  {
   "cell_type": "code",
   "execution_count": null,
   "metadata": {},
   "outputs": [],
   "source": []
  },
  {
   "cell_type": "code",
   "execution_count": 5,
   "metadata": {},
   "outputs": [
    {
     "data": {
      "text/plain": [
       "<matplotlib.axes._subplots.AxesSubplot at 0x10bdba160>"
      ]
     },
     "execution_count": 5,
     "metadata": {},
     "output_type": "execute_result"
    },
    {
     "data": {
      "image/png": "[encoded data removed]",
      "text/plain": [
       "<Figure size 432x288 with 2 Axes>"
      ]
     },
     "metadata": {
      "needs_background": "light"
     },
     "output_type": "display_data"
    }
   ],
   "source": [
    "\n",
    "fig = sns.heatmap(abs(df.corr()), cmap = 'BuPu', linewidth = .5)\n",
    "fig\n"
   ]
  },
  {
   "cell_type": "code",
   "execution_count": 6,
   "metadata": {
    "scrolled": true
   },
   "outputs": [
    {
     "data": {
      "text/html": [
       "<div>\n",
       "<style scoped>\n",
       "    .dataframe tbody tr th:only-of-type {\n",
       "        vertical-align: middle;\n",
       "    }\n",
       "\n",
       "    .dataframe tbody tr th {\n",
       "        vertical-align: top;\n",
       "    }\n",
       "\n",
       "    .dataframe thead th {\n",
       "        text-align: right;\n",
       "    }\n",
       "</style>\n",
       "<table border=\"1\" class=\"dataframe\">\n",
       "  <thead>\n",
       "    <tr style=\"text-align: right;\">\n",
       "      <th></th>\n",
       "      <th>count</th>\n",
       "      <th>mean</th>\n",
       "      <th>std</th>\n",
       "      <th>min</th>\n",
       "      <th>25%</th>\n",
       "      <th>50%</th>\n",
       "      <th>75%</th>\n",
       "      <th>max</th>\n",
       "    </tr>\n",
       "    <tr>\n",
       "      <th>bathrooms</th>\n",
       "      <th></th>\n",
       "      <th></th>\n",
       "      <th></th>\n",
       "      <th></th>\n",
       "      <th></th>\n",
       "      <th></th>\n",
       "      <th></th>\n",
       "      <th></th>\n",
       "    </tr>\n",
       "  </thead>\n",
       "  <tbody>\n",
       "    <tr>\n",
       "      <th>0.50</th>\n",
       "      <td>4.0</td>\n",
       "      <td>2.373750e+05</td>\n",
       "      <td>8.888886e+04</td>\n",
       "      <td>109000.0</td>\n",
       "      <td>218500.0</td>\n",
       "      <td>264000.0</td>\n",
       "      <td>282875.0</td>\n",
       "      <td>312500.0</td>\n",
       "    </tr>\n",
       "    <tr>\n",
       "      <th>0.75</th>\n",
       "      <td>71.0</td>\n",
       "      <td>2.949366e+05</td>\n",
       "      <td>1.390220e+05</td>\n",
       "      <td>80000.0</td>\n",
       "      <td>201000.0</td>\n",
       "      <td>275000.0</td>\n",
       "      <td>355000.0</td>\n",
       "      <td>785000.0</td>\n",
       "    </tr>\n",
       "    <tr>\n",
       "      <th>1.00</th>\n",
       "      <td>3851.0</td>\n",
       "      <td>3.470721e+05</td>\n",
       "      <td>1.545674e+05</td>\n",
       "      <td>78000.0</td>\n",
       "      <td>230000.0</td>\n",
       "      <td>320000.0</td>\n",
       "      <td>425000.0</td>\n",
       "      <td>1300000.0</td>\n",
       "    </tr>\n",
       "    <tr>\n",
       "      <th>1.25</th>\n",
       "      <td>9.0</td>\n",
       "      <td>6.217722e+05</td>\n",
       "      <td>4.088817e+05</td>\n",
       "      <td>275000.0</td>\n",
       "      <td>360000.0</td>\n",
       "      <td>516500.0</td>\n",
       "      <td>545000.0</td>\n",
       "      <td>1390000.0</td>\n",
       "    </tr>\n",
       "    <tr>\n",
       "      <th>1.50</th>\n",
       "      <td>1445.0</td>\n",
       "      <td>4.094297e+05</td>\n",
       "      <td>1.939307e+05</td>\n",
       "      <td>107000.0</td>\n",
       "      <td>265950.0</td>\n",
       "      <td>370000.0</td>\n",
       "      <td>495800.0</td>\n",
       "      <td>1500000.0</td>\n",
       "    </tr>\n",
       "    <tr>\n",
       "      <th>1.75</th>\n",
       "      <td>3048.0</td>\n",
       "      <td>4.549158e+05</td>\n",
       "      <td>2.020492e+05</td>\n",
       "      <td>115000.0</td>\n",
       "      <td>310000.0</td>\n",
       "      <td>422900.0</td>\n",
       "      <td>555000.0</td>\n",
       "      <td>3280000.0</td>\n",
       "    </tr>\n",
       "    <tr>\n",
       "      <th>2.00</th>\n",
       "      <td>1930.0</td>\n",
       "      <td>4.579050e+05</td>\n",
       "      <td>2.060723e+05</td>\n",
       "      <td>115000.0</td>\n",
       "      <td>300500.0</td>\n",
       "      <td>423250.0</td>\n",
       "      <td>563000.0</td>\n",
       "      <td>2200000.0</td>\n",
       "    </tr>\n",
       "    <tr>\n",
       "      <th>2.25</th>\n",
       "      <td>2047.0</td>\n",
       "      <td>5.337688e+05</td>\n",
       "      <td>2.811597e+05</td>\n",
       "      <td>160000.0</td>\n",
       "      <td>339975.0</td>\n",
       "      <td>472500.0</td>\n",
       "      <td>625000.0</td>\n",
       "      <td>2400000.0</td>\n",
       "    </tr>\n",
       "    <tr>\n",
       "      <th>2.50</th>\n",
       "      <td>5377.0</td>\n",
       "      <td>5.538033e+05</td>\n",
       "      <td>2.670712e+05</td>\n",
       "      <td>153503.0</td>\n",
       "      <td>365000.0</td>\n",
       "      <td>499950.0</td>\n",
       "      <td>675000.0</td>\n",
       "      <td>3070000.0</td>\n",
       "    </tr>\n",
       "    <tr>\n",
       "      <th>2.75</th>\n",
       "      <td>1185.0</td>\n",
       "      <td>6.603505e+05</td>\n",
       "      <td>3.098475e+05</td>\n",
       "      <td>183750.0</td>\n",
       "      <td>437000.0</td>\n",
       "      <td>605000.0</td>\n",
       "      <td>796500.0</td>\n",
       "      <td>2700000.0</td>\n",
       "    </tr>\n",
       "    <tr>\n",
       "      <th>3.00</th>\n",
       "      <td>753.0</td>\n",
       "      <td>7.086619e+05</td>\n",
       "      <td>4.308749e+05</td>\n",
       "      <td>154000.0</td>\n",
       "      <td>436000.0</td>\n",
       "      <td>600000.0</td>\n",
       "      <td>850000.0</td>\n",
       "      <td>4490000.0</td>\n",
       "    </tr>\n",
       "    <tr>\n",
       "      <th>3.25</th>\n",
       "      <td>589.0</td>\n",
       "      <td>9.707532e+05</td>\n",
       "      <td>5.633904e+05</td>\n",
       "      <td>176000.0</td>\n",
       "      <td>589500.0</td>\n",
       "      <td>835000.0</td>\n",
       "      <td>1190000.0</td>\n",
       "      <td>3640000.0</td>\n",
       "    </tr>\n",
       "    <tr>\n",
       "      <th>3.50</th>\n",
       "      <td>731.0</td>\n",
       "      <td>9.324017e+05</td>\n",
       "      <td>4.652734e+05</td>\n",
       "      <td>216650.0</td>\n",
       "      <td>619500.0</td>\n",
       "      <td>820000.0</td>\n",
       "      <td>1150000.0</td>\n",
       "      <td>3710000.0</td>\n",
       "    </tr>\n",
       "    <tr>\n",
       "      <th>3.75</th>\n",
       "      <td>155.0</td>\n",
       "      <td>1.198179e+06</td>\n",
       "      <td>5.902669e+05</td>\n",
       "      <td>255000.0</td>\n",
       "      <td>805250.0</td>\n",
       "      <td>1070000.0</td>\n",
       "      <td>1515000.0</td>\n",
       "      <td>3650000.0</td>\n",
       "    </tr>\n",
       "    <tr>\n",
       "      <th>4.00</th>\n",
       "      <td>136.0</td>\n",
       "      <td>1.268405e+06</td>\n",
       "      <td>6.933076e+05</td>\n",
       "      <td>265000.0</td>\n",
       "      <td>796300.0</td>\n",
       "      <td>1055000.0</td>\n",
       "      <td>1527500.0</td>\n",
       "      <td>3400000.0</td>\n",
       "    </tr>\n",
       "    <tr>\n",
       "      <th>4.25</th>\n",
       "      <td>79.0</td>\n",
       "      <td>1.526653e+06</td>\n",
       "      <td>7.616379e+05</td>\n",
       "      <td>490000.0</td>\n",
       "      <td>927500.0</td>\n",
       "      <td>1380000.0</td>\n",
       "      <td>1965000.0</td>\n",
       "      <td>3850000.0</td>\n",
       "    </tr>\n",
       "    <tr>\n",
       "      <th>4.50</th>\n",
       "      <td>100.0</td>\n",
       "      <td>1.334211e+06</td>\n",
       "      <td>8.910568e+05</td>\n",
       "      <td>290000.0</td>\n",
       "      <td>808000.0</td>\n",
       "      <td>1060000.0</td>\n",
       "      <td>1662500.0</td>\n",
       "      <td>7060000.0</td>\n",
       "    </tr>\n",
       "    <tr>\n",
       "      <th>4.75</th>\n",
       "      <td>23.0</td>\n",
       "      <td>2.022300e+06</td>\n",
       "      <td>8.672724e+05</td>\n",
       "      <td>480000.0</td>\n",
       "      <td>1360000.0</td>\n",
       "      <td>2300000.0</td>\n",
       "      <td>2585000.0</td>\n",
       "      <td>3650000.0</td>\n",
       "    </tr>\n",
       "    <tr>\n",
       "      <th>5.00</th>\n",
       "      <td>21.0</td>\n",
       "      <td>1.674167e+06</td>\n",
       "      <td>1.248295e+06</td>\n",
       "      <td>343000.0</td>\n",
       "      <td>740000.0</td>\n",
       "      <td>1430000.0</td>\n",
       "      <td>1880000.0</td>\n",
       "      <td>5350000.0</td>\n",
       "    </tr>\n",
       "    <tr>\n",
       "      <th>5.25</th>\n",
       "      <td>13.0</td>\n",
       "      <td>1.817962e+06</td>\n",
       "      <td>1.241665e+06</td>\n",
       "      <td>300000.0</td>\n",
       "      <td>1150000.0</td>\n",
       "      <td>1420000.0</td>\n",
       "      <td>2250000.0</td>\n",
       "      <td>5110000.0</td>\n",
       "    </tr>\n",
       "    <tr>\n",
       "      <th>5.50</th>\n",
       "      <td>10.0</td>\n",
       "      <td>2.522500e+06</td>\n",
       "      <td>1.254634e+06</td>\n",
       "      <td>925000.0</td>\n",
       "      <td>1525000.0</td>\n",
       "      <td>2340000.0</td>\n",
       "      <td>3595000.0</td>\n",
       "      <td>4500000.0</td>\n",
       "    </tr>\n",
       "    <tr>\n",
       "      <th>5.75</th>\n",
       "      <td>4.0</td>\n",
       "      <td>2.492500e+06</td>\n",
       "      <td>2.153778e+06</td>\n",
       "      <td>540000.0</td>\n",
       "      <td>1575000.0</td>\n",
       "      <td>1930000.0</td>\n",
       "      <td>2847500.0</td>\n",
       "      <td>5570000.0</td>\n",
       "    </tr>\n",
       "    <tr>\n",
       "      <th>6.00</th>\n",
       "      <td>6.0</td>\n",
       "      <td>2.948333e+06</td>\n",
       "      <td>1.706475e+06</td>\n",
       "      <td>900000.0</td>\n",
       "      <td>1655000.0</td>\n",
       "      <td>2895000.0</td>\n",
       "      <td>4067500.0</td>\n",
       "      <td>5300000.0</td>\n",
       "    </tr>\n",
       "    <tr>\n",
       "      <th>6.25</th>\n",
       "      <td>2.0</td>\n",
       "      <td>3.095000e+06</td>\n",
       "      <td>2.899138e+05</td>\n",
       "      <td>2890000.0</td>\n",
       "      <td>2992500.0</td>\n",
       "      <td>3095000.0</td>\n",
       "      <td>3197500.0</td>\n",
       "      <td>3300000.0</td>\n",
       "    </tr>\n",
       "    <tr>\n",
       "      <th>6.50</th>\n",
       "      <td>2.0</td>\n",
       "      <td>1.710000e+06</td>\n",
       "      <td>7.495332e+05</td>\n",
       "      <td>1180000.0</td>\n",
       "      <td>1445000.0</td>\n",
       "      <td>1710000.0</td>\n",
       "      <td>1975000.0</td>\n",
       "      <td>2240000.0</td>\n",
       "    </tr>\n",
       "    <tr>\n",
       "      <th>6.75</th>\n",
       "      <td>2.0</td>\n",
       "      <td>2.735000e+06</td>\n",
       "      <td>2.736503e+06</td>\n",
       "      <td>800000.0</td>\n",
       "      <td>1767500.0</td>\n",
       "      <td>2735000.0</td>\n",
       "      <td>3702500.0</td>\n",
       "      <td>4670000.0</td>\n",
       "    </tr>\n",
       "    <tr>\n",
       "      <th>7.50</th>\n",
       "      <td>1.0</td>\n",
       "      <td>4.500000e+05</td>\n",
       "      <td>NaN</td>\n",
       "      <td>450000.0</td>\n",
       "      <td>450000.0</td>\n",
       "      <td>450000.0</td>\n",
       "      <td>450000.0</td>\n",
       "      <td>450000.0</td>\n",
       "    </tr>\n",
       "    <tr>\n",
       "      <th>7.75</th>\n",
       "      <td>1.0</td>\n",
       "      <td>6.890000e+06</td>\n",
       "      <td>NaN</td>\n",
       "      <td>6890000.0</td>\n",
       "      <td>6890000.0</td>\n",
       "      <td>6890000.0</td>\n",
       "      <td>6890000.0</td>\n",
       "      <td>6890000.0</td>\n",
       "    </tr>\n",
       "    <tr>\n",
       "      <th>8.00</th>\n",
       "      <td>2.0</td>\n",
       "      <td>4.990000e+06</td>\n",
       "      <td>3.832519e+06</td>\n",
       "      <td>2280000.0</td>\n",
       "      <td>3635000.0</td>\n",
       "      <td>4990000.0</td>\n",
       "      <td>6345000.0</td>\n",
       "      <td>7700000.0</td>\n",
       "    </tr>\n",
       "  </tbody>\n",
       "</table>\n",
       "</div>"
      ],
      "text/plain": [
       "            count          mean           std        min        25%  \\\n",
       "bathrooms                                                             \n",
       "0.50          4.0  2.373750e+05  8.888886e+04   109000.0   218500.0   \n",
       "0.75         71.0  2.949366e+05  1.390220e+05    80000.0   201000.0   \n",
       "1.00       3851.0  3.470721e+05  1.545674e+05    78000.0   230000.0   \n",
       "1.25          9.0  6.217722e+05  4.088817e+05   275000.0   360000.0   \n",
       "1.50       1445.0  4.094297e+05  1.939307e+05   107000.0   265950.0   \n",
       "1.75       3048.0  4.549158e+05  2.020492e+05   115000.0   310000.0   \n",
       "2.00       1930.0  4.579050e+05  2.060723e+05   115000.0   300500.0   \n",
       "2.25       2047.0  5.337688e+05  2.811597e+05   160000.0   339975.0   \n",
       "2.50       5377.0  5.538033e+05  2.670712e+05   153503.0   365000.0   \n",
       "2.75       1185.0  6.603505e+05  3.098475e+05   183750.0   437000.0   \n",
       "3.00        753.0  7.086619e+05  4.308749e+05   154000.0   436000.0   \n",
       "3.25        589.0  9.707532e+05  5.633904e+05   176000.0   589500.0   \n",
       "3.50        731.0  9.324017e+05  4.652734e+05   216650.0   619500.0   \n",
       "3.75        155.0  1.198179e+06  5.902669e+05   255000.0   805250.0   \n",
       "4.00        136.0  1.268405e+06  6.933076e+05   265000.0   796300.0   \n",
       "4.25         79.0  1.526653e+06  7.616379e+05   490000.0   927500.0   \n",
       "4.50        100.0  1.334211e+06  8.910568e+05   290000.0   808000.0   \n",
       "4.75         23.0  2.022300e+06  8.672724e+05   480000.0  1360000.0   \n",
       "5.00         21.0  1.674167e+06  1.248295e+06   343000.0   740000.0   \n",
       "5.25         13.0  1.817962e+06  1.241665e+06   300000.0  1150000.0   \n",
       "5.50         10.0  2.522500e+06  1.254634e+06   925000.0  1525000.0   \n",
       "5.75          4.0  2.492500e+06  2.153778e+06   540000.0  1575000.0   \n",
       "6.00          6.0  2.948333e+06  1.706475e+06   900000.0  1655000.0   \n",
       "6.25          2.0  3.095000e+06  2.899138e+05  2890000.0  2992500.0   \n",
       "6.50          2.0  1.710000e+06  7.495332e+05  1180000.0  1445000.0   \n",
       "6.75          2.0  2.735000e+06  2.736503e+06   800000.0  1767500.0   \n",
       "7.50          1.0  4.500000e+05           NaN   450000.0   450000.0   \n",
       "7.75          1.0  6.890000e+06           NaN  6890000.0  6890000.0   \n",
       "8.00          2.0  4.990000e+06  3.832519e+06  2280000.0  3635000.0   \n",
       "\n",
       "                 50%        75%        max  \n",
       "bathrooms                                   \n",
       "0.50        264000.0   282875.0   312500.0  \n",
       "0.75        275000.0   355000.0   785000.0  \n",
       "1.00        320000.0   425000.0  1300000.0  \n",
       "1.25        516500.0   545000.0  1390000.0  \n",
       "1.50        370000.0   495800.0  1500000.0  \n",
       "1.75        422900.0   555000.0  3280000.0  \n",
       "2.00        423250.0   563000.0  2200000.0  \n",
       "2.25        472500.0   625000.0  2400000.0  \n",
       "2.50        499950.0   675000.0  3070000.0  \n",
       "2.75        605000.0   796500.0  2700000.0  \n",
       "3.00        600000.0   850000.0  4490000.0  \n",
       "3.25        835000.0  1190000.0  3640000.0  \n",
       "3.50        820000.0  1150000.0  3710000.0  \n",
       "3.75       1070000.0  1515000.0  3650000.0  \n",
       "4.00       1055000.0  1527500.0  3400000.0  \n",
       "4.25       1380000.0  1965000.0  3850000.0  \n",
       "4.50       1060000.0  1662500.0  7060000.0  \n",
       "4.75       2300000.0  2585000.0  3650000.0  \n",
       "5.00       1430000.0  1880000.0  5350000.0  \n",
       "5.25       1420000.0  2250000.0  5110000.0  \n",
       "5.50       2340000.0  3595000.0  4500000.0  \n",
       "5.75       1930000.0  2847500.0  5570000.0  \n",
       "6.00       2895000.0  4067500.0  5300000.0  \n",
       "6.25       3095000.0  3197500.0  3300000.0  \n",
       "6.50       1710000.0  1975000.0  2240000.0  \n",
       "6.75       2735000.0  3702500.0  4670000.0  \n",
       "7.50        450000.0   450000.0   450000.0  \n",
       "7.75       6890000.0  6890000.0  6890000.0  \n",
       "8.00       4990000.0  6345000.0  7700000.0  "
      ]
     },
     "execution_count": 6,
     "metadata": {},
     "output_type": "execute_result"
    }
   ],
   "source": [
    "df.groupby('bathrooms').price.describe()"
   ]
  },
  {
   "cell_type": "code",
   "execution_count": 7,
   "metadata": {
    "scrolled": true
   },
   "outputs": [
    {
     "data": {
      "text/html": [
       "<table class=\"simpletable\">\n",
       "<caption>OLS Regression Results</caption>\n",
       "<tr>\n",
       "  <th>Dep. Variable:</th>          <td>price</td>      <th>  R-squared:         </th>  <td>   0.535</td>  \n",
       "</tr>\n",
       "<tr>\n",
       "  <th>Model:</th>                   <td>OLS</td>       <th>  Adj. R-squared:    </th>  <td>   0.535</td>  \n",
       "</tr>\n",
       "<tr>\n",
       "  <th>Method:</th>             <td>Least Squares</td>  <th>  F-statistic:       </th>  <td>   8244.</td>  \n",
       "</tr>\n",
       "<tr>\n",
       "  <th>Date:</th>             <td>Wed, 19 Jun 2019</td> <th>  Prob (F-statistic):</th>   <td>  0.00</td>   \n",
       "</tr>\n",
       "<tr>\n",
       "  <th>Time:</th>                 <td>16:20:18</td>     <th>  Log-Likelihood:    </th> <td>-2.9818e+05</td>\n",
       "</tr>\n",
       "<tr>\n",
       "  <th>No. Observations:</th>      <td> 21534</td>      <th>  AIC:               </th>  <td>5.964e+05</td> \n",
       "</tr>\n",
       "<tr>\n",
       "  <th>Df Residuals:</th>          <td> 21530</td>      <th>  BIC:               </th>  <td>5.964e+05</td> \n",
       "</tr>\n",
       "<tr>\n",
       "  <th>Df Model:</th>              <td>     3</td>      <th>                     </th>      <td> </td>     \n",
       "</tr>\n",
       "<tr>\n",
       "  <th>Covariance Type:</th>      <td>nonrobust</td>    <th>                     </th>      <td> </td>     \n",
       "</tr>\n",
       "</table>\n",
       "<table class=\"simpletable\">\n",
       "<tr>\n",
       "       <td></td>          <th>coef</th>     <th>std err</th>      <th>t</th>      <th>P>|t|</th>  <th>[0.025</th>    <th>0.975]</th>  \n",
       "</tr>\n",
       "<tr>\n",
       "  <th>Intercept</th>   <td>-1.666e+04</td> <td> 5031.008</td> <td>   -3.310</td> <td> 0.001</td> <td>-2.65e+04</td> <td>-6793.935</td>\n",
       "</tr>\n",
       "<tr>\n",
       "  <th>bathrooms</th>   <td> 1046.9201</td> <td> 3381.581</td> <td>    0.310</td> <td> 0.757</td> <td>-5581.230</td> <td> 7675.070</td>\n",
       "</tr>\n",
       "<tr>\n",
       "  <th>sqft_living</th> <td>  255.0653</td> <td>    2.901</td> <td>   87.908</td> <td> 0.000</td> <td>  249.378</td> <td>  260.752</td>\n",
       "</tr>\n",
       "<tr>\n",
       "  <th>view</th>        <td> 1.026e+05</td> <td> 2319.239</td> <td>   44.260</td> <td> 0.000</td> <td> 9.81e+04</td> <td> 1.07e+05</td>\n",
       "</tr>\n",
       "</table>\n",
       "<table class=\"simpletable\">\n",
       "<tr>\n",
       "  <th>Omnibus:</th>       <td>14039.827</td> <th>  Durbin-Watson:     </th>  <td>   1.979</td> \n",
       "</tr>\n",
       "<tr>\n",
       "  <th>Prob(Omnibus):</th>  <td> 0.000</td>   <th>  Jarque-Bera (JB):  </th> <td>533664.907</td>\n",
       "</tr>\n",
       "<tr>\n",
       "  <th>Skew:</th>           <td> 2.600</td>   <th>  Prob(JB):          </th>  <td>    0.00</td> \n",
       "</tr>\n",
       "<tr>\n",
       "  <th>Kurtosis:</th>       <td>26.827</td>   <th>  Cond. No.          </th>  <td>7.29e+03</td> \n",
       "</tr>\n",
       "</table><br/><br/>Warnings:<br/>[1] Standard Errors assume that the covariance matrix of the errors is correctly specified.<br/>[2] The condition number is large, 7.29e+03. This might indicate that there are<br/>strong multicollinearity or other numerical problems."
      ],
      "text/plain": [
       "<class 'statsmodels.iolib.summary.Summary'>\n",
       "\"\"\"\n",
       "                            OLS Regression Results                            \n",
       "==============================================================================\n",
       "Dep. Variable:                  price   R-squared:                       0.535\n",
       "Model:                            OLS   Adj. R-squared:                  0.535\n",
       "Method:                 Least Squares   F-statistic:                     8244.\n",
       "Date:                Wed, 19 Jun 2019   Prob (F-statistic):               0.00\n",
       "Time:                        16:20:18   Log-Likelihood:            -2.9818e+05\n",
       "No. Observations:               21534   AIC:                         5.964e+05\n",
       "Df Residuals:                   21530   BIC:                         5.964e+05\n",
       "Df Model:                           3                                         \n",
       "Covariance Type:            nonrobust                                         \n",
       "===============================================================================\n",
       "                  coef    std err          t      P>|t|      [0.025      0.975]\n",
       "-------------------------------------------------------------------------------\n",
       "Intercept   -1.666e+04   5031.008     -3.310      0.001   -2.65e+04   -6793.935\n",
       "bathrooms    1046.9201   3381.581      0.310      0.757   -5581.230    7675.070\n",
       "sqft_living   255.0653      2.901     87.908      0.000     249.378     260.752\n",
       "view         1.026e+05   2319.239     44.260      0.000    9.81e+04    1.07e+05\n",
       "==============================================================================\n",
       "Omnibus:                    14039.827   Durbin-Watson:                   1.979\n",
       "Prob(Omnibus):                  0.000   Jarque-Bera (JB):           533664.907\n",
       "Skew:                           2.600   Prob(JB):                         0.00\n",
       "Kurtosis:                      26.827   Cond. No.                     7.29e+03\n",
       "==============================================================================\n",
       "\n",
       "Warnings:\n",
       "[1] Standard Errors assume that the covariance matrix of the errors is correctly specified.\n",
       "[2] The condition number is large, 7.29e+03. This might indicate that there are\n",
       "strong multicollinearity or other numerical problems.\n",
       "\"\"\""
      ]
     },
     "execution_count": 7,
     "metadata": {},
     "output_type": "execute_result"
    }
   ],
   "source": [
    "price_vs_bathrooms = smf.ols(formula = 'price~bathrooms+sqft_living+view',data=df).fit()\n",
    "price_vs_bathrooms.summary()"
   ]
  },
  {
   "cell_type": "code",
   "execution_count": 8,
   "metadata": {},
   "outputs": [
    {
     "data": {
      "text/html": [
       "<table class=\"simpletable\">\n",
       "<caption>OLS Regression Results</caption>\n",
       "<tr>\n",
       "  <th>Dep. Variable:</th>          <td>price</td>      <th>  R-squared:         </th>  <td>   0.493</td>  \n",
       "</tr>\n",
       "<tr>\n",
       "  <th>Model:</th>                   <td>OLS</td>       <th>  Adj. R-squared:    </th>  <td>   0.493</td>  \n",
       "</tr>\n",
       "<tr>\n",
       "  <th>Method:</th>             <td>Least Squares</td>  <th>  F-statistic:       </th>  <td>2.097e+04</td> \n",
       "</tr>\n",
       "<tr>\n",
       "  <th>Date:</th>             <td>Wed, 19 Jun 2019</td> <th>  Prob (F-statistic):</th>   <td>  0.00</td>   \n",
       "</tr>\n",
       "<tr>\n",
       "  <th>Time:</th>                 <td>16:20:18</td>     <th>  Log-Likelihood:    </th> <td>-3.0006e+05</td>\n",
       "</tr>\n",
       "<tr>\n",
       "  <th>No. Observations:</th>      <td> 21597</td>      <th>  AIC:               </th>  <td>6.001e+05</td> \n",
       "</tr>\n",
       "<tr>\n",
       "  <th>Df Residuals:</th>          <td> 21595</td>      <th>  BIC:               </th>  <td>6.001e+05</td> \n",
       "</tr>\n",
       "<tr>\n",
       "  <th>Df Model:</th>              <td>     1</td>      <th>                     </th>      <td> </td>     \n",
       "</tr>\n",
       "<tr>\n",
       "  <th>Covariance Type:</th>      <td>nonrobust</td>    <th>                     </th>      <td> </td>     \n",
       "</tr>\n",
       "</table>\n",
       "<table class=\"simpletable\">\n",
       "<tr>\n",
       "       <td></td>          <th>coef</th>     <th>std err</th>      <th>t</th>      <th>P>|t|</th>  <th>[0.025</th>    <th>0.975]</th>  \n",
       "</tr>\n",
       "<tr>\n",
       "  <th>Intercept</th>   <td>-4.399e+04</td> <td> 4410.023</td> <td>   -9.975</td> <td> 0.000</td> <td>-5.26e+04</td> <td>-3.53e+04</td>\n",
       "</tr>\n",
       "<tr>\n",
       "  <th>sqft_living</th> <td>  280.8630</td> <td>    1.939</td> <td>  144.819</td> <td> 0.000</td> <td>  277.062</td> <td>  284.664</td>\n",
       "</tr>\n",
       "</table>\n",
       "<table class=\"simpletable\">\n",
       "<tr>\n",
       "  <th>Omnibus:</th>       <td>14801.942</td> <th>  Durbin-Watson:     </th>  <td>   1.982</td> \n",
       "</tr>\n",
       "<tr>\n",
       "  <th>Prob(Omnibus):</th>  <td> 0.000</td>   <th>  Jarque-Bera (JB):  </th> <td>542662.604</td>\n",
       "</tr>\n",
       "<tr>\n",
       "  <th>Skew:</th>           <td> 2.820</td>   <th>  Prob(JB):          </th>  <td>    0.00</td> \n",
       "</tr>\n",
       "<tr>\n",
       "  <th>Kurtosis:</th>       <td>26.901</td>   <th>  Cond. No.          </th>  <td>5.63e+03</td> \n",
       "</tr>\n",
       "</table><br/><br/>Warnings:<br/>[1] Standard Errors assume that the covariance matrix of the errors is correctly specified.<br/>[2] The condition number is large, 5.63e+03. This might indicate that there are<br/>strong multicollinearity or other numerical problems."
      ],
      "text/plain": [
       "<class 'statsmodels.iolib.summary.Summary'>\n",
       "\"\"\"\n",
       "                            OLS Regression Results                            \n",
       "==============================================================================\n",
       "Dep. Variable:                  price   R-squared:                       0.493\n",
       "Model:                            OLS   Adj. R-squared:                  0.493\n",
       "Method:                 Least Squares   F-statistic:                 2.097e+04\n",
       "Date:                Wed, 19 Jun 2019   Prob (F-statistic):               0.00\n",
       "Time:                        16:20:18   Log-Likelihood:            -3.0006e+05\n",
       "No. Observations:               21597   AIC:                         6.001e+05\n",
       "Df Residuals:                   21595   BIC:                         6.001e+05\n",
       "Df Model:                           1                                         \n",
       "Covariance Type:            nonrobust                                         \n",
       "===============================================================================\n",
       "                  coef    std err          t      P>|t|      [0.025      0.975]\n",
       "-------------------------------------------------------------------------------\n",
       "Intercept   -4.399e+04   4410.023     -9.975      0.000   -5.26e+04   -3.53e+04\n",
       "sqft_living   280.8630      1.939    144.819      0.000     277.062     284.664\n",
       "==============================================================================\n",
       "Omnibus:                    14801.942   Durbin-Watson:                   1.982\n",
       "Prob(Omnibus):                  0.000   Jarque-Bera (JB):           542662.604\n",
       "Skew:                           2.820   Prob(JB):                         0.00\n",
       "Kurtosis:                      26.901   Cond. No.                     5.63e+03\n",
       "==============================================================================\n",
       "\n",
       "Warnings:\n",
       "[1] Standard Errors assume that the covariance matrix of the errors is correctly specified.\n",
       "[2] The condition number is large, 5.63e+03. This might indicate that there are\n",
       "strong multicollinearity or other numerical problems.\n",
       "\"\"\""
      ]
     },
     "execution_count": 8,
     "metadata": {},
     "output_type": "execute_result"
    }
   ],
   "source": [
    "price_vs_sqft_living = smf.ols(formula = 'price~sqft_living',data=df).fit()\n",
    "price_vs_sqft_living.summary()"
   ]
  },
  {
   "cell_type": "code",
   "execution_count": 9,
   "metadata": {},
   "outputs": [
    {
     "data": {
      "text/html": [
       "<table class=\"simpletable\">\n",
       "<caption>OLS Regression Results</caption>\n",
       "<tr>\n",
       "  <th>Dep. Variable:</th>          <td>price</td>      <th>  R-squared:         </th>  <td>   0.410</td>  \n",
       "</tr>\n",
       "<tr>\n",
       "  <th>Model:</th>                   <td>OLS</td>       <th>  Adj. R-squared:    </th>  <td>   0.410</td>  \n",
       "</tr>\n",
       "<tr>\n",
       "  <th>Method:</th>             <td>Least Squares</td>  <th>  F-statistic:       </th>  <td>   7491.</td>  \n",
       "</tr>\n",
       "<tr>\n",
       "  <th>Date:</th>             <td>Wed, 19 Jun 2019</td> <th>  Prob (F-statistic):</th>   <td>  0.00</td>   \n",
       "</tr>\n",
       "<tr>\n",
       "  <th>Time:</th>                 <td>16:20:18</td>     <th>  Log-Likelihood:    </th> <td>-3.0170e+05</td>\n",
       "</tr>\n",
       "<tr>\n",
       "  <th>No. Observations:</th>      <td> 21597</td>      <th>  AIC:               </th>  <td>6.034e+05</td> \n",
       "</tr>\n",
       "<tr>\n",
       "  <th>Df Residuals:</th>          <td> 21594</td>      <th>  BIC:               </th>  <td>6.034e+05</td> \n",
       "</tr>\n",
       "<tr>\n",
       "  <th>Df Model:</th>              <td>     2</td>      <th>                     </th>      <td> </td>     \n",
       "</tr>\n",
       "<tr>\n",
       "  <th>Covariance Type:</th>      <td>nonrobust</td>    <th>                     </th>      <td> </td>     \n",
       "</tr>\n",
       "</table>\n",
       "<table class=\"simpletable\">\n",
       "<tr>\n",
       "        <td></td>           <th>coef</th>     <th>std err</th>      <th>t</th>      <th>P>|t|</th>  <th>[0.025</th>    <th>0.975]</th>  \n",
       "</tr>\n",
       "<tr>\n",
       "  <th>Intercept</th>     <td>-1.291e+05</td> <td> 6596.777</td> <td>  -19.574</td> <td> 0.000</td> <td>-1.42e+05</td> <td>-1.16e+05</td>\n",
       "</tr>\n",
       "<tr>\n",
       "  <th>sqft_above</th>    <td>  250.7419</td> <td>    2.364</td> <td>  106.066</td> <td> 0.000</td> <td>  246.108</td> <td>  255.376</td>\n",
       "</tr>\n",
       "<tr>\n",
       "  <th>sqft_basement</th> <td>  308.5235</td> <td>    7.765</td> <td>   39.731</td> <td> 0.000</td> <td>  293.303</td> <td>  323.744</td>\n",
       "</tr>\n",
       "</table>\n",
       "<table class=\"simpletable\">\n",
       "<tr>\n",
       "  <th>Omnibus:</th>       <td>14846.164</td> <th>  Durbin-Watson:     </th>  <td>   1.986</td> \n",
       "</tr>\n",
       "<tr>\n",
       "  <th>Prob(Omnibus):</th>  <td> 0.000</td>   <th>  Jarque-Bera (JB):  </th> <td>486467.384</td>\n",
       "</tr>\n",
       "<tr>\n",
       "  <th>Skew:</th>           <td> 2.873</td>   <th>  Prob(JB):          </th>  <td>    0.00</td> \n",
       "</tr>\n",
       "<tr>\n",
       "  <th>Kurtosis:</th>       <td>25.529</td>   <th>  Cond. No.          </th>  <td>7.16e+03</td> \n",
       "</tr>\n",
       "</table><br/><br/>Warnings:<br/>[1] Standard Errors assume that the covariance matrix of the errors is correctly specified.<br/>[2] The condition number is large, 7.16e+03. This might indicate that there are<br/>strong multicollinearity or other numerical problems."
      ],
      "text/plain": [
       "<class 'statsmodels.iolib.summary.Summary'>\n",
       "\"\"\"\n",
       "                            OLS Regression Results                            \n",
       "==============================================================================\n",
       "Dep. Variable:                  price   R-squared:                       0.410\n",
       "Model:                            OLS   Adj. R-squared:                  0.410\n",
       "Method:                 Least Squares   F-statistic:                     7491.\n",
       "Date:                Wed, 19 Jun 2019   Prob (F-statistic):               0.00\n",
       "Time:                        16:20:18   Log-Likelihood:            -3.0170e+05\n",
       "No. Observations:               21597   AIC:                         6.034e+05\n",
       "Df Residuals:                   21594   BIC:                         6.034e+05\n",
       "Df Model:                           2                                         \n",
       "Covariance Type:            nonrobust                                         \n",
       "=================================================================================\n",
       "                    coef    std err          t      P>|t|      [0.025      0.975]\n",
       "---------------------------------------------------------------------------------\n",
       "Intercept     -1.291e+05   6596.777    -19.574      0.000   -1.42e+05   -1.16e+05\n",
       "sqft_above      250.7419      2.364    106.066      0.000     246.108     255.376\n",
       "sqft_basement   308.5235      7.765     39.731      0.000     293.303     323.744\n",
       "==============================================================================\n",
       "Omnibus:                    14846.164   Durbin-Watson:                   1.986\n",
       "Prob(Omnibus):                  0.000   Jarque-Bera (JB):           486467.384\n",
       "Skew:                           2.873   Prob(JB):                         0.00\n",
       "Kurtosis:                      25.529   Cond. No.                     7.16e+03\n",
       "==============================================================================\n",
       "\n",
       "Warnings:\n",
       "[1] Standard Errors assume that the covariance matrix of the errors is correctly specified.\n",
       "[2] The condition number is large, 7.16e+03. This might indicate that there are\n",
       "strong multicollinearity or other numerical problems.\n",
       "\"\"\""
      ]
     },
     "execution_count": 9,
     "metadata": {},
     "output_type": "execute_result"
    }
   ],
   "source": [
    "price_vs_sqft_living = smf.ols(formula = 'price~sqft_above+sqft_basement',data=df).fit()\n",
    "price_vs_sqft_living.summary()"
   ]
  },
  {
   "cell_type": "code",
   "execution_count": null,
   "metadata": {},
   "outputs": [],
   "source": []
  },
  {
   "cell_type": "code",
   "execution_count": 10,
   "metadata": {},
   "outputs": [
    {
     "data": {
      "text/plain": [
       "<matplotlib.axes._subplots.AxesSubplot at 0x1a201b7588>"
      ]
     },
     "execution_count": 10,
     "metadata": {},
     "output_type": "execute_result"
    },
    {
     "data": {
      "image/png": "[encoded data removed]",
      "text/plain": [
       "<Figure size 432x288 with 1 Axes>"
      ]
     },
     "metadata": {
      "needs_background": "light"
     },
     "output_type": "display_data"
    }
   ],
   "source": [
    "df.bathrooms.plot.kde()"
   ]
  },
  {
   "cell_type": "code",
   "execution_count": 11,
   "metadata": {},
   "outputs": [
    {
     "ename": "SyntaxError",
     "evalue": "unexpected EOF while parsing (<ipython-input-11-432f842ba7e6>, line 2)",
     "output_type": "error",
     "traceback": [
      "\u001b[0;36m  File \u001b[0;32m\"<ipython-input-11-432f842ba7e6>\"\u001b[0;36m, line \u001b[0;32m2\u001b[0m\n\u001b[0;31m    \u001b[0m\n\u001b[0m    ^\u001b[0m\n\u001b[0;31mSyntaxError\u001b[0m\u001b[0;31m:\u001b[0m unexpected EOF while parsing\n"
     ]
    }
   ],
   "source": [
    "for i, (name, col) in enumerate(df.iterateitems()):\n",
    "    "
   ]
  },
  {
   "cell_type": "code",
   "execution_count": null,
   "metadata": {
    "scrolled": true
   },
   "outputs": [],
   "source": [
    "df.zipcode.describe()"
   ]
  },
  {
   "cell_type": "code",
   "execution_count": null,
   "metadata": {},
   "outputs": [],
   "source": [
    "sns.scatterplot(df.zipcode, df.price)"
   ]
  },
  {
   "cell_type": "code",
   "execution_count": null,
   "metadata": {},
   "outputs": [],
   "source": [
    "price_vs_size_neighbors = smf.ols(formula = 'price~zipcode',data=df).fit()\n",
    "price_vs_size_neighbors.summary()"
   ]
  },
  {
   "cell_type": "code",
   "execution_count": null,
   "metadata": {},
   "outputs": [],
   "source": [
    "df.hist(bins=50, figsize=(20,15))\n",
    "plt.savefig(\"attribute_histogram_plots\")\n",
    "plt.show()"
   ]
  },
  {
   "cell_type": "code",
   "execution_count": null,
   "metadata": {},
   "outputs": [],
   "source": [
    "for column in df:\n",
    "    df[column].plot.hist(normed=True, label = column+' histogram')\n",
    "    df[column].plot.kde(label =column+' kde')\n",
    "    plt.legend()\n",
    "    plt.show()"
   ]
  },
  {
   "cell_type": "code",
   "execution_count": null,
   "metadata": {},
   "outputs": [],
   "source": [
    "df.corr()[(df.corr() > 0.5)]"
   ]
  },
  {
   "cell_type": "code",
   "execution_count": null,
   "metadata": {},
   "outputs": [],
   "source": [
    "sqft_vs_others = smf.ols(formula = 'sqft_living~sqft_above+sqft_basement+sqft_living15+sqft_lot15',data=df).fit()\n",
    "sqft_vs_others.summary()"
   ]
  },
  {
   "cell_type": "code",
   "execution_count": null,
   "metadata": {},
   "outputs": [],
   "source": [
    "\n",
    "model = smf.ols(formula='price ~ bathrooms + sqft_living + grade + sqft_above + sqft_living15', data = df).fit()\n",
    "model.summary()"
   ]
  },
  {
   "cell_type": "code",
   "execution_count": null,
   "metadata": {
    "scrolled": true
   },
   "outputs": [],
   "source": [
    "sns.distplot(df['bedrooms'], kde=True)"
   ]
  },
  {
   "cell_type": "code",
   "execution_count": null,
   "metadata": {},
   "outputs": [],
   "source": [
    "df.head()"
   ]
  },
  {
   "cell_type": "code",
   "execution_count": null,
   "metadata": {},
   "outputs": [],
   "source": [
    "\n",
    "\n",
    "for col in df.columns:   \n",
    "    try:\n",
    "        q = df[\"{}\".format(col)].quantile(0.99)\n",
    "        filter(df[df[\"col\"] < q])\n",
    "    \n",
    "    except:\n",
    "        pass\n",
    "    \n",
    "    print(df['bedrooms'].max())\n",
    "    "
   ]
  },
  {
   "cell_type": "code",
   "execution_count": null,
   "metadata": {},
   "outputs": [],
   "source": [
    "#def remove_outlier(df):\n",
    "    \n",
    "for col in df.columns:\n",
    "    try:\n",
    "        q1 = df['{}'.format(col)].quantile(0.25)\n",
    "        q3 = df['{}'.format(col)].quantile(0.75)\n",
    "        iqr = q3-q1 #Interquartile range\n",
    "        fence_low  = q1-1.5*iqr\n",
    "        fence_high = q3+1.5*iqr\n",
    "        df_clean = df.loc[(df['{}'.format(col)] > fence_low) & (df['{}'.format(col)] < fence_high)]\n",
    "        \n",
    "    except:\n",
    "        df_clean['{}'.format(col)] == df['{}'.format(col)]\n",
    "    \n",
    "    print(df_clean)\n",
    "    \n",
    "\n"
   ]
  },
  {
   "cell_type": "code",
   "execution_count": null,
   "metadata": {},
   "outputs": [],
   "source": [
    "df_out.hist(bins = 10, figsize = (10,10))"
   ]
  },
  {
   "cell_type": "code",
   "execution_count": 12,
   "metadata": {},
   "outputs": [
    {
     "data": {
      "text/html": [
       "<table class=\"simpletable\">\n",
       "<caption>OLS Regression Results</caption>\n",
       "<tr>\n",
       "  <th>Dep. Variable:</th>          <td>price</td>      <th>  R-squared:         </th>  <td>   0.537</td>  \n",
       "</tr>\n",
       "<tr>\n",
       "  <th>Model:</th>                   <td>OLS</td>       <th>  Adj. R-squared:    </th>  <td>   0.537</td>  \n",
       "</tr>\n",
       "<tr>\n",
       "  <th>Method:</th>             <td>Least Squares</td>  <th>  F-statistic:       </th>  <td>   8359.</td>  \n",
       "</tr>\n",
       "<tr>\n",
       "  <th>Date:</th>             <td>Wed, 19 Jun 2019</td> <th>  Prob (F-statistic):</th>   <td>  0.00</td>   \n",
       "</tr>\n",
       "<tr>\n",
       "  <th>Time:</th>                 <td>16:20:20</td>     <th>  Log-Likelihood:    </th> <td>-2.9907e+05</td>\n",
       "</tr>\n",
       "<tr>\n",
       "  <th>No. Observations:</th>      <td> 21597</td>      <th>  AIC:               </th>  <td>5.981e+05</td> \n",
       "</tr>\n",
       "<tr>\n",
       "  <th>Df Residuals:</th>          <td> 21593</td>      <th>  BIC:               </th>  <td>5.982e+05</td> \n",
       "</tr>\n",
       "<tr>\n",
       "  <th>Df Model:</th>              <td>     3</td>      <th>                     </th>      <td> </td>     \n",
       "</tr>\n",
       "<tr>\n",
       "  <th>Covariance Type:</th>      <td>nonrobust</td>    <th>                     </th>      <td> </td>     \n",
       "</tr>\n",
       "</table>\n",
       "<table class=\"simpletable\">\n",
       "<tr>\n",
       "       <td></td>          <th>coef</th>     <th>std err</th>      <th>t</th>      <th>P>|t|</th>  <th>[0.025</th>    <th>0.975]</th>  \n",
       "</tr>\n",
       "<tr>\n",
       "  <th>Intercept</th>   <td>-6.024e+05</td> <td> 1.33e+04</td> <td>  -45.279</td> <td> 0.000</td> <td>-6.28e+05</td> <td>-5.76e+05</td>\n",
       "</tr>\n",
       "<tr>\n",
       "  <th>bathrooms</th>   <td>-3.836e+04</td> <td> 3454.677</td> <td>  -11.103</td> <td> 0.000</td> <td>-4.51e+04</td> <td>-3.16e+04</td>\n",
       "</tr>\n",
       "<tr>\n",
       "  <th>sqft_living</th> <td>  203.1650</td> <td>    3.339</td> <td>   60.855</td> <td> 0.000</td> <td>  196.621</td> <td>  209.709</td>\n",
       "</tr>\n",
       "<tr>\n",
       "  <th>grade</th>       <td> 1.046e+05</td> <td> 2293.086</td> <td>   45.626</td> <td> 0.000</td> <td>    1e+05</td> <td> 1.09e+05</td>\n",
       "</tr>\n",
       "</table>\n",
       "<table class=\"simpletable\">\n",
       "<tr>\n",
       "  <th>Omnibus:</th>       <td>16926.041</td> <th>  Durbin-Watson:     </th>  <td>   1.980</td>  \n",
       "</tr>\n",
       "<tr>\n",
       "  <th>Prob(Omnibus):</th>  <td> 0.000</td>   <th>  Jarque-Bera (JB):  </th> <td>1008526.554</td>\n",
       "</tr>\n",
       "<tr>\n",
       "  <th>Skew:</th>           <td> 3.291</td>   <th>  Prob(JB):          </th>  <td>    0.00</td>  \n",
       "</tr>\n",
       "<tr>\n",
       "  <th>Kurtosis:</th>       <td>35.824</td>   <th>  Cond. No.          </th>  <td>1.80e+04</td>  \n",
       "</tr>\n",
       "</table><br/><br/>Warnings:<br/>[1] Standard Errors assume that the covariance matrix of the errors is correctly specified.<br/>[2] The condition number is large, 1.8e+04. This might indicate that there are<br/>strong multicollinearity or other numerical problems."
      ],
      "text/plain": [
       "<class 'statsmodels.iolib.summary.Summary'>\n",
       "\"\"\"\n",
       "                            OLS Regression Results                            \n",
       "==============================================================================\n",
       "Dep. Variable:                  price   R-squared:                       0.537\n",
       "Model:                            OLS   Adj. R-squared:                  0.537\n",
       "Method:                 Least Squares   F-statistic:                     8359.\n",
       "Date:                Wed, 19 Jun 2019   Prob (F-statistic):               0.00\n",
       "Time:                        16:20:20   Log-Likelihood:            -2.9907e+05\n",
       "No. Observations:               21597   AIC:                         5.981e+05\n",
       "Df Residuals:                   21593   BIC:                         5.982e+05\n",
       "Df Model:                           3                                         \n",
       "Covariance Type:            nonrobust                                         \n",
       "===============================================================================\n",
       "                  coef    std err          t      P>|t|      [0.025      0.975]\n",
       "-------------------------------------------------------------------------------\n",
       "Intercept   -6.024e+05   1.33e+04    -45.279      0.000   -6.28e+05   -5.76e+05\n",
       "bathrooms   -3.836e+04   3454.677    -11.103      0.000   -4.51e+04   -3.16e+04\n",
       "sqft_living   203.1650      3.339     60.855      0.000     196.621     209.709\n",
       "grade        1.046e+05   2293.086     45.626      0.000       1e+05    1.09e+05\n",
       "==============================================================================\n",
       "Omnibus:                    16926.041   Durbin-Watson:                   1.980\n",
       "Prob(Omnibus):                  0.000   Jarque-Bera (JB):          1008526.554\n",
       "Skew:                           3.291   Prob(JB):                         0.00\n",
       "Kurtosis:                      35.824   Cond. No.                     1.80e+04\n",
       "==============================================================================\n",
       "\n",
       "Warnings:\n",
       "[1] Standard Errors assume that the covariance matrix of the errors is correctly specified.\n",
       "[2] The condition number is large, 1.8e+04. This might indicate that there are\n",
       "strong multicollinearity or other numerical problems.\n",
       "\"\"\""
      ]
     },
     "execution_count": 12,
     "metadata": {},
     "output_type": "execute_result"
    }
   ],
   "source": [
    "price_vs_sqft_living_grade  = smf.ols(formula = 'price~bathrooms + sqft_living + grade',data=df).fit()\n",
    "price_vs_sqft_living_grade.summary()"
   ]
  },
  {
   "cell_type": "code",
   "execution_count": null,
   "metadata": {},
   "outputs": [],
   "source": []
  },
  {
   "cell_type": "code",
   "execution_count": 13,
   "metadata": {},
   "outputs": [
    {
     "data": {
      "text/plain": [
       "price            1.000000\n",
       "sqft_living      0.701917\n",
       "grade            0.667951\n",
       "sqft_above       0.605368\n",
       "sqft_living15    0.585241\n",
       "bathrooms        0.525906\n",
       "view             0.395734\n",
       "sqft_basement    0.319466\n",
       "bedrooms         0.308787\n",
       "lat              0.306692\n",
       "waterfront       0.264306\n",
       "floors           0.256804\n",
       "yr_renovated     0.125499\n",
       "sqft_lot         0.089876\n",
       "sqft_lot15       0.082845\n",
       "yr_built         0.053953\n",
       "zipcode          0.053402\n",
       "condition        0.036056\n",
       "long             0.022036\n",
       "id               0.016772\n",
       "Name: price, dtype: float64"
      ]
     },
     "execution_count": 13,
     "metadata": {},
     "output_type": "execute_result"
    }
   ],
   "source": [
    "corr = df.corr()\n",
    "abs(corr).sort_values(by = 'price',  ascending= False)['price']"
   ]
  },
  {
   "cell_type": "code",
   "execution_count": 14,
   "metadata": {},
   "outputs": [
    {
     "data": {
      "text/plain": [
       "<matplotlib.axes._subplots.AxesSubplot at 0x1a20e81710>"
      ]
     },
     "execution_count": 14,
     "metadata": {},
     "output_type": "execute_result"
    },
    {
     "data": {
      "image/png": "[encoded data removed]",
      "text/plain": [
       "<Figure size 432x288 with 1 Axes>"
      ]
     },
     "metadata": {
      "needs_background": "light"
     },
     "output_type": "display_data"
    }
   ],
   "source": [
    "sns.regplot(x=df.sqft_living, y=df.price, data=df_out)"
   ]
  },
  {
   "cell_type": "code",
   "execution_count": 15,
   "metadata": {},
   "outputs": [
    {
     "data": {
      "text/plain": [
       "<matplotlib.axes._subplots.AxesSubplot at 0x1a2160ae48>"
      ]
     },
     "execution_count": 15,
     "metadata": {},
     "output_type": "execute_result"
    },
    {
     "data": {
      "image/png": "[encoded data removed]",
      "text/plain": [
       "<Figure size 432x288 with 1 Axes>"
      ]
     },
     "metadata": {
      "needs_background": "light"
     },
     "output_type": "display_data"
    }
   ],
   "source": [
    "sns.regplot(x=df.bedrooms, y=df.price, data=df)"
   ]
  },
  {
   "cell_type": "code",
   "execution_count": null,
   "metadata": {},
   "outputs": [],
   "source": []
  },
  {
   "cell_type": "code",
   "execution_count": 26,
   "metadata": {
    "collapsed": true
   },
   "outputs": [
    {
     "data": {
      "text/html": [
       "<table class=\"simpletable\">\n",
       "<caption>OLS Regression Results</caption>\n",
       "<tr>\n",
       "  <th>Dep. Variable:</th>          <td>price</td>      <th>  R-squared:         </th>  <td>   0.544</td>  \n",
       "</tr>\n",
       "<tr>\n",
       "  <th>Model:</th>                   <td>OLS</td>       <th>  Adj. R-squared:    </th>  <td>   0.544</td>  \n",
       "</tr>\n",
       "<tr>\n",
       "  <th>Method:</th>             <td>Least Squares</td>  <th>  F-statistic:       </th>  <td>   5161.</td>  \n",
       "</tr>\n",
       "<tr>\n",
       "  <th>Date:</th>             <td>Wed, 19 Jun 2019</td> <th>  Prob (F-statistic):</th>   <td>  0.00</td>   \n",
       "</tr>\n",
       "<tr>\n",
       "  <th>Time:</th>                 <td>16:46:04</td>     <th>  Log-Likelihood:    </th> <td>-2.9890e+05</td>\n",
       "</tr>\n",
       "<tr>\n",
       "  <th>No. Observations:</th>      <td> 21597</td>      <th>  AIC:               </th>  <td>5.978e+05</td> \n",
       "</tr>\n",
       "<tr>\n",
       "  <th>Df Residuals:</th>          <td> 21591</td>      <th>  BIC:               </th>  <td>5.979e+05</td> \n",
       "</tr>\n",
       "<tr>\n",
       "  <th>Df Model:</th>              <td>     5</td>      <th>                     </th>      <td> </td>     \n",
       "</tr>\n",
       "<tr>\n",
       "  <th>Covariance Type:</th>      <td>nonrobust</td>    <th>                     </th>      <td> </td>     \n",
       "</tr>\n",
       "</table>\n",
       "<table class=\"simpletable\">\n",
       "<tr>\n",
       "        <td></td>           <th>coef</th>     <th>std err</th>      <th>t</th>      <th>P>|t|</th>  <th>[0.025</th>    <th>0.975]</th>  \n",
       "</tr>\n",
       "<tr>\n",
       "  <th>Intercept</th>     <td> -6.52e+05</td> <td> 1.36e+04</td> <td>  -48.079</td> <td> 0.000</td> <td>-6.79e+05</td> <td>-6.25e+05</td>\n",
       "</tr>\n",
       "<tr>\n",
       "  <th>bathrooms</th>     <td>-3.567e+04</td> <td> 3440.363</td> <td>  -10.369</td> <td> 0.000</td> <td>-4.24e+04</td> <td>-2.89e+04</td>\n",
       "</tr>\n",
       "<tr>\n",
       "  <th>sqft_living</th>   <td>  245.5631</td> <td>    4.528</td> <td>   54.238</td> <td> 0.000</td> <td>  236.689</td> <td>  254.437</td>\n",
       "</tr>\n",
       "<tr>\n",
       "  <th>grade</th>         <td> 1.119e+05</td> <td> 2470.776</td> <td>   45.293</td> <td> 0.000</td> <td> 1.07e+05</td> <td> 1.17e+05</td>\n",
       "</tr>\n",
       "<tr>\n",
       "  <th>sqft_above</th>    <td>  -80.6961</td> <td>    4.458</td> <td>  -18.101</td> <td> 0.000</td> <td>  -89.434</td> <td>  -71.958</td>\n",
       "</tr>\n",
       "<tr>\n",
       "  <th>sqft_living15</th> <td>   22.2598</td> <td>    4.032</td> <td>    5.520</td> <td> 0.000</td> <td>   14.356</td> <td>   30.164</td>\n",
       "</tr>\n",
       "</table>\n",
       "<table class=\"simpletable\">\n",
       "<tr>\n",
       "  <th>Omnibus:</th>       <td>17251.912</td> <th>  Durbin-Watson:     </th>  <td>   1.980</td>  \n",
       "</tr>\n",
       "<tr>\n",
       "  <th>Prob(Omnibus):</th>  <td> 0.000</td>   <th>  Jarque-Bera (JB):  </th> <td>1128620.760</td>\n",
       "</tr>\n",
       "<tr>\n",
       "  <th>Skew:</th>           <td> 3.361</td>   <th>  Prob(JB):          </th>  <td>    0.00</td>  \n",
       "</tr>\n",
       "<tr>\n",
       "  <th>Kurtosis:</th>       <td>37.771</td>   <th>  Cond. No.          </th>  <td>2.96e+04</td>  \n",
       "</tr>\n",
       "</table><br/><br/>Warnings:<br/>[1] Standard Errors assume that the covariance matrix of the errors is correctly specified.<br/>[2] The condition number is large, 2.96e+04. This might indicate that there are<br/>strong multicollinearity or other numerical problems."
      ],
      "text/plain": [
       "<class 'statsmodels.iolib.summary.Summary'>\n",
       "\"\"\"\n",
       "                            OLS Regression Results                            \n",
       "==============================================================================\n",
       "Dep. Variable:                  price   R-squared:                       0.544\n",
       "Model:                            OLS   Adj. R-squared:                  0.544\n",
       "Method:                 Least Squares   F-statistic:                     5161.\n",
       "Date:                Wed, 19 Jun 2019   Prob (F-statistic):               0.00\n",
       "Time:                        16:46:04   Log-Likelihood:            -2.9890e+05\n",
       "No. Observations:               21597   AIC:                         5.978e+05\n",
       "Df Residuals:                   21591   BIC:                         5.979e+05\n",
       "Df Model:                           5                                         \n",
       "Covariance Type:            nonrobust                                         \n",
       "=================================================================================\n",
       "                    coef    std err          t      P>|t|      [0.025      0.975]\n",
       "---------------------------------------------------------------------------------\n",
       "Intercept      -6.52e+05   1.36e+04    -48.079      0.000   -6.79e+05   -6.25e+05\n",
       "bathrooms     -3.567e+04   3440.363    -10.369      0.000   -4.24e+04   -2.89e+04\n",
       "sqft_living     245.5631      4.528     54.238      0.000     236.689     254.437\n",
       "grade          1.119e+05   2470.776     45.293      0.000    1.07e+05    1.17e+05\n",
       "sqft_above      -80.6961      4.458    -18.101      0.000     -89.434     -71.958\n",
       "sqft_living15    22.2598      4.032      5.520      0.000      14.356      30.164\n",
       "==============================================================================\n",
       "Omnibus:                    17251.912   Durbin-Watson:                   1.980\n",
       "Prob(Omnibus):                  0.000   Jarque-Bera (JB):          1128620.760\n",
       "Skew:                           3.361   Prob(JB):                         0.00\n",
       "Kurtosis:                      37.771   Cond. No.                     2.96e+04\n",
       "==============================================================================\n",
       "\n",
       "Warnings:\n",
       "[1] Standard Errors assume that the covariance matrix of the errors is correctly specified.\n",
       "[2] The condition number is large, 2.96e+04. This might indicate that there are\n",
       "strong multicollinearity or other numerical problems.\n",
       "\"\"\""
      ]
     },
     "execution_count": 26,
     "metadata": {},
     "output_type": "execute_result"
    }
   ],
   "source": [
    "import statsmodels.api as sm\n",
    "from statsmodels.formula.api import ols\n",
    "\n",
    "formula = \"price ~ bathrooms + sqft_living + grade + sqft_above + sqft_living15\"\n",
    "model = ols(formula= formula, data=df).fit()\n",
    "model.summary()"
   ]
  },
  {
   "cell_type": "code",
   "execution_count": 32,
   "metadata": {},
   "outputs": [
    {
     "data": {
      "text/plain": [
       "LinearRegression(copy_X=True, fit_intercept=True, n_jobs=None,\n",
       "         normalize=False)"
      ]
     },
     "execution_count": 32,
     "metadata": {},
     "output_type": "execute_result"
    }
   ],
   "source": [
    "from sklearn.linear_model import LinearRegression\n",
    "\n",
    "y = df['price']\n",
    "predictors = df[['bathrooms', 'sqft_living', 'grade', 'sqft_above', 'sqft_living15']]\n",
    "linreg = LinearRegression()\n",
    "linreg.fit(predictors, y)"
   ]
  },
  {
   "cell_type": "code",
   "execution_count": 33,
   "metadata": {},
   "outputs": [
    {
     "data": {
      "text/plain": [
       "array([-3.56726235e+04,  2.45563129e+02,  1.11909971e+05, -8.06960896e+01,\n",
       "        2.22597862e+01])"
      ]
     },
     "execution_count": 33,
     "metadata": {},
     "output_type": "execute_result"
    }
   ],
   "source": [
    "linreg.coef_"
   ]
  },
  {
   "cell_type": "code",
   "execution_count": 34,
   "metadata": {},
   "outputs": [
    {
     "data": {
      "text/plain": [
       "-651962.7629339094"
      ]
     },
     "execution_count": 34,
     "metadata": {},
     "output_type": "execute_result"
    }
   ],
   "source": [
    "linreg.intercept_"
   ]
  },
  {
   "cell_type": "code",
   "execution_count": 36,
   "metadata": {},
   "outputs": [],
   "source": [
    "\n",
    "from sklearn.feature_selection import RFE\n",
    "from sklearn.linear_model import LinearRegression\n",
    "\n",
    "linreg = LinearRegression()\n",
    "selector = RFE(linreg, n_features_to_select = 2)\n",
    "selector = selector.fit(predictors, df[\"price\"])\n"
   ]
  },
  {
   "cell_type": "code",
   "execution_count": 37,
   "metadata": {},
   "outputs": [
    {
     "data": {
      "text/plain": [
       "array([ True, False,  True, False, False])"
      ]
     },
     "execution_count": 37,
     "metadata": {},
     "output_type": "execute_result"
    }
   ],
   "source": [
    "selector.support_ "
   ]
  },
  {
   "cell_type": "code",
   "execution_count": 38,
   "metadata": {},
   "outputs": [
    {
     "data": {
      "text/plain": [
       "array([1, 2, 1, 3, 4])"
      ]
     },
     "execution_count": 38,
     "metadata": {},
     "output_type": "execute_result"
    }
   ],
   "source": [
    "selector.ranking_"
   ]
  },
  {
   "cell_type": "code",
   "execution_count": 39,
   "metadata": {},
   "outputs": [
    {
     "name": "stdout",
     "output_type": "stream",
     "text": [
      "[ 69651.29877729 178759.90031138]\n",
      "-976001.6769910685\n"
     ]
    }
   ],
   "source": [
    "estimators = selector.estimator_\n",
    "print(estimators.coef_)\n",
    "print(estimators.intercept_)"
   ]
  },
  {
   "cell_type": "code",
   "execution_count": 42,
   "metadata": {},
   "outputs": [
    {
     "name": "stdout",
     "output_type": "stream",
     "text": [
      "17277 4320 17277 4320\n"
     ]
    }
   ],
   "source": [
    "from sklearn.model_selection import train_test_split\n",
    "X = predictors\n",
    "y = df.price\n",
    "X_train, X_test, y_train, y_test = train_test_split(X, y, test_size = 0.2)\n",
    "\n",
    "print(len(X_train), len(X_test), len(y_train), len(y_test))"
   ]
  },
  {
   "cell_type": "code",
   "execution_count": 43,
   "metadata": {},
   "outputs": [],
   "source": [
    "from sklearn.linear_model import LinearRegression\n",
    "linreg = LinearRegression()\n",
    "linreg.fit(X_train, y_train)\n",
    "\n",
    "y_hat_train = linreg.predict(X_train)\n",
    "y_hat_test = linreg.predict(X_test)"
   ]
  },
  {
   "cell_type": "code",
   "execution_count": 44,
   "metadata": {},
   "outputs": [],
   "source": [
    "train_residuals = y_hat_train - y_train\n",
    "test_residuals = y_hat_test - y_test"
   ]
  },
  {
   "cell_type": "code",
   "execution_count": 45,
   "metadata": {},
   "outputs": [
    {
     "name": "stdout",
     "output_type": "stream",
     "text": [
      "Train Mean Squarred Error: 60196066388.51114\n",
      "Test Mean Squarred Error: 66678114815.3586\n"
     ]
    }
   ],
   "source": [
    "mse_train = np.sum((y_train-y_hat_train)**2)/len(y_train)\n",
    "mse_test =np.sum((y_test-y_hat_test)**2)/len(y_test)\n",
    "print('Train Mean Squarred Error:', mse_train)\n",
    "print('Test Mean Squarred Error:', mse_test)"
   ]
  },
  {
   "cell_type": "code",
   "execution_count": 46,
   "metadata": {},
   "outputs": [
    {
     "name": "stdout",
     "output_type": "stream",
     "text": [
      "Train Mean Squarred Error: 60196066388.51114\n",
      "Test Mean Squarred Error: 66678114815.3586\n"
     ]
    }
   ],
   "source": [
    "from sklearn.metrics import mean_squared_error\n",
    "\n",
    "train_mse = mean_squared_error(y_train, y_hat_train)\n",
    "test_mse = mean_squared_error(y_test, y_hat_test)\n",
    "print('Train Mean Squarred Error:', train_mse)\n",
    "print('Test Mean Squarred Error:', test_mse)"
   ]
  },
  {
   "cell_type": "code",
   "execution_count": null,
   "metadata": {},
   "outputs": [],
   "source": []
  }
 ],
 "metadata": {
  "kernelspec": {
   "display_name": "Python 3",
   "language": "python",
   "name": "python3"
  },
  "language_info": {
   "codemirror_mode": {
    "name": "ipython",
    "version": 3
   },
   "file_extension": ".py",
   "mimetype": "text/x-python",
   "name": "python",
   "nbconvert_exporter": "python",
   "pygments_lexer": "ipython3",
   "version": "3.7.3"
  }
 },
 "nbformat": 4,
 "nbformat_minor": 2
}
