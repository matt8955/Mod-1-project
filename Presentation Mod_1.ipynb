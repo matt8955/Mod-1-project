{
 "cells": [
  {
   "cell_type": "markdown",
   "metadata": {
    "slideshow": {
     "slide_type": "slide"
    }
   },
   "source": [
    "# Project Mod 1\n",
    "\n",
    "```Minna Fingerhood\n",
    "Matthew Wasserman\n",
    "Cristina Mulas```\n"
   ]
  },
  {
   "cell_type": "code",
   "execution_count": null,
   "metadata": {},
   "outputs": [],
   "source": [
    "import warnings\n",
    "warnings.filterwarnings(\"ignore\")"
   ]
  },
  {
   "cell_type": "code",
   "execution_count": 4,
   "metadata": {},
   "outputs": [],
   "source": [
    "import pandas as pd\n",
    "import numpy as np\n",
    "import seaborn as sns\n",
    "import matplotlib.pyplot as plt\n",
    "%matplotlib inline\n",
    "import statsmodels.api as sm\n",
    "from statsmodels.formula.api import ols"
   ]
  },
  {
   "cell_type": "code",
   "execution_count": 7,
   "metadata": {
    "slideshow": {
     "slide_type": "slide"
    }
   },
   "outputs": [],
   "source": [
    "# DATA CLEANING\n",
    "from functions import *\n",
    "df = pd.read_csv('kc_house_data.csv')\n",
    " \n",
    "\n",
    "\n",
    "\n"
   ]
  },
  {
   "cell_type": "code",
   "execution_count": null,
   "metadata": {},
   "outputs": [],
   "source": [
    "#use function remove_outliers from our data\n",
    "remove_outliers(df, df.columns)  "
   ]
  },
  {
   "cell_type": "code",
   "execution_count": null,
   "metadata": {},
   "outputs": [],
   "source": [
    "\n"
   ]
  },
  {
   "cell_type": "code",
   "execution_count": null,
   "metadata": {},
   "outputs": [],
   "source": [
    "#function for clean_data\n",
    "clean_data(df) #cleans our data"
   ]
  },
  {
   "cell_type": "code",
   "execution_count": null,
   "metadata": {},
   "outputs": [],
   "source": [
    "#function that replaces null values with the mediam\n",
    "df = replace_null_w_median(['sqft_basement'], df)"
   ]
  },
  {
   "cell_type": "code",
   "execution_count": null,
   "metadata": {},
   "outputs": [],
   "source": [
    "# Normalization \n",
    "c = ['price', 'sqft_above', 'sqft_living', 'sqft_living15', 'sqft_lot', 'sqft_lot15']\n",
    "df = log_transform(df, c)\n",
    "df.head()\n"
   ]
  },
  {
   "cell_type": "code",
   "execution_count": null,
   "metadata": {},
   "outputs": [],
   "source": [
    "#Hist fig\n",
    "df.hist(bins=50, figsize=(20,15))\n"
   ]
  },
  {
   "cell_type": "code",
   "execution_count": null,
   "metadata": {},
   "outputs": [],
   "source": [
    "#identify outliers by looking at each indep var vs dep\n",
    "scatter_one_vs_all(df,'log_price')"
   ]
  },
  {
   "cell_type": "code",
   "execution_count": null,
   "metadata": {},
   "outputs": [],
   "source": [
    "# choose bedroom and bathrooms to elim outliers\n",
    "outliers = ['bedrooms', 'bathrooms','long']\n",
    "df = remove_outliers(df, outliers)"
   ]
  },
  {
   "cell_type": "code",
   "execution_count": null,
   "metadata": {},
   "outputs": [],
   "source": [
    "#Scatter fig for all features VS log_prize\n",
    "scatter_one_vs_all(df,'log_price')\n"
   ]
  },
  {
   "cell_type": "code",
   "execution_count": null,
   "metadata": {},
   "outputs": [],
   "source": [
    "#check for colinearity\n",
    "sns.heatmap(abs(df.corr()), cmap = 'BuPu', linewidths=.5)"
   ]
  },
  {
   "cell_type": "code",
   "execution_count": null,
   "metadata": {},
   "outputs": [],
   "source": [
    "df.corr()[abs(df.corr()>.75)]\n"
   ]
  },
  {
   "cell_type": "code",
   "execution_count": null,
   "metadata": {},
   "outputs": [],
   "source": [
    "# Fig Normalized between log_price VS features\n",
    "jarque_bera('log_price', df)\n"
   ]
  },
  {
   "cell_type": "code",
   "execution_count": null,
   "metadata": {},
   "outputs": [],
   "source": [
    "#function that select feaures for our model\n",
    "test_predictors(['log_sqft_above', 'log_sqft_living', 'log_sqft_living15', 'log_sqft_lot', \n",
    "                 'log_sqft_lot15', 'sqft_basement', 'bedrooms', 'bathrooms', 'floors', 'waterfront', \n",
    "                 'condition', 'grade', 'yr_built', 'zipcode', \n",
    "                 'view', 'lat', 'long'], df, 6)"
   ]
  },
  {
   "cell_type": "code",
   "execution_count": null,
   "metadata": {},
   "outputs": [],
   "source": [
    "# function that creates our model\n",
    "from statsmodels.formula.api import ols\n",
    "\n",
    "f = 'log_price~ log_sqft_living + waterfront + grade + condition + log_sqft_living15 + view + yr_built + zipcode'\n",
    "model = ols(formula = f, data = df).fit()\n",
    "model.summary()"
   ]
  },
  {
   "cell_type": "code",
   "execution_count": null,
   "metadata": {
    "slideshow": {
     "slide_type": "slide"
    }
   },
   "outputs": [],
   "source": [
    "def actual_vs_predicted_df(df):\n",
    "    '''makes data frame of actual vs. predicted values and returns the data frame as df_predicted'''\n",
    "    \n",
    "    regressor = LinearRegression()  \n",
    "    regressor.fit(X_train, y_train)\n",
    "\n",
    "    coeff_df = pd.DataFrame(regressor.coef_, X.columns, columns=['Coefficient'])  \n",
    "    coeff_df\n",
    "\n",
    "    y_pred = regressor.predict(X_test)\n",
    "\n",
    "    df_predicted = pd.DataFrame({'Actual': y_test, 'Predicted': y_pred})\n",
    "    \n",
    "\n",
    "    return df_predicted\n"
   ]
  },
  {
   "cell_type": "code",
   "execution_count": null,
   "metadata": {},
   "outputs": [],
   "source": [
    "actual_vs_predicted_df(df)\n"
   ]
  },
  {
   "cell_type": "code",
   "execution_count": null,
   "metadata": {},
   "outputs": [],
   "source": []
  }
 ],
 "metadata": {
  "celltoolbar": "Slideshow",
  "kernelspec": {
   "display_name": "Python 3",
   "language": "python",
   "name": "python3"
  },
  "language_info": {
   "codemirror_mode": {
    "name": "ipython",
    "version": 3
   },
   "file_extension": ".py",
   "mimetype": "text/x-python",
   "name": "python",
   "nbconvert_exporter": "python",
   "pygments_lexer": "ipython3",
   "version": "3.7.1"
  }
 },
 "nbformat": 4,
 "nbformat_minor": 2
}
