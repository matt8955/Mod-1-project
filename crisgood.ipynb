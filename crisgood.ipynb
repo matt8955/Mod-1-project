{
 "cells": [
  {
   "cell_type": "markdown",
   "metadata": {},
   "source": [
    "## Final Project Submission\n",
    "\n",
    "Please fill out:\n",
    "* Student name: Cristina Mulas\n",
    "* Student pace: self paced / part time / full time\n",
    "* Scheduled project review date/time: \n",
    "* Instructor name: \n",
    "* Blog post URL:\n"
   ]
  },
  {
   "cell_type": "code",
<<<<<<< HEAD
   "execution_count": 4,
=======
   "execution_count": 308,
>>>>>>> ec43691725b75e9a524c92a4d856420a552dac52
   "metadata": {},
   "outputs": [],
   "source": [
    "# Import libraries\n",
    "import pandas as pd\n",
    "import numpy as np\n",
    "import seaborn as sns\n",
    "import matplotlib.pyplot as plt\n",
    "%matplotlib inline\n",
    "import statsmodels.api as sm\n",
    "from statsmodels.formula.api import ols\n",
    "# the most correlation  and eveling distributed\n",
    "# do the summaries for all of these\n",
    " #bathrooms , sqft_living , grade ,sqft_above  and sqft_living15 \n",
    "#normalize the prize and all sqrfodos # do the logs to normalize the dataaa\n",
    "# np.log(np.log())"
   ]
  },
  {
   "cell_type": "code",
<<<<<<< HEAD
   "execution_count": 5,
=======
   "execution_count": 309,
>>>>>>> ec43691725b75e9a524c92a4d856420a552dac52
   "metadata": {},
   "outputs": [
    {
     "name": "stdout",
     "output_type": "stream",
     "text": [
      "<class 'pandas.core.frame.DataFrame'>\n",
      "RangeIndex: 21597 entries, 0 to 21596\n",
      "Data columns (total 21 columns):\n",
      "id               21597 non-null int64\n",
      "date             21597 non-null object\n",
      "price            21597 non-null float64\n",
      "bedrooms         21597 non-null int64\n",
      "bathrooms        21597 non-null float64\n",
      "sqft_living      21597 non-null int64\n",
      "sqft_lot         21597 non-null int64\n",
      "floors           21597 non-null float64\n",
      "waterfront       19221 non-null float64\n",
      "view             21534 non-null float64\n",
      "condition        21597 non-null int64\n",
      "grade            21597 non-null int64\n",
      "sqft_above       21597 non-null int64\n",
      "sqft_basement    21597 non-null object\n",
      "yr_built         21597 non-null int64\n",
      "yr_renovated     17755 non-null float64\n",
      "zipcode          21597 non-null int64\n",
      "lat              21597 non-null float64\n",
      "long             21597 non-null float64\n",
      "sqft_living15    21597 non-null int64\n",
      "sqft_lot15       21597 non-null int64\n",
      "dtypes: float64(8), int64(11), object(2)\n",
      "memory usage: 3.5+ MB\n"
     ]
    }
   ],
   "source": [
    "# read the file\n",
    "df = pd.read_csv('kc_house_data.csv')\n",
    "#see the first five rows\n",
    "# df.head()\n",
    "df.info()"
   ]
  },
  {
   "cell_type": "code",
<<<<<<< HEAD
   "execution_count": 6,
=======
   "execution_count": 310,
>>>>>>> ec43691725b75e9a524c92a4d856420a552dac52
   "metadata": {},
   "outputs": [
    {
     "data": {
      "text/html": [
       "<div>\n",
       "<style scoped>\n",
       "    .dataframe tbody tr th:only-of-type {\n",
       "        vertical-align: middle;\n",
       "    }\n",
       "\n",
       "    .dataframe tbody tr th {\n",
       "        vertical-align: top;\n",
       "    }\n",
       "\n",
       "    .dataframe thead th {\n",
       "        text-align: right;\n",
       "    }\n",
       "</style>\n",
       "<table border=\"1\" class=\"dataframe\">\n",
       "  <thead>\n",
       "    <tr style=\"text-align: right;\">\n",
       "      <th></th>\n",
       "      <th>id</th>\n",
       "      <th>date</th>\n",
       "      <th>price</th>\n",
       "      <th>bedrooms</th>\n",
       "      <th>bathrooms</th>\n",
       "      <th>sqft_living</th>\n",
       "      <th>sqft_lot</th>\n",
       "      <th>floors</th>\n",
       "      <th>waterfront</th>\n",
       "      <th>view</th>\n",
       "      <th>...</th>\n",
       "      <th>grade</th>\n",
       "      <th>sqft_above</th>\n",
       "      <th>sqft_basement</th>\n",
       "      <th>yr_built</th>\n",
       "      <th>yr_renovated</th>\n",
       "      <th>zipcode</th>\n",
       "      <th>lat</th>\n",
       "      <th>long</th>\n",
       "      <th>sqft_living15</th>\n",
       "      <th>sqft_lot15</th>\n",
       "    </tr>\n",
       "  </thead>\n",
       "  <tbody>\n",
       "    <tr>\n",
       "      <th>21592</th>\n",
       "      <td>263000018</td>\n",
       "      <td>5/21/2014</td>\n",
       "      <td>360000.0</td>\n",
       "      <td>3</td>\n",
       "      <td>2.50</td>\n",
       "      <td>1530</td>\n",
       "      <td>1131</td>\n",
       "      <td>3.0</td>\n",
       "      <td>0.0</td>\n",
       "      <td>0.0</td>\n",
       "      <td>...</td>\n",
       "      <td>8</td>\n",
       "      <td>1530</td>\n",
       "      <td>0.0</td>\n",
       "      <td>2009</td>\n",
       "      <td>0.0</td>\n",
       "      <td>98103</td>\n",
       "      <td>47.6993</td>\n",
       "      <td>-122.346</td>\n",
       "      <td>1530</td>\n",
       "      <td>1509</td>\n",
       "    </tr>\n",
       "    <tr>\n",
       "      <th>21593</th>\n",
       "      <td>6600060120</td>\n",
       "      <td>2/23/2015</td>\n",
       "      <td>400000.0</td>\n",
       "      <td>4</td>\n",
       "      <td>2.50</td>\n",
       "      <td>2310</td>\n",
       "      <td>5813</td>\n",
       "      <td>2.0</td>\n",
       "      <td>0.0</td>\n",
       "      <td>0.0</td>\n",
       "      <td>...</td>\n",
       "      <td>8</td>\n",
       "      <td>2310</td>\n",
       "      <td>0.0</td>\n",
       "      <td>2014</td>\n",
       "      <td>0.0</td>\n",
       "      <td>98146</td>\n",
       "      <td>47.5107</td>\n",
       "      <td>-122.362</td>\n",
       "      <td>1830</td>\n",
       "      <td>7200</td>\n",
       "    </tr>\n",
       "    <tr>\n",
       "      <th>21594</th>\n",
       "      <td>1523300141</td>\n",
       "      <td>6/23/2014</td>\n",
       "      <td>402101.0</td>\n",
       "      <td>2</td>\n",
       "      <td>0.75</td>\n",
       "      <td>1020</td>\n",
       "      <td>1350</td>\n",
       "      <td>2.0</td>\n",
       "      <td>0.0</td>\n",
       "      <td>0.0</td>\n",
       "      <td>...</td>\n",
       "      <td>7</td>\n",
       "      <td>1020</td>\n",
       "      <td>0.0</td>\n",
       "      <td>2009</td>\n",
       "      <td>0.0</td>\n",
       "      <td>98144</td>\n",
       "      <td>47.5944</td>\n",
       "      <td>-122.299</td>\n",
       "      <td>1020</td>\n",
       "      <td>2007</td>\n",
       "    </tr>\n",
       "    <tr>\n",
       "      <th>21595</th>\n",
       "      <td>291310100</td>\n",
       "      <td>1/16/2015</td>\n",
       "      <td>400000.0</td>\n",
       "      <td>3</td>\n",
       "      <td>2.50</td>\n",
       "      <td>1600</td>\n",
       "      <td>2388</td>\n",
       "      <td>2.0</td>\n",
       "      <td>NaN</td>\n",
       "      <td>0.0</td>\n",
       "      <td>...</td>\n",
       "      <td>8</td>\n",
       "      <td>1600</td>\n",
       "      <td>0.0</td>\n",
       "      <td>2004</td>\n",
       "      <td>0.0</td>\n",
       "      <td>98027</td>\n",
       "      <td>47.5345</td>\n",
       "      <td>-122.069</td>\n",
       "      <td>1410</td>\n",
       "      <td>1287</td>\n",
       "    </tr>\n",
       "    <tr>\n",
       "      <th>21596</th>\n",
       "      <td>1523300157</td>\n",
       "      <td>10/15/2014</td>\n",
       "      <td>325000.0</td>\n",
       "      <td>2</td>\n",
       "      <td>0.75</td>\n",
       "      <td>1020</td>\n",
       "      <td>1076</td>\n",
       "      <td>2.0</td>\n",
       "      <td>0.0</td>\n",
       "      <td>0.0</td>\n",
       "      <td>...</td>\n",
       "      <td>7</td>\n",
       "      <td>1020</td>\n",
       "      <td>0.0</td>\n",
       "      <td>2008</td>\n",
       "      <td>0.0</td>\n",
       "      <td>98144</td>\n",
       "      <td>47.5941</td>\n",
       "      <td>-122.299</td>\n",
       "      <td>1020</td>\n",
       "      <td>1357</td>\n",
       "    </tr>\n",
       "  </tbody>\n",
       "</table>\n",
       "<p>5 rows × 21 columns</p>\n",
       "</div>"
      ],
      "text/plain": [
       "               id        date     price  bedrooms  bathrooms  sqft_living  \\\n",
       "21592   263000018   5/21/2014  360000.0         3       2.50         1530   \n",
       "21593  6600060120   2/23/2015  400000.0         4       2.50         2310   \n",
       "21594  1523300141   6/23/2014  402101.0         2       0.75         1020   \n",
       "21595   291310100   1/16/2015  400000.0         3       2.50         1600   \n",
       "21596  1523300157  10/15/2014  325000.0         2       0.75         1020   \n",
       "\n",
       "       sqft_lot  floors  waterfront  view  ...  grade  sqft_above  \\\n",
       "21592      1131     3.0         0.0   0.0  ...      8        1530   \n",
       "21593      5813     2.0         0.0   0.0  ...      8        2310   \n",
       "21594      1350     2.0         0.0   0.0  ...      7        1020   \n",
       "21595      2388     2.0         NaN   0.0  ...      8        1600   \n",
       "21596      1076     2.0         0.0   0.0  ...      7        1020   \n",
       "\n",
       "       sqft_basement yr_built  yr_renovated  zipcode      lat     long  \\\n",
       "21592            0.0     2009           0.0    98103  47.6993 -122.346   \n",
       "21593            0.0     2014           0.0    98146  47.5107 -122.362   \n",
       "21594            0.0     2009           0.0    98144  47.5944 -122.299   \n",
       "21595            0.0     2004           0.0    98027  47.5345 -122.069   \n",
       "21596            0.0     2008           0.0    98144  47.5941 -122.299   \n",
       "\n",
       "       sqft_living15  sqft_lot15  \n",
       "21592           1530        1509  \n",
       "21593           1830        7200  \n",
       "21594           1020        2007  \n",
       "21595           1410        1287  \n",
       "21596           1020        1357  \n",
       "\n",
       "[5 rows x 21 columns]"
      ]
     },
<<<<<<< HEAD
     "execution_count": 6,
=======
     "execution_count": 310,
>>>>>>> ec43691725b75e9a524c92a4d856420a552dac52
     "metadata": {},
     "output_type": "execute_result"
    }
   ],
   "source": [
    "# see the last five rows\n",
    "df.tail()"
   ]
  },
  {
   "cell_type": "code",
   "execution_count": 311,
   "metadata": {},
   "outputs": [
    {
     "data": {
      "text/plain": [
       "<matplotlib.axes._subplots.AxesSubplot at 0x12e2f2668>"
      ]
     },
     "execution_count": 311,
     "metadata": {},
     "output_type": "execute_result"
    },
    {
     "data": {
      "image/png": "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\n",
      "text/plain": [
       "<Figure size 432x288 with 1 Axes>"
      ]
     },
     "metadata": {
      "needs_background": "light"
     },
     "output_type": "display_data"
    }
   ],
   "source": [
    "# grade , view , zipc\n",
    "#ZIPCODE\n",
    "sns.boxplot(x=\"grade\", y=\"price\", data= df)"
   ]
  },
  {
   "cell_type": "code",
   "execution_count": 312,
   "metadata": {},
   "outputs": [
    {
     "data": {
      "text/plain": [
       "<matplotlib.axes._subplots.AxesSubplot at 0x12dd0a470>"
      ]
     },
     "execution_count": 312,
     "metadata": {},
     "output_type": "execute_result"
    },
    {
     "data": {
      "image/png": "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\n",
      "text/plain": [
       "<Figure size 432x288 with 1 Axes>"
      ]
     },
     "metadata": {
      "needs_background": "light"
     },
     "output_type": "display_data"
    }
   ],
   "source": [
    "#GRADE\n",
    "#df.waterfront.value_counts()\n",
    "sns.boxplot(x=\"waterfront\", y=\"price\", data= df)"
   ]
  },
  {
   "cell_type": "code",
   "execution_count": 313,
   "metadata": {},
   "outputs": [],
   "source": [
    "# df.bathrooms.value_counts()\n"
   ]
  },
  {
   "cell_type": "code",
   "execution_count": 314,
   "metadata": {},
   "outputs": [
    {
     "data": {
      "text/plain": [
       "<matplotlib.axes._subplots.AxesSubplot at 0x12df6c898>"
      ]
     },
     "execution_count": 314,
     "metadata": {},
     "output_type": "execute_result"
    },
    {
     "data": {
      "image/png": "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\n",
      "text/plain": [
       "<Figure size 432x288 with 1 Axes>"
      ]
     },
     "metadata": {
      "needs_background": "light"
     },
     "output_type": "display_data"
    }
   ],
   "source": [
    "#view \n",
    "sns.boxplot(x=\"bathrooms\", y=\"price\", data= df, order=np.arange(1,7.5))"
   ]
  },
  {
   "cell_type": "code",
   "execution_count": 315,
   "metadata": {},
   "outputs": [
    {
     "ename": "SyntaxError",
     "evalue": "invalid syntax (<ipython-input-315-c3f121f3ecd7>, line 2)",
     "output_type": "error",
     "traceback": [
      "\u001b[0;36m  File \u001b[0;32m\"<ipython-input-315-c3f121f3ecd7>\"\u001b[0;36m, line \u001b[0;32m2\u001b[0m\n\u001b[0;31m    wchicone asre most colinear adn which ones are the most good correlation table\u001b[0m\n\u001b[0m                ^\u001b[0m\n\u001b[0;31mSyntaxError\u001b[0m\u001b[0;31m:\u001b[0m invalid syntax\n"
     ]
    }
   ],
   "source": [
    "df.columns\n",
    "wchicone asre most colinear adn which ones are the most good correlation table"
   ]
  },
  {
   "cell_type": "code",
   "execution_count": null,
<<<<<<< HEAD
   "metadata": {},
   "outputs": [],
   "source": [
    "df.view.replace()"
   ]
  },
  {
   "cell_type": "code",
   "execution_count": 335,
=======
>>>>>>> ec43691725b75e9a524c92a4d856420a552dac52
   "metadata": {},
   "outputs": [],
   "source": [
    "#bathrooms , sqft_living , grade ,sqft_above  and sqft_living15 \n",
    "#LIVING ROOM\n",
    "sns.scatterplot(x=\"sqft_living\", y=\"price\", data=df)\n"
   ]
  },
  {
   "cell_type": "code",
   "execution_count": null,
   "metadata": {},
   "outputs": [],
   "source": [
    "#ABOVE\n",
    "sns.scatterplot(x= \"sqft_above\", y=\"price\", data=df)\n"
   ]
  },
  {
   "cell_type": "code",
   "execution_count": null,
   "metadata": {},
   "outputs": [],
   "source": [
    "\n",
    "sns.scatterplot(x= \"sqft_living15\", y=\"price\", data=df)\n"
   ]
  },
  {
   "cell_type": "code",
   "execution_count": null,
   "metadata": {},
   "outputs": [],
   "source": [
    "# descriptibe statistics for all columns\n",
    "df.describe()"
   ]
  },
  {
   "cell_type": "code",
   "execution_count": 297,
   "metadata": {},
   "outputs": [
    {
     "name": "stdout",
     "output_type": "stream",
     "text": [
      "                            OLS Regression Results                            \n",
      "==============================================================================\n",
      "Dep. Variable:                  price   R-squared:                       0.343\n",
      "Model:                            OLS   Adj. R-squared:                  0.342\n",
      "Method:                 Least Squares   F-statistic:                 1.125e+04\n",
      "Date:                Wed, 19 Jun 2019   Prob (F-statistic):               0.00\n",
      "Time:                        16:11:37   Log-Likelihood:            -3.0286e+05\n",
      "No. Observations:               21597   AIC:                         6.057e+05\n",
      "Df Residuals:                   21595   BIC:                         6.057e+05\n",
      "Df Model:                           1                                         \n",
      "Covariance Type:            nonrobust                                         \n",
      "=================================================================================\n",
      "                    coef    std err          t      P>|t|      [0.025      0.975]\n",
      "---------------------------------------------------------------------------------\n",
      "Intercept     -8.303e+04   6216.659    -13.356      0.000   -9.52e+04   -7.08e+04\n",
      "sqft_living15   313.7615      2.958    106.064      0.000     307.963     319.560\n",
      "==============================================================================\n",
      "Omnibus:                    20143.282   Durbin-Watson:                   1.983\n",
      "Prob(Omnibus):                  0.000   Jarque-Bera (JB):          1910578.895\n",
      "Skew:                           4.207   Prob(JB):                         0.00\n",
      "Kurtosis:                      48.303   Cond. No.                     6.44e+03\n",
      "==============================================================================\n",
      "\n",
      "Warnings:\n",
      "[1] Standard Errors assume that the covariance matrix of the errors is correctly specified.\n",
      "[2] The condition number is large, 6.44e+03. This might indicate that there are\n",
      "strong multicollinearity or other numerical problems.\n"
     ]
    }
   ],
   "source": [
    "import statsmodels.formula.api as smf\n",
    "\n",
    "model = smf.ols('price ~ sqft_living15', df).fit()\n",
    "print(model.summary())\n"
   ]
  },
  {
   "cell_type": "code",
   "execution_count": 298,
   "metadata": {},
   "outputs": [
    {
     "data": {
      "text/plain": [
       "Index(['id', 'date', 'price', 'bedrooms', 'bathrooms', 'sqft_living',\n",
       "       'sqft_lot', 'floors', 'waterfront', 'view', 'condition', 'grade',\n",
       "       'sqft_above', 'sqft_basement', 'yr_built', 'yr_renovated', 'zipcode',\n",
       "       'lat', 'long', 'sqft_living15', 'sqft_lot15'],\n",
       "      dtype='object')"
      ]
     },
     "execution_count": 298,
     "metadata": {},
     "output_type": "execute_result"
    }
   ],
   "source": [
    "df.columns\n"
   ]
  },
  {
   "cell_type": "code",
   "execution_count": 322,
   "metadata": {},
   "outputs": [
    {
     "name": "stdout",
     "output_type": "stream",
     "text": [
      "                            OLS Regression Results                            \n",
      "==============================================================================\n",
      "Dep. Variable:                  price   R-squared:                       0.782\n",
      "Model:                            OLS   Adj. R-squared:                  0.782\n",
      "Method:                 Least Squares   F-statistic:                 3.881e+04\n",
      "Date:                Wed, 19 Jun 2019   Prob (F-statistic):               0.00\n",
      "Time:                        21:41:44   Log-Likelihood:            -3.0336e+05\n",
      "No. Observations:               21597   AIC:                         6.067e+05\n",
      "Df Residuals:                   21595   BIC:                         6.067e+05\n",
      "Df Model:                           2                                         \n",
      "Covariance Type:            nonrobust                                         \n",
      "==============================================================================\n",
      "                 coef    std err          t      P>|t|      [0.025      0.975]\n",
      "------------------------------------------------------------------------------\n",
      "grade        3.31e+04    999.557     33.117      0.000    3.11e+04    3.51e+04\n",
      "bathrooms   1.451e+05   3439.821     42.190      0.000    1.38e+05    1.52e+05\n",
      "==============================================================================\n",
      "Omnibus:                    20173.047   Durbin-Watson:                   1.961\n",
      "Prob(Omnibus):                  0.000   Jarque-Bera (JB):          1594155.516\n",
      "Skew:                           4.292   Prob(JB):                         0.00\n",
      "Kurtosis:                      44.205   Cond. No.                         13.9\n",
      "==============================================================================\n",
      "\n",
      "Warnings:\n",
      "[1] Standard Errors assume that the covariance matrix of the errors is correctly specified.\n"
     ]
    }
   ],
   "source": [
    "X = df[['grade','bathrooms']] # here we have 2 variables for multiple regression. If you just want to use one variable for simple linear regression, then use X = df['Interest_Rate'] for example.Alternatively, you may add additional variables within the brackets\n",
    "Y = df['price']\n",
    "\n",
    "#X = sm.add_constant(X) # adding a constant\n",
    "\n",
    "model = smf.OLS(Y, X).fit()\n",
    "predictions = model.predict(X) \n",
    "\n",
    "print_model = model.summary()\n",
    "print(print_model)"
   ]
  },
  {
   "cell_type": "code",
   "execution_count": 300,
   "metadata": {},
   "outputs": [
    {
     "name": "stdout",
     "output_type": "stream",
     "text": [
      "                            OLS Regression Results                            \n",
      "==============================================================================\n",
      "Dep. Variable:                  price   R-squared:                       0.277\n",
      "Model:                            OLS   Adj. R-squared:                  0.277\n",
      "Method:                 Least Squares   F-statistic:                     8256.\n",
      "Date:                Wed, 19 Jun 2019   Prob (F-statistic):               0.00\n",
      "Time:                        16:52:41   Log-Likelihood:            -3.0389e+05\n",
      "No. Observations:               21597   AIC:                         6.078e+05\n",
      "Df Residuals:                   21595   BIC:                         6.078e+05\n",
      "Df Model:                           1                                         \n",
      "Covariance Type:            nonrobust                                         \n",
      "==============================================================================\n",
      "                 coef    std err          t      P>|t|      [0.025      0.975]\n",
      "------------------------------------------------------------------------------\n",
      "Intercept   8712.6518   6224.769      1.400      0.162   -3488.356    2.09e+04\n",
      "bathrooms   2.512e+05   2765.054     90.863      0.000    2.46e+05    2.57e+05\n",
      "==============================================================================\n",
      "Omnibus:                    17251.570   Durbin-Watson:                   1.960\n",
      "Prob(Omnibus):                  0.000   Jarque-Bera (JB):           882735.889\n",
      "Skew:                           3.452   Prob(JB):                         0.00\n",
      "Kurtosis:                      33.550   Cond. No.                         7.76\n",
      "==============================================================================\n",
      "\n",
      "Warnings:\n",
      "[1] Standard Errors assume that the covariance matrix of the errors is correctly specified.\n"
     ]
    }
   ],
   "source": [
    "model = smf.ols('price ~ bathrooms', df).fit()\n",
    "print(model.summary())"
   ]
  },
  {
   "cell_type": "code",
   "execution_count": 301,
   "metadata": {},
   "outputs": [
    {
     "name": "stdout",
     "output_type": "stream",
     "text": [
      "                            OLS Regression Results                            \n",
      "==============================================================================\n",
      "Dep. Variable:                  price   R-squared:                       0.493\n",
      "Model:                            OLS   Adj. R-squared:                  0.493\n",
      "Method:                 Least Squares   F-statistic:                 2.097e+04\n",
      "Date:                Wed, 19 Jun 2019   Prob (F-statistic):               0.00\n",
      "Time:                        16:54:54   Log-Likelihood:            -3.0006e+05\n",
      "No. Observations:               21597   AIC:                         6.001e+05\n",
      "Df Residuals:                   21595   BIC:                         6.001e+05\n",
      "Df Model:                           1                                         \n",
      "Covariance Type:            nonrobust                                         \n",
      "===============================================================================\n",
      "                  coef    std err          t      P>|t|      [0.025      0.975]\n",
      "-------------------------------------------------------------------------------\n",
      "Intercept   -4.399e+04   4410.023     -9.975      0.000   -5.26e+04   -3.53e+04\n",
      "sqft_living   280.8630      1.939    144.819      0.000     277.062     284.664\n",
      "==============================================================================\n",
      "Omnibus:                    14801.942   Durbin-Watson:                   1.982\n",
      "Prob(Omnibus):                  0.000   Jarque-Bera (JB):           542662.604\n",
      "Skew:                           2.820   Prob(JB):                         0.00\n",
      "Kurtosis:                      26.901   Cond. No.                     5.63e+03\n",
      "==============================================================================\n",
      "\n",
      "Warnings:\n",
      "[1] Standard Errors assume that the covariance matrix of the errors is correctly specified.\n",
      "[2] The condition number is large, 5.63e+03. This might indicate that there are\n",
      "strong multicollinearity or other numerical problems.\n"
     ]
    }
   ],
   "source": [
    "model = smf.ols('price ~ sqft_living', df).fit()\n",
    "print(model.summary())"
   ]
  },
  {
   "cell_type": "code",
   "execution_count": null,
   "metadata": {},
   "outputs": [],
   "source": [
    "Index(['id', 'date', 'price', 'bedrooms', 'bathrooms', 'sqft_living',\n",
    "       'sqft_lot', 'floors', 'waterfront', 'view', 'condition', 'grade',\n",
    "       'sqft_above', 'sqft_basement', 'yr_built', 'yr_renovated', 'zipcode',\n",
    "       'lat', 'long', 'sqft_living15', 'sqft_lot15'],\n",
    "      dtype='object')"
   ]
  },
  {
   "cell_type": "code",
   "execution_count": null,
   "metadata": {},
   "outputs": [],
   "source": [
    "model = smf.ols('price ~ sqft_living', df).fit()\n",
    "print(model.summary())"
   ]
  },
  {
   "cell_type": "code",
   "execution_count": 323,
   "metadata": {},
   "outputs": [
    {
     "data": {
      "image/png": "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\n",
      "text/plain": [
       "<Figure size 1008x864 with 2 Axes>"
      ]
     },
     "metadata": {
      "needs_background": "light"
     },
     "output_type": "display_data"
    }
   ],
   "source": [
    "correlation = df.corr()\n",
    "plt.figure(figsize=(14, 12))\n",
    "heatmap = sns.heatmap(correlation, annot=True,vmin=-1, linewidths=0, cmap=\"RdBu_r\")"
   ]
  },
  {
   "cell_type": "code",
   "execution_count": 177,
   "metadata": {},
   "outputs": [
    {
     "data": {
      "text/plain": [
       "0.0    19422\n",
       "2.0      957\n",
       "3.0      508\n",
       "1.0      330\n",
       "4.0      317\n",
       "Name: view, dtype: int64"
      ]
     },
     "execution_count": 177,
     "metadata": {},
     "output_type": "execute_result"
    }
   ],
   "source": [
    "# view missing values\n",
    "df.view.isnull().sum()\n",
    "df.view.value_counts()"
   ]
  },
  {
   "cell_type": "code",
   "execution_count": 324,
   "metadata": {},
   "outputs": [
    {
     "data": {
      "text/html": [
       "<div>\n",
       "<style scoped>\n",
       "    .dataframe tbody tr th:only-of-type {\n",
       "        vertical-align: middle;\n",
       "    }\n",
       "\n",
       "    .dataframe tbody tr th {\n",
       "        vertical-align: top;\n",
       "    }\n",
       "\n",
       "    .dataframe thead th {\n",
       "        text-align: right;\n",
       "    }\n",
       "</style>\n",
       "<table border=\"1\" class=\"dataframe\">\n",
       "  <thead>\n",
       "    <tr style=\"text-align: right;\">\n",
       "      <th></th>\n",
       "      <th>id</th>\n",
       "      <th>price</th>\n",
       "      <th>bedrooms</th>\n",
       "      <th>bathrooms</th>\n",
       "      <th>sqft_living</th>\n",
       "      <th>sqft_lot</th>\n",
       "      <th>floors</th>\n",
       "      <th>waterfront</th>\n",
       "      <th>view</th>\n",
       "      <th>condition</th>\n",
       "      <th>grade</th>\n",
       "      <th>sqft_above</th>\n",
       "      <th>yr_built</th>\n",
       "      <th>yr_renovated</th>\n",
       "      <th>zipcode</th>\n",
       "      <th>lat</th>\n",
       "      <th>long</th>\n",
       "      <th>sqft_living15</th>\n",
       "      <th>sqft_lot15</th>\n",
       "    </tr>\n",
       "  </thead>\n",
       "  <tbody>\n",
       "    <tr>\n",
       "      <th>id</th>\n",
       "      <td>True</td>\n",
       "      <td>False</td>\n",
       "      <td>False</td>\n",
       "      <td>False</td>\n",
       "      <td>False</td>\n",
       "      <td>False</td>\n",
       "      <td>False</td>\n",
       "      <td>False</td>\n",
       "      <td>False</td>\n",
       "      <td>False</td>\n",
       "      <td>False</td>\n",
       "      <td>False</td>\n",
       "      <td>False</td>\n",
       "      <td>False</td>\n",
       "      <td>False</td>\n",
       "      <td>False</td>\n",
       "      <td>False</td>\n",
       "      <td>False</td>\n",
       "      <td>False</td>\n",
       "    </tr>\n",
       "    <tr>\n",
       "      <th>price</th>\n",
       "      <td>False</td>\n",
       "      <td>True</td>\n",
       "      <td>False</td>\n",
       "      <td>False</td>\n",
       "      <td>True</td>\n",
       "      <td>False</td>\n",
       "      <td>False</td>\n",
       "      <td>False</td>\n",
       "      <td>False</td>\n",
       "      <td>False</td>\n",
       "      <td>False</td>\n",
       "      <td>False</td>\n",
       "      <td>False</td>\n",
       "      <td>False</td>\n",
       "      <td>False</td>\n",
       "      <td>False</td>\n",
       "      <td>False</td>\n",
       "      <td>False</td>\n",
       "      <td>False</td>\n",
       "    </tr>\n",
       "    <tr>\n",
       "      <th>bedrooms</th>\n",
       "      <td>False</td>\n",
       "      <td>False</td>\n",
       "      <td>True</td>\n",
       "      <td>False</td>\n",
       "      <td>False</td>\n",
       "      <td>False</td>\n",
       "      <td>False</td>\n",
       "      <td>False</td>\n",
       "      <td>False</td>\n",
       "      <td>False</td>\n",
       "      <td>False</td>\n",
       "      <td>False</td>\n",
       "      <td>False</td>\n",
       "      <td>False</td>\n",
       "      <td>False</td>\n",
       "      <td>False</td>\n",
       "      <td>False</td>\n",
       "      <td>False</td>\n",
       "      <td>False</td>\n",
       "    </tr>\n",
       "    <tr>\n",
       "      <th>bathrooms</th>\n",
       "      <td>False</td>\n",
       "      <td>False</td>\n",
       "      <td>False</td>\n",
       "      <td>True</td>\n",
       "      <td>True</td>\n",
       "      <td>False</td>\n",
       "      <td>False</td>\n",
       "      <td>False</td>\n",
       "      <td>False</td>\n",
       "      <td>False</td>\n",
       "      <td>False</td>\n",
       "      <td>False</td>\n",
       "      <td>False</td>\n",
       "      <td>False</td>\n",
       "      <td>False</td>\n",
       "      <td>False</td>\n",
       "      <td>False</td>\n",
       "      <td>False</td>\n",
       "      <td>False</td>\n",
       "    </tr>\n",
       "    <tr>\n",
       "      <th>sqft_living</th>\n",
       "      <td>False</td>\n",
       "      <td>True</td>\n",
       "      <td>False</td>\n",
       "      <td>True</td>\n",
       "      <td>True</td>\n",
       "      <td>False</td>\n",
       "      <td>False</td>\n",
       "      <td>False</td>\n",
       "      <td>False</td>\n",
       "      <td>False</td>\n",
       "      <td>True</td>\n",
       "      <td>True</td>\n",
       "      <td>False</td>\n",
       "      <td>False</td>\n",
       "      <td>False</td>\n",
       "      <td>False</td>\n",
       "      <td>False</td>\n",
       "      <td>True</td>\n",
       "      <td>False</td>\n",
       "    </tr>\n",
       "    <tr>\n",
       "      <th>sqft_lot</th>\n",
       "      <td>False</td>\n",
       "      <td>False</td>\n",
       "      <td>False</td>\n",
       "      <td>False</td>\n",
       "      <td>False</td>\n",
       "      <td>True</td>\n",
       "      <td>False</td>\n",
       "      <td>False</td>\n",
       "      <td>False</td>\n",
       "      <td>False</td>\n",
       "      <td>False</td>\n",
       "      <td>False</td>\n",
       "      <td>False</td>\n",
       "      <td>False</td>\n",
       "      <td>False</td>\n",
       "      <td>False</td>\n",
       "      <td>False</td>\n",
       "      <td>False</td>\n",
       "      <td>True</td>\n",
       "    </tr>\n",
       "    <tr>\n",
       "      <th>floors</th>\n",
       "      <td>False</td>\n",
       "      <td>False</td>\n",
       "      <td>False</td>\n",
       "      <td>False</td>\n",
       "      <td>False</td>\n",
       "      <td>False</td>\n",
       "      <td>True</td>\n",
       "      <td>False</td>\n",
       "      <td>False</td>\n",
       "      <td>False</td>\n",
       "      <td>False</td>\n",
       "      <td>False</td>\n",
       "      <td>False</td>\n",
       "      <td>False</td>\n",
       "      <td>False</td>\n",
       "      <td>False</td>\n",
       "      <td>False</td>\n",
       "      <td>False</td>\n",
       "      <td>False</td>\n",
       "    </tr>\n",
       "    <tr>\n",
       "      <th>waterfront</th>\n",
       "      <td>False</td>\n",
       "      <td>False</td>\n",
       "      <td>False</td>\n",
       "      <td>False</td>\n",
       "      <td>False</td>\n",
       "      <td>False</td>\n",
       "      <td>False</td>\n",
       "      <td>True</td>\n",
       "      <td>False</td>\n",
       "      <td>False</td>\n",
       "      <td>False</td>\n",
       "      <td>False</td>\n",
       "      <td>False</td>\n",
       "      <td>False</td>\n",
       "      <td>False</td>\n",
       "      <td>False</td>\n",
       "      <td>False</td>\n",
       "      <td>False</td>\n",
       "      <td>False</td>\n",
       "    </tr>\n",
       "    <tr>\n",
       "      <th>view</th>\n",
       "      <td>False</td>\n",
       "      <td>False</td>\n",
       "      <td>False</td>\n",
       "      <td>False</td>\n",
       "      <td>False</td>\n",
       "      <td>False</td>\n",
       "      <td>False</td>\n",
       "      <td>False</td>\n",
       "      <td>True</td>\n",
       "      <td>False</td>\n",
       "      <td>False</td>\n",
       "      <td>False</td>\n",
       "      <td>False</td>\n",
       "      <td>False</td>\n",
       "      <td>False</td>\n",
       "      <td>False</td>\n",
       "      <td>False</td>\n",
       "      <td>False</td>\n",
       "      <td>False</td>\n",
       "    </tr>\n",
       "    <tr>\n",
       "      <th>condition</th>\n",
       "      <td>False</td>\n",
       "      <td>False</td>\n",
       "      <td>False</td>\n",
       "      <td>False</td>\n",
       "      <td>False</td>\n",
       "      <td>False</td>\n",
       "      <td>False</td>\n",
       "      <td>False</td>\n",
       "      <td>False</td>\n",
       "      <td>True</td>\n",
       "      <td>False</td>\n",
       "      <td>False</td>\n",
       "      <td>False</td>\n",
       "      <td>False</td>\n",
       "      <td>False</td>\n",
       "      <td>False</td>\n",
       "      <td>False</td>\n",
       "      <td>False</td>\n",
       "      <td>False</td>\n",
       "    </tr>\n",
       "    <tr>\n",
       "      <th>grade</th>\n",
       "      <td>False</td>\n",
       "      <td>False</td>\n",
       "      <td>False</td>\n",
       "      <td>False</td>\n",
       "      <td>True</td>\n",
       "      <td>False</td>\n",
       "      <td>False</td>\n",
       "      <td>False</td>\n",
       "      <td>False</td>\n",
       "      <td>False</td>\n",
       "      <td>True</td>\n",
       "      <td>True</td>\n",
       "      <td>False</td>\n",
       "      <td>False</td>\n",
       "      <td>False</td>\n",
       "      <td>False</td>\n",
       "      <td>False</td>\n",
       "      <td>True</td>\n",
       "      <td>False</td>\n",
       "    </tr>\n",
       "    <tr>\n",
       "      <th>sqft_above</th>\n",
       "      <td>False</td>\n",
       "      <td>False</td>\n",
       "      <td>False</td>\n",
       "      <td>False</td>\n",
       "      <td>True</td>\n",
       "      <td>False</td>\n",
       "      <td>False</td>\n",
       "      <td>False</td>\n",
       "      <td>False</td>\n",
       "      <td>False</td>\n",
       "      <td>True</td>\n",
       "      <td>True</td>\n",
       "      <td>False</td>\n",
       "      <td>False</td>\n",
       "      <td>False</td>\n",
       "      <td>False</td>\n",
       "      <td>False</td>\n",
       "      <td>True</td>\n",
       "      <td>False</td>\n",
       "    </tr>\n",
       "    <tr>\n",
       "      <th>yr_built</th>\n",
       "      <td>False</td>\n",
       "      <td>False</td>\n",
       "      <td>False</td>\n",
       "      <td>False</td>\n",
       "      <td>False</td>\n",
       "      <td>False</td>\n",
       "      <td>False</td>\n",
       "      <td>False</td>\n",
       "      <td>False</td>\n",
       "      <td>False</td>\n",
       "      <td>False</td>\n",
       "      <td>False</td>\n",
       "      <td>True</td>\n",
       "      <td>False</td>\n",
       "      <td>False</td>\n",
       "      <td>False</td>\n",
       "      <td>False</td>\n",
       "      <td>False</td>\n",
       "      <td>False</td>\n",
       "    </tr>\n",
       "    <tr>\n",
       "      <th>yr_renovated</th>\n",
       "      <td>False</td>\n",
       "      <td>False</td>\n",
       "      <td>False</td>\n",
       "      <td>False</td>\n",
       "      <td>False</td>\n",
       "      <td>False</td>\n",
       "      <td>False</td>\n",
       "      <td>False</td>\n",
       "      <td>False</td>\n",
       "      <td>False</td>\n",
       "      <td>False</td>\n",
       "      <td>False</td>\n",
       "      <td>False</td>\n",
       "      <td>True</td>\n",
       "      <td>False</td>\n",
       "      <td>False</td>\n",
       "      <td>False</td>\n",
       "      <td>False</td>\n",
       "      <td>False</td>\n",
       "    </tr>\n",
       "    <tr>\n",
       "      <th>zipcode</th>\n",
       "      <td>False</td>\n",
       "      <td>False</td>\n",
       "      <td>False</td>\n",
       "      <td>False</td>\n",
       "      <td>False</td>\n",
       "      <td>False</td>\n",
       "      <td>False</td>\n",
       "      <td>False</td>\n",
       "      <td>False</td>\n",
       "      <td>False</td>\n",
       "      <td>False</td>\n",
       "      <td>False</td>\n",
       "      <td>False</td>\n",
       "      <td>False</td>\n",
       "      <td>True</td>\n",
       "      <td>False</td>\n",
       "      <td>False</td>\n",
       "      <td>False</td>\n",
       "      <td>False</td>\n",
       "    </tr>\n",
       "    <tr>\n",
       "      <th>lat</th>\n",
       "      <td>False</td>\n",
       "      <td>False</td>\n",
       "      <td>False</td>\n",
       "      <td>False</td>\n",
       "      <td>False</td>\n",
       "      <td>False</td>\n",
       "      <td>False</td>\n",
       "      <td>False</td>\n",
       "      <td>False</td>\n",
       "      <td>False</td>\n",
       "      <td>False</td>\n",
       "      <td>False</td>\n",
       "      <td>False</td>\n",
       "      <td>False</td>\n",
       "      <td>False</td>\n",
       "      <td>True</td>\n",
       "      <td>False</td>\n",
       "      <td>False</td>\n",
       "      <td>False</td>\n",
       "    </tr>\n",
       "    <tr>\n",
       "      <th>long</th>\n",
       "      <td>False</td>\n",
       "      <td>False</td>\n",
       "      <td>False</td>\n",
       "      <td>False</td>\n",
       "      <td>False</td>\n",
       "      <td>False</td>\n",
       "      <td>False</td>\n",
       "      <td>False</td>\n",
       "      <td>False</td>\n",
       "      <td>False</td>\n",
       "      <td>False</td>\n",
       "      <td>False</td>\n",
       "      <td>False</td>\n",
       "      <td>False</td>\n",
       "      <td>False</td>\n",
       "      <td>False</td>\n",
       "      <td>True</td>\n",
       "      <td>False</td>\n",
       "      <td>False</td>\n",
       "    </tr>\n",
       "    <tr>\n",
       "      <th>sqft_living15</th>\n",
       "      <td>False</td>\n",
       "      <td>False</td>\n",
       "      <td>False</td>\n",
       "      <td>False</td>\n",
       "      <td>True</td>\n",
       "      <td>False</td>\n",
       "      <td>False</td>\n",
       "      <td>False</td>\n",
       "      <td>False</td>\n",
       "      <td>False</td>\n",
       "      <td>True</td>\n",
       "      <td>True</td>\n",
       "      <td>False</td>\n",
       "      <td>False</td>\n",
       "      <td>False</td>\n",
       "      <td>False</td>\n",
       "      <td>False</td>\n",
       "      <td>True</td>\n",
       "      <td>False</td>\n",
       "    </tr>\n",
       "    <tr>\n",
       "      <th>sqft_lot15</th>\n",
       "      <td>False</td>\n",
       "      <td>False</td>\n",
       "      <td>False</td>\n",
       "      <td>False</td>\n",
       "      <td>False</td>\n",
       "      <td>True</td>\n",
       "      <td>False</td>\n",
       "      <td>False</td>\n",
       "      <td>False</td>\n",
       "      <td>False</td>\n",
       "      <td>False</td>\n",
       "      <td>False</td>\n",
       "      <td>False</td>\n",
       "      <td>False</td>\n",
       "      <td>False</td>\n",
       "      <td>False</td>\n",
       "      <td>False</td>\n",
       "      <td>False</td>\n",
       "      <td>True</td>\n",
       "    </tr>\n",
       "  </tbody>\n",
       "</table>\n",
       "</div>"
      ],
      "text/plain": [
       "                  id  price  bedrooms  bathrooms  sqft_living  sqft_lot  \\\n",
       "id              True  False     False      False        False     False   \n",
       "price          False   True     False      False         True     False   \n",
       "bedrooms       False  False      True      False        False     False   \n",
       "bathrooms      False  False     False       True         True     False   \n",
       "sqft_living    False   True     False       True         True     False   \n",
       "sqft_lot       False  False     False      False        False      True   \n",
       "floors         False  False     False      False        False     False   \n",
       "waterfront     False  False     False      False        False     False   \n",
       "view           False  False     False      False        False     False   \n",
       "condition      False  False     False      False        False     False   \n",
       "grade          False  False     False      False         True     False   \n",
       "sqft_above     False  False     False      False         True     False   \n",
       "yr_built       False  False     False      False        False     False   \n",
       "yr_renovated   False  False     False      False        False     False   \n",
       "zipcode        False  False     False      False        False     False   \n",
       "lat            False  False     False      False        False     False   \n",
       "long           False  False     False      False        False     False   \n",
       "sqft_living15  False  False     False      False         True     False   \n",
       "sqft_lot15     False  False     False      False        False      True   \n",
       "\n",
       "               floors  waterfront   view  condition  grade  sqft_above  \\\n",
       "id              False       False  False      False  False       False   \n",
       "price           False       False  False      False  False       False   \n",
       "bedrooms        False       False  False      False  False       False   \n",
       "bathrooms       False       False  False      False  False       False   \n",
       "sqft_living     False       False  False      False   True        True   \n",
       "sqft_lot        False       False  False      False  False       False   \n",
       "floors           True       False  False      False  False       False   \n",
       "waterfront      False        True  False      False  False       False   \n",
       "view            False       False   True      False  False       False   \n",
       "condition       False       False  False       True  False       False   \n",
       "grade           False       False  False      False   True        True   \n",
       "sqft_above      False       False  False      False   True        True   \n",
       "yr_built        False       False  False      False  False       False   \n",
       "yr_renovated    False       False  False      False  False       False   \n",
       "zipcode         False       False  False      False  False       False   \n",
       "lat             False       False  False      False  False       False   \n",
       "long            False       False  False      False  False       False   \n",
       "sqft_living15   False       False  False      False   True        True   \n",
       "sqft_lot15      False       False  False      False  False       False   \n",
       "\n",
       "               yr_built  yr_renovated  zipcode    lat   long  sqft_living15  \\\n",
       "id                False         False    False  False  False          False   \n",
       "price             False         False    False  False  False          False   \n",
       "bedrooms          False         False    False  False  False          False   \n",
       "bathrooms         False         False    False  False  False          False   \n",
       "sqft_living       False         False    False  False  False           True   \n",
       "sqft_lot          False         False    False  False  False          False   \n",
       "floors            False         False    False  False  False          False   \n",
       "waterfront        False         False    False  False  False          False   \n",
       "view              False         False    False  False  False          False   \n",
       "condition         False         False    False  False  False          False   \n",
       "grade             False         False    False  False  False           True   \n",
       "sqft_above        False         False    False  False  False           True   \n",
       "yr_built           True         False    False  False  False          False   \n",
       "yr_renovated      False          True    False  False  False          False   \n",
       "zipcode           False         False     True  False  False          False   \n",
       "lat               False         False    False   True  False          False   \n",
       "long              False         False    False  False   True          False   \n",
       "sqft_living15     False         False    False  False  False           True   \n",
       "sqft_lot15        False         False    False  False  False          False   \n",
       "\n",
       "               sqft_lot15  \n",
       "id                  False  \n",
       "price               False  \n",
       "bedrooms            False  \n",
       "bathrooms           False  \n",
       "sqft_living         False  \n",
       "sqft_lot             True  \n",
       "floors              False  \n",
       "waterfront          False  \n",
       "view                False  \n",
       "condition           False  \n",
       "grade               False  \n",
       "sqft_above          False  \n",
       "yr_built            False  \n",
       "yr_renovated        False  \n",
       "zipcode             False  \n",
       "lat                 False  \n",
       "long                False  \n",
       "sqft_living15       False  \n",
       "sqft_lot15           True  "
      ]
     },
     "execution_count": 324,
     "metadata": {},
     "output_type": "execute_result"
    }
   ],
   "source": [
    "abs(df.corr())>0.70\n"
   ]
  },
  {
   "cell_type": "code",
   "execution_count": 326,
   "metadata": {},
   "outputs": [
    {
     "ename": "NameError",
     "evalue": "name 'bed' is not defined",
     "output_type": "error",
     "traceback": [
      "\u001b[0;31m---------------------------------------------------------------------------\u001b[0m",
      "\u001b[0;31mNameError\u001b[0m                                 Traceback (most recent call last)",
      "\u001b[0;32m<ipython-input-326-204e988c5c55>\u001b[0m in \u001b[0;36m<module>\u001b[0;34m\u001b[0m\n\u001b[1;32m      1\u001b[0m \u001b[0;31m# minmax scaling\u001b[0m\u001b[0;34m\u001b[0m\u001b[0;34m\u001b[0m\u001b[0;34m\u001b[0m\u001b[0m\n\u001b[0;32m----> 2\u001b[0;31m \u001b[0mdf\u001b[0m\u001b[0;34m[\u001b[0m\u001b[0;34m\"bedrooms\"\u001b[0m\u001b[0;34m]\u001b[0m \u001b[0;34m=\u001b[0m \u001b[0;34m(\u001b[0m\u001b[0mbed\u001b[0m\u001b[0;34m-\u001b[0m\u001b[0mmin\u001b[0m\u001b[0;34m(\u001b[0m\u001b[0mbed\u001b[0m\u001b[0;34m)\u001b[0m\u001b[0;34m)\u001b[0m\u001b[0;34m/\u001b[0m\u001b[0;34m(\u001b[0m\u001b[0mmax\u001b[0m\u001b[0;34m(\u001b[0m\u001b[0mbed\u001b[0m\u001b[0;34m)\u001b[0m\u001b[0;34m-\u001b[0m\u001b[0mmin\u001b[0m\u001b[0;34m(\u001b[0m\u001b[0mbed\u001b[0m\u001b[0;34m)\u001b[0m\u001b[0;34m)\u001b[0m\u001b[0;34m\u001b[0m\u001b[0;34m\u001b[0m\u001b[0m\n\u001b[0m\u001b[1;32m      3\u001b[0m \u001b[0mdf\u001b[0m\u001b[0;34m[\u001b[0m\u001b[0;34m\"bathrooms\"\u001b[0m\u001b[0;34m]\u001b[0m \u001b[0;34m=\u001b[0m \u001b[0;34m(\u001b[0m\u001b[0mbath\u001b[0m\u001b[0;34m-\u001b[0m\u001b[0mmin\u001b[0m\u001b[0;34m(\u001b[0m\u001b[0mbath\u001b[0m\u001b[0;34m)\u001b[0m\u001b[0;34m)\u001b[0m\u001b[0;34m/\u001b[0m\u001b[0;34m(\u001b[0m\u001b[0mmax\u001b[0m\u001b[0;34m(\u001b[0m\u001b[0mbath\u001b[0m\u001b[0;34m)\u001b[0m\u001b[0;34m-\u001b[0m\u001b[0mmin\u001b[0m\u001b[0;34m(\u001b[0m\u001b[0mbath\u001b[0m\u001b[0;34m)\u001b[0m\u001b[0;34m)\u001b[0m\u001b[0;34m\u001b[0m\u001b[0;34m\u001b[0m\u001b[0m\n\u001b[1;32m      4\u001b[0m \u001b[0mdf\u001b[0m\u001b[0;34m[\u001b[0m\u001b[0;34m\"floors\"\u001b[0m\u001b[0;34m]\u001b[0m \u001b[0;34m=\u001b[0m \u001b[0;34m(\u001b[0m\u001b[0mfloors\u001b[0m\u001b[0;34m-\u001b[0m\u001b[0mmin\u001b[0m\u001b[0;34m(\u001b[0m\u001b[0mfloors\u001b[0m\u001b[0;34m)\u001b[0m\u001b[0;34m)\u001b[0m\u001b[0;34m/\u001b[0m\u001b[0;34m(\u001b[0m\u001b[0mmax\u001b[0m\u001b[0;34m(\u001b[0m\u001b[0mfloors\u001b[0m\u001b[0;34m)\u001b[0m\u001b[0;34m-\u001b[0m\u001b[0mmin\u001b[0m\u001b[0;34m(\u001b[0m\u001b[0mfloors\u001b[0m\u001b[0;34m)\u001b[0m\u001b[0;34m)\u001b[0m\u001b[0;34m\u001b[0m\u001b[0;34m\u001b[0m\u001b[0m\n\u001b[1;32m      5\u001b[0m \u001b[0mdf\u001b[0m\u001b[0;34m[\u001b[0m\u001b[0;34m\"condition\"\u001b[0m\u001b[0;34m]\u001b[0m \u001b[0;34m=\u001b[0m \u001b[0;34m(\u001b[0m\u001b[0mcondition\u001b[0m\u001b[0;34m-\u001b[0m\u001b[0mmin\u001b[0m\u001b[0;34m(\u001b[0m\u001b[0mcondition\u001b[0m\u001b[0;34m)\u001b[0m\u001b[0;34m)\u001b[0m\u001b[0;34m/\u001b[0m\u001b[0;34m(\u001b[0m\u001b[0mmax\u001b[0m\u001b[0;34m(\u001b[0m\u001b[0mcondition\u001b[0m\u001b[0;34m)\u001b[0m\u001b[0;34m-\u001b[0m\u001b[0mmin\u001b[0m\u001b[0;34m(\u001b[0m\u001b[0mcondition\u001b[0m\u001b[0;34m)\u001b[0m\u001b[0;34m)\u001b[0m\u001b[0;34m\u001b[0m\u001b[0;34m\u001b[0m\u001b[0m\n",
      "\u001b[0;31mNameError\u001b[0m: name 'bed' is not defined"
     ]
    }
   ],
   "source": [
    "# minmax scaling\n",
    "df[\"bedrooms\"] = (bed-min(bed))/(max(bed)-min(bed))\n",
    "df[\"bathrooms\"] = (bath-min(bath))/(max(bath)-min(bath))\n",
    "df[\"floors\"] = (floors-min(floors))/(max(floors)-min(floors))\n",
    "df[\"condition\"] = (condition-min(condition))/(max(condition)-min(condition))\n",
    "df[\"grade\"] = (grade-min(grade))/(max(grade)-min(grade))\n",
    "df[\"weekday\"] = (weekday-min(weekday))/(max(weekday)-min(weekday))\n",
    "                                        "
   ]
  },
  {
   "cell_type": "code",
   "execution_count": 243,
   "metadata": {},
   "outputs": [
    {
     "name": "stdout",
     "output_type": "stream",
     "text": [
      "<class 'pandas.core.frame.DataFrame'>\n",
      "Int64Index: 12867 entries, 1 to 21595\n",
      "Data columns (total 22 columns):\n",
      "id               12867 non-null int64\n",
      "date             12867 non-null datetime64[ns]\n",
      "price            12867 non-null float64\n",
      "bedrooms         12867 non-null int64\n",
      "bathrooms        12867 non-null float64\n",
      "sqft_living      12867 non-null int64\n",
      "sqft_lot         12867 non-null int64\n",
      "floors           12867 non-null float64\n",
      "waterfront       12867 non-null float64\n",
      "view             12867 non-null float64\n",
      "condition        12867 non-null int64\n",
      "grade            12867 non-null int64\n",
      "sqft_above       12867 non-null int64\n",
      "sqft_basement    12867 non-null float64\n",
      "yr_built         12867 non-null int64\n",
      "yr_renovated     10623 non-null float64\n",
      "zipcode          12867 non-null int64\n",
      "lat              12867 non-null float64\n",
      "long             12867 non-null float64\n",
      "sqft_living15    12867 non-null int64\n",
      "sqft_lot15       12867 non-null int64\n",
      "weekday          12867 non-null int64\n",
      "dtypes: datetime64[ns](1), float64(9), int64(12)\n",
      "memory usage: 2.3 MB\n"
     ]
    }
   ],
   "source": [
    "# repleace the NA values with zero values since we have many zeros values\n",
    "df.view.fillna(0,inplace=True)\n",
    "df.info()"
   ]
  },
  {
   "cell_type": "code",
   "execution_count": 242,
   "metadata": {},
   "outputs": [
    {
     "ename": "HTTPError",
     "evalue": "HTTP Error 404: Not Found",
     "output_type": "error",
     "traceback": [
      "\u001b[0;31m---------------------------------------------------------------------------\u001b[0m",
      "\u001b[0;31mHTTPError\u001b[0m                                 Traceback (most recent call last)",
      "\u001b[0;32m<ipython-input-242-a8ac225351be>\u001b[0m in \u001b[0;36m<module>\u001b[0;34m\u001b[0m\n\u001b[1;32m      6\u001b[0m \u001b[0;32mimport\u001b[0m \u001b[0mseaborn\u001b[0m \u001b[0;32mas\u001b[0m \u001b[0msns\u001b[0m\u001b[0;34m\u001b[0m\u001b[0;34m\u001b[0m\u001b[0m\n\u001b[1;32m      7\u001b[0m \u001b[0msns\u001b[0m\u001b[0;34m.\u001b[0m\u001b[0mset\u001b[0m\u001b[0;34m(\u001b[0m\u001b[0mstyle\u001b[0m\u001b[0;34m=\u001b[0m\u001b[0;34m\"whitegrid\"\u001b[0m\u001b[0;34m)\u001b[0m\u001b[0;34m\u001b[0m\u001b[0;34m\u001b[0m\u001b[0m\n\u001b[0;32m----> 8\u001b[0;31m \u001b[0mtips\u001b[0m \u001b[0;34m=\u001b[0m \u001b[0msns\u001b[0m\u001b[0;34m.\u001b[0m\u001b[0mload_dataset\u001b[0m\u001b[0;34m(\u001b[0m\u001b[0;34m\"date\"\u001b[0m\u001b[0;34m)\u001b[0m\u001b[0;34m\u001b[0m\u001b[0;34m\u001b[0m\u001b[0m\n\u001b[0m\u001b[1;32m      9\u001b[0m \u001b[0max\u001b[0m \u001b[0;34m=\u001b[0m \u001b[0msns\u001b[0m\u001b[0;34m.\u001b[0m\u001b[0mboxplot\u001b[0m\u001b[0;34m(\u001b[0m\u001b[0mx\u001b[0m\u001b[0;34m=\u001b[0m\u001b[0mtips\u001b[0m\u001b[0;34m[\u001b[0m\u001b[0;34m\"total_bill\"\u001b[0m\u001b[0;34m]\u001b[0m\u001b[0;34m)\u001b[0m\u001b[0;34m\u001b[0m\u001b[0;34m\u001b[0m\u001b[0m\n",
      "\u001b[0;32m/Library/Frameworks/Python.framework/Versions/3.7/lib/python3.7/site-packages/seaborn/utils.py\u001b[0m in \u001b[0;36mload_dataset\u001b[0;34m(name, cache, data_home, **kws)\u001b[0m\n\u001b[1;32m    426\u001b[0m                                   os.path.basename(full_path))\n\u001b[1;32m    427\u001b[0m         \u001b[0;32mif\u001b[0m \u001b[0;32mnot\u001b[0m \u001b[0mos\u001b[0m\u001b[0;34m.\u001b[0m\u001b[0mpath\u001b[0m\u001b[0;34m.\u001b[0m\u001b[0mexists\u001b[0m\u001b[0;34m(\u001b[0m\u001b[0mcache_path\u001b[0m\u001b[0;34m)\u001b[0m\u001b[0;34m:\u001b[0m\u001b[0;34m\u001b[0m\u001b[0;34m\u001b[0m\u001b[0m\n\u001b[0;32m--> 428\u001b[0;31m             \u001b[0murlretrieve\u001b[0m\u001b[0;34m(\u001b[0m\u001b[0mfull_path\u001b[0m\u001b[0;34m,\u001b[0m \u001b[0mcache_path\u001b[0m\u001b[0;34m)\u001b[0m\u001b[0;34m\u001b[0m\u001b[0;34m\u001b[0m\u001b[0m\n\u001b[0m\u001b[1;32m    429\u001b[0m         \u001b[0mfull_path\u001b[0m \u001b[0;34m=\u001b[0m \u001b[0mcache_path\u001b[0m\u001b[0;34m\u001b[0m\u001b[0;34m\u001b[0m\u001b[0m\n\u001b[1;32m    430\u001b[0m \u001b[0;34m\u001b[0m\u001b[0m\n",
      "\u001b[0;32m/Library/Frameworks/Python.framework/Versions/3.7/lib/python3.7/urllib/request.py\u001b[0m in \u001b[0;36murlretrieve\u001b[0;34m(url, filename, reporthook, data)\u001b[0m\n\u001b[1;32m    245\u001b[0m     \u001b[0murl_type\u001b[0m\u001b[0;34m,\u001b[0m \u001b[0mpath\u001b[0m \u001b[0;34m=\u001b[0m \u001b[0msplittype\u001b[0m\u001b[0;34m(\u001b[0m\u001b[0murl\u001b[0m\u001b[0;34m)\u001b[0m\u001b[0;34m\u001b[0m\u001b[0;34m\u001b[0m\u001b[0m\n\u001b[1;32m    246\u001b[0m \u001b[0;34m\u001b[0m\u001b[0m\n\u001b[0;32m--> 247\u001b[0;31m     \u001b[0;32mwith\u001b[0m \u001b[0mcontextlib\u001b[0m\u001b[0;34m.\u001b[0m\u001b[0mclosing\u001b[0m\u001b[0;34m(\u001b[0m\u001b[0murlopen\u001b[0m\u001b[0;34m(\u001b[0m\u001b[0murl\u001b[0m\u001b[0;34m,\u001b[0m \u001b[0mdata\u001b[0m\u001b[0;34m)\u001b[0m\u001b[0;34m)\u001b[0m \u001b[0;32mas\u001b[0m \u001b[0mfp\u001b[0m\u001b[0;34m:\u001b[0m\u001b[0;34m\u001b[0m\u001b[0;34m\u001b[0m\u001b[0m\n\u001b[0m\u001b[1;32m    248\u001b[0m         \u001b[0mheaders\u001b[0m \u001b[0;34m=\u001b[0m \u001b[0mfp\u001b[0m\u001b[0;34m.\u001b[0m\u001b[0minfo\u001b[0m\u001b[0;34m(\u001b[0m\u001b[0;34m)\u001b[0m\u001b[0;34m\u001b[0m\u001b[0;34m\u001b[0m\u001b[0m\n\u001b[1;32m    249\u001b[0m \u001b[0;34m\u001b[0m\u001b[0m\n",
      "\u001b[0;32m/Library/Frameworks/Python.framework/Versions/3.7/lib/python3.7/urllib/request.py\u001b[0m in \u001b[0;36murlopen\u001b[0;34m(url, data, timeout, cafile, capath, cadefault, context)\u001b[0m\n\u001b[1;32m    220\u001b[0m     \u001b[0;32melse\u001b[0m\u001b[0;34m:\u001b[0m\u001b[0;34m\u001b[0m\u001b[0;34m\u001b[0m\u001b[0m\n\u001b[1;32m    221\u001b[0m         \u001b[0mopener\u001b[0m \u001b[0;34m=\u001b[0m \u001b[0m_opener\u001b[0m\u001b[0;34m\u001b[0m\u001b[0;34m\u001b[0m\u001b[0m\n\u001b[0;32m--> 222\u001b[0;31m     \u001b[0;32mreturn\u001b[0m \u001b[0mopener\u001b[0m\u001b[0;34m.\u001b[0m\u001b[0mopen\u001b[0m\u001b[0;34m(\u001b[0m\u001b[0murl\u001b[0m\u001b[0;34m,\u001b[0m \u001b[0mdata\u001b[0m\u001b[0;34m,\u001b[0m \u001b[0mtimeout\u001b[0m\u001b[0;34m)\u001b[0m\u001b[0;34m\u001b[0m\u001b[0;34m\u001b[0m\u001b[0m\n\u001b[0m\u001b[1;32m    223\u001b[0m \u001b[0;34m\u001b[0m\u001b[0m\n\u001b[1;32m    224\u001b[0m \u001b[0;32mdef\u001b[0m \u001b[0minstall_opener\u001b[0m\u001b[0;34m(\u001b[0m\u001b[0mopener\u001b[0m\u001b[0;34m)\u001b[0m\u001b[0;34m:\u001b[0m\u001b[0;34m\u001b[0m\u001b[0;34m\u001b[0m\u001b[0m\n",
      "\u001b[0;32m/Library/Frameworks/Python.framework/Versions/3.7/lib/python3.7/urllib/request.py\u001b[0m in \u001b[0;36mopen\u001b[0;34m(self, fullurl, data, timeout)\u001b[0m\n\u001b[1;32m    529\u001b[0m         \u001b[0;32mfor\u001b[0m \u001b[0mprocessor\u001b[0m \u001b[0;32min\u001b[0m \u001b[0mself\u001b[0m\u001b[0;34m.\u001b[0m\u001b[0mprocess_response\u001b[0m\u001b[0;34m.\u001b[0m\u001b[0mget\u001b[0m\u001b[0;34m(\u001b[0m\u001b[0mprotocol\u001b[0m\u001b[0;34m,\u001b[0m \u001b[0;34m[\u001b[0m\u001b[0;34m]\u001b[0m\u001b[0;34m)\u001b[0m\u001b[0;34m:\u001b[0m\u001b[0;34m\u001b[0m\u001b[0;34m\u001b[0m\u001b[0m\n\u001b[1;32m    530\u001b[0m             \u001b[0mmeth\u001b[0m \u001b[0;34m=\u001b[0m \u001b[0mgetattr\u001b[0m\u001b[0;34m(\u001b[0m\u001b[0mprocessor\u001b[0m\u001b[0;34m,\u001b[0m \u001b[0mmeth_name\u001b[0m\u001b[0;34m)\u001b[0m\u001b[0;34m\u001b[0m\u001b[0;34m\u001b[0m\u001b[0m\n\u001b[0;32m--> 531\u001b[0;31m             \u001b[0mresponse\u001b[0m \u001b[0;34m=\u001b[0m \u001b[0mmeth\u001b[0m\u001b[0;34m(\u001b[0m\u001b[0mreq\u001b[0m\u001b[0;34m,\u001b[0m \u001b[0mresponse\u001b[0m\u001b[0;34m)\u001b[0m\u001b[0;34m\u001b[0m\u001b[0;34m\u001b[0m\u001b[0m\n\u001b[0m\u001b[1;32m    532\u001b[0m \u001b[0;34m\u001b[0m\u001b[0m\n\u001b[1;32m    533\u001b[0m         \u001b[0;32mreturn\u001b[0m \u001b[0mresponse\u001b[0m\u001b[0;34m\u001b[0m\u001b[0;34m\u001b[0m\u001b[0m\n",
      "\u001b[0;32m/Library/Frameworks/Python.framework/Versions/3.7/lib/python3.7/urllib/request.py\u001b[0m in \u001b[0;36mhttp_response\u001b[0;34m(self, request, response)\u001b[0m\n\u001b[1;32m    639\u001b[0m         \u001b[0;32mif\u001b[0m \u001b[0;32mnot\u001b[0m \u001b[0;34m(\u001b[0m\u001b[0;36m200\u001b[0m \u001b[0;34m<=\u001b[0m \u001b[0mcode\u001b[0m \u001b[0;34m<\u001b[0m \u001b[0;36m300\u001b[0m\u001b[0;34m)\u001b[0m\u001b[0;34m:\u001b[0m\u001b[0;34m\u001b[0m\u001b[0;34m\u001b[0m\u001b[0m\n\u001b[1;32m    640\u001b[0m             response = self.parent.error(\n\u001b[0;32m--> 641\u001b[0;31m                 'http', request, response, code, msg, hdrs)\n\u001b[0m\u001b[1;32m    642\u001b[0m \u001b[0;34m\u001b[0m\u001b[0m\n\u001b[1;32m    643\u001b[0m         \u001b[0;32mreturn\u001b[0m \u001b[0mresponse\u001b[0m\u001b[0;34m\u001b[0m\u001b[0;34m\u001b[0m\u001b[0m\n",
      "\u001b[0;32m/Library/Frameworks/Python.framework/Versions/3.7/lib/python3.7/urllib/request.py\u001b[0m in \u001b[0;36merror\u001b[0;34m(self, proto, *args)\u001b[0m\n\u001b[1;32m    567\u001b[0m         \u001b[0;32mif\u001b[0m \u001b[0mhttp_err\u001b[0m\u001b[0;34m:\u001b[0m\u001b[0;34m\u001b[0m\u001b[0;34m\u001b[0m\u001b[0m\n\u001b[1;32m    568\u001b[0m             \u001b[0margs\u001b[0m \u001b[0;34m=\u001b[0m \u001b[0;34m(\u001b[0m\u001b[0mdict\u001b[0m\u001b[0;34m,\u001b[0m \u001b[0;34m'default'\u001b[0m\u001b[0;34m,\u001b[0m \u001b[0;34m'http_error_default'\u001b[0m\u001b[0;34m)\u001b[0m \u001b[0;34m+\u001b[0m \u001b[0morig_args\u001b[0m\u001b[0;34m\u001b[0m\u001b[0;34m\u001b[0m\u001b[0m\n\u001b[0;32m--> 569\u001b[0;31m             \u001b[0;32mreturn\u001b[0m \u001b[0mself\u001b[0m\u001b[0;34m.\u001b[0m\u001b[0m_call_chain\u001b[0m\u001b[0;34m(\u001b[0m\u001b[0;34m*\u001b[0m\u001b[0margs\u001b[0m\u001b[0;34m)\u001b[0m\u001b[0;34m\u001b[0m\u001b[0;34m\u001b[0m\u001b[0m\n\u001b[0m\u001b[1;32m    570\u001b[0m \u001b[0;34m\u001b[0m\u001b[0m\n\u001b[1;32m    571\u001b[0m \u001b[0;31m# XXX probably also want an abstract factory that knows when it makes\u001b[0m\u001b[0;34m\u001b[0m\u001b[0;34m\u001b[0m\u001b[0;34m\u001b[0m\u001b[0m\n",
      "\u001b[0;32m/Library/Frameworks/Python.framework/Versions/3.7/lib/python3.7/urllib/request.py\u001b[0m in \u001b[0;36m_call_chain\u001b[0;34m(self, chain, kind, meth_name, *args)\u001b[0m\n\u001b[1;32m    501\u001b[0m         \u001b[0;32mfor\u001b[0m \u001b[0mhandler\u001b[0m \u001b[0;32min\u001b[0m \u001b[0mhandlers\u001b[0m\u001b[0;34m:\u001b[0m\u001b[0;34m\u001b[0m\u001b[0;34m\u001b[0m\u001b[0m\n\u001b[1;32m    502\u001b[0m             \u001b[0mfunc\u001b[0m \u001b[0;34m=\u001b[0m \u001b[0mgetattr\u001b[0m\u001b[0;34m(\u001b[0m\u001b[0mhandler\u001b[0m\u001b[0;34m,\u001b[0m \u001b[0mmeth_name\u001b[0m\u001b[0;34m)\u001b[0m\u001b[0;34m\u001b[0m\u001b[0;34m\u001b[0m\u001b[0m\n\u001b[0;32m--> 503\u001b[0;31m             \u001b[0mresult\u001b[0m \u001b[0;34m=\u001b[0m \u001b[0mfunc\u001b[0m\u001b[0;34m(\u001b[0m\u001b[0;34m*\u001b[0m\u001b[0margs\u001b[0m\u001b[0;34m)\u001b[0m\u001b[0;34m\u001b[0m\u001b[0;34m\u001b[0m\u001b[0m\n\u001b[0m\u001b[1;32m    504\u001b[0m             \u001b[0;32mif\u001b[0m \u001b[0mresult\u001b[0m \u001b[0;32mis\u001b[0m \u001b[0;32mnot\u001b[0m \u001b[0;32mNone\u001b[0m\u001b[0;34m:\u001b[0m\u001b[0;34m\u001b[0m\u001b[0;34m\u001b[0m\u001b[0m\n\u001b[1;32m    505\u001b[0m                 \u001b[0;32mreturn\u001b[0m \u001b[0mresult\u001b[0m\u001b[0;34m\u001b[0m\u001b[0;34m\u001b[0m\u001b[0m\n",
      "\u001b[0;32m/Library/Frameworks/Python.framework/Versions/3.7/lib/python3.7/urllib/request.py\u001b[0m in \u001b[0;36mhttp_error_default\u001b[0;34m(self, req, fp, code, msg, hdrs)\u001b[0m\n\u001b[1;32m    647\u001b[0m \u001b[0;32mclass\u001b[0m \u001b[0mHTTPDefaultErrorHandler\u001b[0m\u001b[0;34m(\u001b[0m\u001b[0mBaseHandler\u001b[0m\u001b[0;34m)\u001b[0m\u001b[0;34m:\u001b[0m\u001b[0;34m\u001b[0m\u001b[0;34m\u001b[0m\u001b[0m\n\u001b[1;32m    648\u001b[0m     \u001b[0;32mdef\u001b[0m \u001b[0mhttp_error_default\u001b[0m\u001b[0;34m(\u001b[0m\u001b[0mself\u001b[0m\u001b[0;34m,\u001b[0m \u001b[0mreq\u001b[0m\u001b[0;34m,\u001b[0m \u001b[0mfp\u001b[0m\u001b[0;34m,\u001b[0m \u001b[0mcode\u001b[0m\u001b[0;34m,\u001b[0m \u001b[0mmsg\u001b[0m\u001b[0;34m,\u001b[0m \u001b[0mhdrs\u001b[0m\u001b[0;34m)\u001b[0m\u001b[0;34m:\u001b[0m\u001b[0;34m\u001b[0m\u001b[0;34m\u001b[0m\u001b[0m\n\u001b[0;32m--> 649\u001b[0;31m         \u001b[0;32mraise\u001b[0m \u001b[0mHTTPError\u001b[0m\u001b[0;34m(\u001b[0m\u001b[0mreq\u001b[0m\u001b[0;34m.\u001b[0m\u001b[0mfull_url\u001b[0m\u001b[0;34m,\u001b[0m \u001b[0mcode\u001b[0m\u001b[0;34m,\u001b[0m \u001b[0mmsg\u001b[0m\u001b[0;34m,\u001b[0m \u001b[0mhdrs\u001b[0m\u001b[0;34m,\u001b[0m \u001b[0mfp\u001b[0m\u001b[0;34m)\u001b[0m\u001b[0;34m\u001b[0m\u001b[0;34m\u001b[0m\u001b[0m\n\u001b[0m\u001b[1;32m    650\u001b[0m \u001b[0;34m\u001b[0m\u001b[0m\n\u001b[1;32m    651\u001b[0m \u001b[0;32mclass\u001b[0m \u001b[0mHTTPRedirectHandler\u001b[0m\u001b[0;34m(\u001b[0m\u001b[0mBaseHandler\u001b[0m\u001b[0;34m)\u001b[0m\u001b[0;34m:\u001b[0m\u001b[0;34m\u001b[0m\u001b[0;34m\u001b[0m\u001b[0m\n",
      "\u001b[0;31mHTTPError\u001b[0m: HTTP Error 404: Not Found"
     ]
    }
   ],
   "source": [
    "\n",
    "# df will only include 2-5 bedrooms houses\n",
    "# df= df[(df['bedrooms'] <= 5)]\n",
    "# df =df[(df['bathrooms'] >=2)]\n",
    "#box plot for categorcal values\n",
    "\n"
   ]
  },
  {
   "cell_type": "code",
   "execution_count": 179,
   "metadata": {},
   "outputs": [
    {
     "data": {
      "text/plain": [
       "0.0    19485\n",
       "2.0      957\n",
       "3.0      508\n",
       "1.0      330\n",
       "4.0      317\n",
       "Name: view, dtype: int64"
      ]
     },
     "execution_count": 179,
     "metadata": {},
     "output_type": "execute_result"
    }
   ],
   "source": [
    "# Ckeck maybe remove latter\n",
    "df.view.value_counts()"
   ]
  },
  {
   "cell_type": "code",
   "execution_count": 180,
   "metadata": {},
   "outputs": [
    {
     "data": {
      "text/plain": [
       "0.0    19075\n",
       "1.0      146\n",
       "Name: waterfront, dtype: int64"
      ]
     },
     "execution_count": 180,
     "metadata": {},
     "output_type": "execute_result"
    }
   ],
   "source": [
    "# waterfront missing values\n",
    "df.waterfront.value_counts()\n"
   ]
  },
  {
   "cell_type": "code",
   "execution_count": 181,
   "metadata": {},
   "outputs": [],
   "source": [
    "## repleace the NA values with zero values since we have many zeros values\n",
    "df.waterfront.fillna(0,inplace=True)"
   ]
  },
  {
   "cell_type": "code",
   "execution_count": 182,
   "metadata": {},
   "outputs": [
    {
     "data": {
      "text/plain": [
       "0.0    21451\n",
       "1.0      146\n",
       "Name: waterfront, dtype: int64"
      ]
     },
     "execution_count": 182,
     "metadata": {},
     "output_type": "execute_result"
    }
   ],
   "source": [
    "#to check it mayb remove latter\n",
    "df.waterfront.value_counts()"
   ]
  },
  {
   "cell_type": "code",
   "execution_count": 183,
   "metadata": {},
   "outputs": [],
   "source": [
    "# year_renovated missing values\n",
    "# convert categorical values into numeric\n",
    "df['sqft_basement'] = pd.to_numeric(df['sqft_basement'], errors='coerce')\n"
   ]
  },
  {
   "cell_type": "code",
   "execution_count": 184,
   "metadata": {},
   "outputs": [],
   "source": [
    "# replace the '?' to NA\n",
    "df['sqft_basement'] = df['sqft_basement'].replace(0.0, np.nan)\n"
   ]
  },
  {
   "cell_type": "code",
   "execution_count": 185,
   "metadata": {},
   "outputs": [],
   "source": [
    "# replace NA value to the median\n",
    "df['sqft_basement'] = df['sqft_basement'].fillna(df['sqft_basement'].median())"
   ]
  },
  {
   "cell_type": "code",
   "execution_count": 186,
   "metadata": {},
   "outputs": [
    {
     "data": {
      "text/plain": [
       "700.0"
      ]
     },
     "execution_count": 186,
     "metadata": {},
     "output_type": "execute_result"
    }
   ],
   "source": [
    "# to check it\n",
    "df.sqft_basement[6]"
   ]
  },
  {
   "cell_type": "code",
   "execution_count": 187,
   "metadata": {},
   "outputs": [
    {
     "data": {
      "text/plain": [
       "dtype('O')"
      ]
     },
     "execution_count": 187,
     "metadata": {},
     "output_type": "execute_result"
    }
   ],
   "source": [
    "#In which days houses are the most selling?\n",
    "#check out the type of the column\n",
    "df.date.dtype"
   ]
  },
  {
   "cell_type": "code",
   "execution_count": 188,
   "metadata": {},
   "outputs": [
    {
     "data": {
      "text/plain": [
       "'1/10/2015'"
      ]
     },
     "execution_count": 188,
     "metadata": {},
     "output_type": "execute_result"
    }
   ],
   "source": [
    "# only one year of diference\n",
    "df.date.max()\n",
    "df.date.min()"
   ]
  },
  {
   "cell_type": "code",
   "execution_count": 189,
   "metadata": {},
   "outputs": [],
   "source": [
    "#converted into datetime\n",
    "df['date'] = pd.to_datetime(df['date'])"
   ]
  },
  {
   "cell_type": "code",
   "execution_count": 190,
   "metadata": {},
   "outputs": [
    {
     "data": {
      "text/plain": [
       "0   2014-10-13\n",
       "1   2014-12-09\n",
       "2   2015-02-25\n",
       "3   2014-12-09\n",
       "4   2015-02-18\n",
       "Name: date, dtype: datetime64[ns]"
      ]
     },
     "execution_count": 190,
     "metadata": {},
     "output_type": "execute_result"
    }
   ],
   "source": [
    "# to ckeck\n",
    "df.date.head()\n"
   ]
  },
  {
   "cell_type": "code",
   "execution_count": 192,
   "metadata": {},
   "outputs": [],
   "source": [
    "#create a column that uses the timestamp to determine day of the week\n",
    "df['weekday'] = df['date'].dt.dayofweek # days of the week converted to numbers\n",
    "\n",
    "days = df.weekday.value_counts()\n",
    "   \n",
    "\n",
    "\n",
    "\n",
    "\n"
   ]
  },
  {
   "cell_type": "code",
   "execution_count": 194,
   "metadata": {},
   "outputs": [
    {
     "data": {
      "image/png": "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\n",
      "text/plain": [
       "<Figure size 720x360 with 1 Axes>"
      ]
     },
     "metadata": {
      "needs_background": "light"
     },
     "output_type": "display_data"
    }
   ],
   "source": [
    "\n",
    "days = df.weekday.value_counts() # frequency\n",
    "days_count = days[:10,]\n",
    "plt.figure(figsize=(10,5))\n",
    "sns.barplot(days_count.index, days_count.values, alpha=0.8)\n",
    "plt.title('Weekdays VS  Sales')\n",
    "plt.ylabel('Number of Sales', fontsize=12)\n",
    "plt.xlabel('Weekdays', fontsize=12)\n",
    "plt.show()"
   ]
  },
  {
   "cell_type": "code",
   "execution_count": 195,
   "metadata": {},
   "outputs": [
    {
     "ename": "NameError",
     "evalue": "name 'df_dayweek' is not defined",
     "output_type": "error",
     "traceback": [
      "\u001b[0;31m---------------------------------------------------------------------------\u001b[0m",
      "\u001b[0;31mNameError\u001b[0m                                 Traceback (most recent call last)",
      "\u001b[0;32m<ipython-input-195-26239425902a>\u001b[0m in \u001b[0;36m<module>\u001b[0;34m\u001b[0m\n\u001b[0;32m----> 1\u001b[0;31m \u001b[0mdf_dayweek\u001b[0m\u001b[0;34m.\u001b[0m\u001b[0mhead\u001b[0m\u001b[0;34m(\u001b[0m\u001b[0;34m)\u001b[0m\u001b[0;34m\u001b[0m\u001b[0;34m\u001b[0m\u001b[0m\n\u001b[0m",
      "\u001b[0;31mNameError\u001b[0m: name 'df_dayweek' is not defined"
     ]
    }
   ],
   "source": []
  },
  {
   "cell_type": "code",
   "execution_count": null,
   "metadata": {},
   "outputs": [],
   "source": [
    "# plt.hist(df_dayweek)\n"
   ]
  },
  {
   "cell_type": "code",
   "execution_count": null,
   "metadata": {},
   "outputs": [],
   "source": [
    "# correlation\n",
    "corr = df.corr()"
   ]
  },
  {
   "cell_type": "code",
   "execution_count": null,
   "metadata": {},
   "outputs": [],
   "source": [
    "sns.heatmap(abs(corr), cmap =\"YlGnBu\",linewidths=.5 )"
   ]
  },
  {
   "cell_type": "code",
   "execution_count": null,
   "metadata": {},
   "outputs": [],
   "source": [
    "#normalize the prize and all sqrfodos # do the logs to normalize the dataaa\n",
    "df.price = np.log(df.price)\n",
    "df.sqft_above = np.log(df.sqft_basement)\n"
   ]
  },
  {
   "cell_type": "code",
   "execution_count": 2,
   "metadata": {},
   "outputs": [],
   "source": [
    "import functions as f"
   ]
  },
  {
   "cell_type": "code",
   "execution_count": 3,
   "metadata": {},
   "outputs": [
    {
     "ename": "NameError",
     "evalue": "name 'df' is not defined",
     "output_type": "error",
     "traceback": [
      "\u001b[0;31m---------------------------------------------------------------------------\u001b[0m",
      "\u001b[0;31mNameError\u001b[0m                                 Traceback (most recent call last)",
      "\u001b[0;32m<ipython-input-3-40a3f85e22ef>\u001b[0m in \u001b[0;36m<module>\u001b[0;34m\u001b[0m\n\u001b[0;32m----> 1\u001b[0;31m \u001b[0mf\u001b[0m\u001b[0;34m.\u001b[0m\u001b[0mclean_data\u001b[0m\u001b[0;34m(\u001b[0m\u001b[0mdf\u001b[0m\u001b[0;34m)\u001b[0m\u001b[0;34m\u001b[0m\u001b[0;34m\u001b[0m\u001b[0m\n\u001b[0m",
      "\u001b[0;31mNameError\u001b[0m: name 'df' is not defined"
     ]
    }
   ],
   "source": [
    "f.clean_data(df)"
   ]
  },
  {
   "cell_type": "code",
   "execution_count": null,
   "metadata": {},
   "outputs": [],
   "source": []
  },
  {
   "cell_type": "code",
   "execution_count": null,
   "metadata": {},
   "outputs": [],
   "source": [
    "sns.heatmap(abs(corr), cmap =\"YlGnBu\",linewidths=.5 )"
   ]
  },
  {
   "cell_type": "code",
   "execution_count": null,
   "metadata": {},
   "outputs": [],
   "source": [
    "#data frame filter by 0.75 loop up these values correlated \n",
    "df.corr()[(df.corr() >.75)]"
   ]
  },
  {
   "cell_type": "code",
   "execution_count": 203,
   "metadata": {},
   "outputs": [
    {
     "name": "stdout",
     "output_type": "stream",
     "text": [
      "                            OLS Regression Results                            \n",
      "==============================================================================\n",
      "Dep. Variable:                  price   R-squared:                       0.277\n",
      "Model:                            OLS   Adj. R-squared:                  0.277\n",
      "Method:                 Least Squares   F-statistic:                     8256.\n",
      "Date:                Wed, 19 Jun 2019   Prob (F-statistic):               0.00\n",
      "Time:                        13:28:10   Log-Likelihood:            -3.0389e+05\n",
      "No. Observations:               21597   AIC:                         6.078e+05\n",
      "Df Residuals:                   21595   BIC:                         6.078e+05\n",
      "Df Model:                           1                                         \n",
      "Covariance Type:            nonrobust                                         \n",
      "==============================================================================\n",
      "                 coef    std err          t      P>|t|      [0.025      0.975]\n",
      "------------------------------------------------------------------------------\n",
      "Intercept   8712.6518   6224.769      1.400      0.162   -3488.356    2.09e+04\n",
      "bathrooms   2.512e+05   2765.054     90.863      0.000    2.46e+05    2.57e+05\n",
      "==============================================================================\n",
      "Omnibus:                    17251.570   Durbin-Watson:                   1.960\n",
      "Prob(Omnibus):                  0.000   Jarque-Bera (JB):           882735.889\n",
      "Skew:                           3.452   Prob(JB):                         0.00\n",
      "Kurtosis:                      33.550   Cond. No.                         7.76\n",
      "==============================================================================\n",
      "\n",
      "Warnings:\n",
      "[1] Standard Errors assume that the covariance matrix of the errors is correctly specified.\n"
     ]
    }
   ],
   "source": [
    "# pd.plotting.scatter_matrix(df, figsize =[10 ,10])\n",
    "import statsmodels.formula.api as smf\n",
    "\n",
    "model = smf.ols('price ~ bathrooms', df).fit()\n",
    "print(model.summary())\n"
   ]
  },
  {
   "cell_type": "code",
   "execution_count": null,
   "metadata": {},
   "outputs": [],
   "source": [
    "array([[1.11370611e-06]])"
   ]
  },
  {
   "cell_type": "code",
   "execution_count": null,
   "metadata": {},
   "outputs": [],
   "source": [
    "import statsmodels.api as sm\n",
    "import statsmodels.stats.api as sms\n",
    "import statsmodels.formula.api as smf\n",
    "import scipy.stats as stats\n",
    "\n",
    "def jarque_bera(col):\n",
    "    f = 'price~{}'.format(col)\n",
    "    model = smf.ols(formula=f, data=df).fit()\n",
    "\n",
    "      resid1 = model.resid\n",
    "        fig = sm.graphics.qqplot(resid1, dist=stats.norm, line='45', fit=True)\n",
    "        fig.show()\n",
    "\n",
    "    # JB test for TV\n",
    "      name = ['Jarque-Bera','Prob','Skew', 'Kurtosis']\n",
    "          test = sms.jarque_bera(model.resid)\n",
    "          list(zip(name, test))"
   ]
  },
  {
   "cell_type": "code",
   "execution_count": null,
   "metadata": {},
   "outputs": [],
   "source": []
  },
  {
   "cell_type": "code",
   "execution_count": 303,
   "metadata": {},
   "outputs": [
    {
     "data": {
      "text/plain": [
       "array([[1150.17647647,    1.53334603],\n",
       "       [1150.17777218,    1.53334684],\n",
       "       [1150.17777218,    1.53334684],\n",
       "       ...,\n",
       "       [1150.17647647,    1.53334603],\n",
       "       [1150.17777218,    1.53334684],\n",
       "       [1150.17518076,    1.53334522]])"
      ]
     },
     "execution_count": 303,
     "metadata": {},
     "output_type": "execute_result"
    }
   ],
   "source": [
    "from sklearn.model_selection import train_test_split\n",
    "from sklearn.linear_model import LinearRegression\n",
    "\n",
    "y = df[['price']].values #  reshape data using .values\n",
    "x = df[['bathrooms']].values\n",
    "xTrain, xTest, yTrain, yTest = train_test_split(x, y, test_size = 1/3) #slip the data\n",
    "model = LinearRegression() # create the model\n",
    "model.fit(xTrain, yTrain) # train the model\n",
    "yPrediction = linearRegressor.predict(xTest) \n",
    "yPrediction\n"
   ]
  },
  {
   "cell_type": "code",
   "execution_count": 304,
   "metadata": {},
   "outputs": [
    {
     "data": {
      "text/plain": [
       "array([[253519.19245744]])"
      ]
     },
     "execution_count": 304,
     "metadata": {},
     "output_type": "execute_result"
    }
   ],
   "source": [
    "c = model.coef_\n",
    "c\n",
    "\n"
   ]
  },
  {
   "cell_type": "code",
   "execution_count": 305,
   "metadata": {},
   "outputs": [
    {
     "data": {
      "text/plain": [
       "array([6536.49525715])"
      ]
     },
     "execution_count": 305,
     "metadata": {},
     "output_type": "execute_result"
    }
   ],
   "source": [
    "m = model.intercept_\n",
    "m\n",
    "\n",
    "# m = np.squeeze(np.asarray(m))\n",
    "# m"
   ]
  },
  {
   "cell_type": "code",
   "execution_count": 306,
   "metadata": {},
   "outputs": [
    {
     "data": {
      "text/plain": [
       "array([[1.75],\n",
       "       [2.5 ],\n",
       "       [2.5 ],\n",
       "       ...,\n",
       "       [1.75],\n",
       "       [2.5 ],\n",
       "       [1.  ]])"
      ]
     },
     "execution_count": 306,
     "metadata": {},
     "output_type": "execute_result"
    }
   ],
   "source": [
    "xTest\n"
   ]
  },
  {
   "cell_type": "code",
   "execution_count": 307,
   "metadata": {},
   "outputs": [
    {
     "data": {
      "text/plain": [
       "array([[ 767094.07262948],\n",
       "       [1274132.45754437]])"
      ]
     },
     "execution_count": 307,
     "metadata": {},
     "output_type": "execute_result"
    }
   ],
   "source": [
    "# I want to predic the prize of a house that have \n",
    "model.predict(np.array([[3],[5]]))\n"
   ]
  },
  {
   "cell_type": "code",
   "execution_count": 24,
   "metadata": {},
   "outputs": [],
   "source": [
    "# sns.scatterpllot(np.log)"
   ]
  },
  {
   "cell_type": "code",
   "execution_count": null,
   "metadata": {},
   "outputs": [],
   "source": []
  },
  {
   "cell_type": "code",
   "execution_count": null,
   "metadata": {},
   "outputs": [],
   "source": []
  },
  {
   "cell_type": "code",
   "execution_count": null,
   "metadata": {},
   "outputs": [],
   "source": []
  },
  {
   "cell_type": "code",
   "execution_count": null,
   "metadata": {},
   "outputs": [],
   "source": []
  },
  {
   "cell_type": "code",
   "execution_count": 165,
   "metadata": {},
   "outputs": [],
   "source": [
    "#df['sqft_basement'][6] \n",
    "#df.sqft_basement.value_counts()\n",
    "#col_med = df.sqft_basement.median()"
   ]
  },
  {
   "cell_type": "code",
   "execution_count": null,
   "metadata": {},
   "outputs": [],
   "source": []
  },
  {
   "cell_type": "code",
   "execution_count": 166,
   "metadata": {},
   "outputs": [
    {
     "ename": "NameError",
     "evalue": "name 'col_med' is not defined",
     "output_type": "error",
     "traceback": [
      "\u001b[0;31m---------------------------------------------------------------------------\u001b[0m",
      "\u001b[0;31mNameError\u001b[0m                                 Traceback (most recent call last)",
      "\u001b[0;32m<ipython-input-166-c59c93cd94dd>\u001b[0m in \u001b[0;36m<module>\u001b[0;34m\u001b[0m\n\u001b[0;32m----> 1\u001b[0;31m \u001b[0mcol_med\u001b[0m\u001b[0;34m\u001b[0m\u001b[0;34m\u001b[0m\u001b[0m\n\u001b[0m",
      "\u001b[0;31mNameError\u001b[0m: name 'col_med' is not defined"
     ]
    }
   ],
   "source": [
    "col_med"
   ]
  },
  {
   "cell_type": "code",
   "execution_count": 167,
   "metadata": {},
   "outputs": [],
   "source": [
    "# df.plot.kde()"
   ]
  },
  {
   "cell_type": "code",
   "execution_count": 168,
   "metadata": {},
   "outputs": [
    {
     "ename": "AttributeError",
     "evalue": "'DataFrame' object has no attribute 'p'",
     "output_type": "error",
     "traceback": [
      "\u001b[0;31m---------------------------------------------------------------------------\u001b[0m",
      "\u001b[0;31mAttributeError\u001b[0m                            Traceback (most recent call last)",
      "\u001b[0;32m<ipython-input-168-d896aa847afc>\u001b[0m in \u001b[0;36m<module>\u001b[0;34m\u001b[0m\n\u001b[0;32m----> 1\u001b[0;31m \u001b[0mdf\u001b[0m\u001b[0;34m.\u001b[0m\u001b[0mp\u001b[0m\u001b[0;34m\u001b[0m\u001b[0;34m\u001b[0m\u001b[0m\n\u001b[0m",
      "\u001b[0;32m/Library/Frameworks/Python.framework/Versions/3.7/lib/python3.7/site-packages/pandas/core/generic.py\u001b[0m in \u001b[0;36m__getattr__\u001b[0;34m(self, name)\u001b[0m\n\u001b[1;32m   5065\u001b[0m             \u001b[0;32mif\u001b[0m \u001b[0mself\u001b[0m\u001b[0;34m.\u001b[0m\u001b[0m_info_axis\u001b[0m\u001b[0;34m.\u001b[0m\u001b[0m_can_hold_identifiers_and_holds_name\u001b[0m\u001b[0;34m(\u001b[0m\u001b[0mname\u001b[0m\u001b[0;34m)\u001b[0m\u001b[0;34m:\u001b[0m\u001b[0;34m\u001b[0m\u001b[0;34m\u001b[0m\u001b[0m\n\u001b[1;32m   5066\u001b[0m                 \u001b[0;32mreturn\u001b[0m \u001b[0mself\u001b[0m\u001b[0;34m[\u001b[0m\u001b[0mname\u001b[0m\u001b[0;34m]\u001b[0m\u001b[0;34m\u001b[0m\u001b[0;34m\u001b[0m\u001b[0m\n\u001b[0;32m-> 5067\u001b[0;31m             \u001b[0;32mreturn\u001b[0m \u001b[0mobject\u001b[0m\u001b[0;34m.\u001b[0m\u001b[0m__getattribute__\u001b[0m\u001b[0;34m(\u001b[0m\u001b[0mself\u001b[0m\u001b[0;34m,\u001b[0m \u001b[0mname\u001b[0m\u001b[0;34m)\u001b[0m\u001b[0;34m\u001b[0m\u001b[0;34m\u001b[0m\u001b[0m\n\u001b[0m\u001b[1;32m   5068\u001b[0m \u001b[0;34m\u001b[0m\u001b[0m\n\u001b[1;32m   5069\u001b[0m     \u001b[0;32mdef\u001b[0m \u001b[0m__setattr__\u001b[0m\u001b[0;34m(\u001b[0m\u001b[0mself\u001b[0m\u001b[0;34m,\u001b[0m \u001b[0mname\u001b[0m\u001b[0;34m,\u001b[0m \u001b[0mvalue\u001b[0m\u001b[0;34m)\u001b[0m\u001b[0;34m:\u001b[0m\u001b[0;34m\u001b[0m\u001b[0;34m\u001b[0m\u001b[0m\n",
      "\u001b[0;31mAttributeError\u001b[0m: 'DataFrame' object has no attribute 'p'"
     ]
    }
   ],
   "source": [
    "df.p"
   ]
  },
  {
   "cell_type": "code",
   "execution_count": 169,
   "metadata": {},
   "outputs": [
    {
     "ename": "SyntaxError",
     "evalue": "positional argument follows keyword argument (<ipython-input-169-a29c210dd053>, line 1)",
     "output_type": "error",
     "traceback": [
      "\u001b[0;36m  File \u001b[0;32m\"<ipython-input-169-a29c210dd053>\"\u001b[0;36m, line \u001b[0;32m1\u001b[0m\n\u001b[0;31m    df.hist(bins = 50 , fi)\u001b[0m\n\u001b[0m                       ^\u001b[0m\n\u001b[0;31mSyntaxError\u001b[0m\u001b[0;31m:\u001b[0m positional argument follows keyword argument\n"
     ]
    }
   ],
   "source": [
    "df.hist(bins = 50 , fi)"
   ]
  },
  {
   "cell_type": "code",
   "execution_count": 170,
   "metadata": {},
   "outputs": [
    {
     "ename": "SyntaxError",
     "evalue": "invalid syntax (<ipython-input-170-715c0e0c8038>, line 4)",
     "output_type": "error",
     "traceback": [
      "\u001b[0;36m  File \u001b[0;32m\"<ipython-input-170-715c0e0c8038>\"\u001b[0;36m, line \u001b[0;32m4\u001b[0m\n\u001b[0;31m    df.\u001b[0m\n\u001b[0m       ^\u001b[0m\n\u001b[0;31mSyntaxError\u001b[0m\u001b[0;31m:\u001b[0m invalid syntax\n"
     ]
    }
   ],
   "source": [
    "#normalize the prize and all sqrfodos # do the logs to normalize the dataaa\n",
    "df.price = np.log(df.price)\n",
    "df.sqft_above = np.log(df.sqft_basement)\n",
    "df."
   ]
  },
  {
   "cell_type": "code",
   "execution_count": null,
   "metadata": {},
   "outputs": [],
   "source": []
  },
  {
   "cell_type": "code",
   "execution_count": null,
   "metadata": {},
   "outputs": [],
   "source": []
  },
  {
   "cell_type": "code",
   "execution_count": null,
   "metadata": {},
   "outputs": [],
   "source": []
  },
  {
   "cell_type": "code",
   "execution_count": null,
   "metadata": {},
   "outputs": [],
   "source": []
  },
  {
   "cell_type": "code",
   "execution_count": null,
   "metadata": {},
   "outputs": [],
   "source": []
  }
 ],
 "metadata": {
  "kernelspec": {
   "display_name": "Python 3",
   "language": "python",
   "name": "python3"
  },
  "language_info": {
   "codemirror_mode": {
    "name": "ipython",
    "version": 3
   },
   "file_extension": ".py",
   "mimetype": "text/x-python",
   "name": "python",
   "nbconvert_exporter": "python",
   "pygments_lexer": "ipython3",
   "version": "3.7.1"
  }
 },
 "nbformat": 4,
 "nbformat_minor": 2
}
