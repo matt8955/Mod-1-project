{
 "cells": [
  {
   "cell_type": "markdown",
   "metadata": {
    "slideshow": {
     "slide_type": "slide"
    }
   },
   "source": [
    "# Project Mod 1\n",
    "\n",
    "```Minna Fingerhood\n",
    "Matthew Wasserman\n",
    "Cristina Mulas```\n"
   ]
  },
  {
   "cell_type": "markdown",
   "metadata": {
    "slideshow": {
     "slide_type": "slide"
    }
   },
   "source": [
    "# DATA CLEANING\n",
    "```from functions import *\n",
    "df = pd.read_csv('kc_house_data.csv')\n",
    "#use function remove_outliers from our data\n",
    "remove_outliers(df, df.columns)  \n",
    "#function for clean_data\n",
    "clean_data(df) #cleans our data\n",
    "df = replace_null_w_median(['sqft_basement'], df)```\n",
    "\n",
    "\n",
    "\n",
    "\n",
    "\n"
   ]
  },
  {
   "cell_type": "markdown",
   "metadata": {},
   "source": []
  }
 ],
 "metadata": {
  "celltoolbar": "Slideshow",
  "kernelspec": {
   "display_name": "Python 3",
   "language": "python",
   "name": "python3"
  },
  "language_info": {
   "codemirror_mode": {
    "name": "ipython",
    "version": 3
   },
   "file_extension": ".py",
   "mimetype": "text/x-python",
   "name": "python",
   "nbconvert_exporter": "python",
   "pygments_lexer": "ipython3",
   "version": "3.7.1"
  }
 },
 "nbformat": 4,
 "nbformat_minor": 2
}
